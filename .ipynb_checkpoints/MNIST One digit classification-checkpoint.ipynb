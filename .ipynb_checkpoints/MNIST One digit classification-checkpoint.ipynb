{
 "cells": [
  {
   "cell_type": "code",
   "execution_count": 78,
   "id": "4ddbca2f",
   "metadata": {},
   "outputs": [],
   "source": [
    "import numpy as np\n",
    "import pandas as pd\n",
    "import scipy\n",
    "from scipy.stats import multivariate_normal\n",
    "from scipy.sparse import linalg\n",
    "import matplotlib.pyplot as plt\n",
    "from matplotlib import cm\n",
    "from tqdm.notebook import tqdm, trange\n",
    "import time # to be used in loop iterations\n",
    "np.random.seed(1234)"
   ]
  },
  {
   "cell_type": "code",
   "execution_count": 99,
   "id": "25671ecc",
   "metadata": {},
   "outputs": [],
   "source": [
    "def sigmoid(x):\n",
    "    if x < 0:\n",
    "        return np.exp(x)/(1+np.exp(x))\n",
    "    else:\n",
    "        return 1/(1+np.exp(-x))\n",
    "vsigmoid = np.vectorize(sigmoid)\n",
    "    "
   ]
  },
  {
   "cell_type": "code",
   "execution_count": 79,
   "id": "66092d48",
   "metadata": {},
   "outputs": [],
   "source": [
    "#standardising dataset\n",
    "def standardise_mlp(X):\n",
    "    \"\"\"\n",
    "    Args:\n",
    "\n",
    "    X: numpy array of shape (n_samples, n_features) representing the input data\n",
    "\n",
    "    Returns:\n",
    "\n",
    "    Xbar: numpy array of shape (n_samples, n_features) representing the standardized input data\n",
    "    \"\"\"\n",
    "    mu = np.mean(X, axis=0)\n",
    "    std = np.std(X, axis=0)\n",
    "    std_filled = std.copy()\n",
    "    std_filled[std==0] = 1.\n",
    "    Xstd = ((X-mu)/std_filled)\n",
    "    return Xstd"
   ]
  },
  {
   "cell_type": "code",
   "execution_count": 93,
   "id": "894c6cd5",
   "metadata": {},
   "outputs": [],
   "source": [
    "# Load training data \n",
    "\n",
    "#train data\n",
    "data = pd.read_csv('MNIST_train.csv')\n",
    "\n",
    "#training set ground truth labels\n",
    "y_train = np.squeeze(np.array(data[data.columns[0]]))\n",
    "\n",
    "train_data = data[data.columns[1:]].to_numpy()\n",
    "\n",
    "#standardise train data\n",
    "train_data_std = standardise_mlp(train_data)\n",
    "\n",
    "#test data\n",
    "test_data = pd.read_csv('MNIST_test.csv')\n",
    "\n",
    "#test set ground truth labels\n",
    "y_test = np.array(test_data[test_data.columns[0]])\n",
    "\n",
    "test_data = test_data[test_data.columns[1:]].to_numpy()\n",
    "\n",
    "#standardise test data\n",
    "test_data_std = standardise_mlp(test_data)\n",
    "\n",
    "x_train = train_data_std\n",
    "y_train = one_hot_encode(y_train)\n",
    "x_test = test_data_std\n",
    "y_test = one_hot_encode(y_test)"
   ]
  },
  {
   "cell_type": "code",
   "execution_count": null,
   "id": "4f0f313f",
   "metadata": {},
   "outputs": [],
   "source": [
    "def softmax(y):\n",
    "    \"\"\"\n",
    "    Computes the softmax activation function on the given input array y.\n",
    "    \"\"\"\n",
    "    if y.shape[0]==1:\n",
    "        y = np.squeeze(y)\n",
    "        max_y = np.max(y)\n",
    "        y = y - max_y\n",
    "        return np.exp(y)/np.sum(np.exp(y))\n",
    "    else:\n",
    "        max_y = np.max(y, axis = 1)\n",
    "        y = y - max_y.reshape(-1,1)\n",
    "        return np.exp(y)/np.sum(np.exp(y), axis=1).reshape(-1,1)"
   ]
  },
  {
   "cell_type": "code",
   "execution_count": 100,
   "id": "27eac28b",
   "metadata": {},
   "outputs": [],
   "source": [
    "def neural_net(x,w,c):\n",
    "    #shape of x: (n,d)\n",
    "    #shape of w: (N,d)\n",
    "    #shape of c: (10, N)\n",
    "    n = x.shape[0]\n",
    "    d = x.shape[1]\n",
    "    N = w.shape[0]\n",
    "    return softmax((1/N*c@vsigmoid(w@x.T)).reshape(n,10))"
   ]
  },
  {
   "cell_type": "code",
   "execution_count": 3,
   "id": "0628c1f7",
   "metadata": {},
   "outputs": [],
   "source": [
    "def one_hot_encode(y):\n",
    "    \"\"\"\n",
    "    Encodes a 1-D array of labels into one-hot vectors.\n",
    "    \"\"\"\n",
    "    num_classes = np.max(y) + 1  # number of unique classes\n",
    "    y_batch_prob = np.zeros((y.shape[0], num_classes))\n",
    "\n",
    "    for i in range(y.shape[0]):\n",
    "        y_batch_prob[i, y[i]] = 1.\n",
    "\n",
    "    return y_batch_prob"
   ]
  },
  {
   "cell_type": "code",
   "execution_count": 214,
   "id": "45c6eedb",
   "metadata": {},
   "outputs": [],
   "source": [
    "def train(x_train, y_train, x_test, y_test, N = 100, learning_rate = 1e-2):\n",
    "    losses = []\n",
    "    #Initialise Params\n",
    "    M,d = x_train.shape\n",
    "    var_w = 6. / (d+N)\n",
    "    var_c = 6./ (10+N)\n",
    "    w =  np.random.multivariate_normal([0]*d, np.diag([np.sqrt(var_w)]*d), N).reshape(N,d)\n",
    "    c =  np.random.uniform(-1000, 1000, (10,N))\n",
    "    \n",
    "    #sgd - update weights (using KL loss)\n",
    "    count = 1\n",
    "    \n",
    "    for x,y in tqdm(zip(x_train,y_train)):\n",
    "        y = y.reshape(1,-1)\n",
    "        x = x.reshape(1,-1)\n",
    "        f = neural_net(x,w,c).reshape(1,-1)\n",
    "        dw = 1/N * ((f-y)@c).T*(vsigmoid(w@x.T)*(1-vsigmoid(w@x.T)))*x\n",
    "        dc = 1/N * (f-y).T*vsigmoid(w@x.T).reshape(1,-1)\n",
    "        w -= learning_rate*dw\n",
    "        c -= learning_rate*dc\n",
    "        if count in [1, 10 , 100] or count in (10**np.linspace(3, 5.7, 20)).astype(int): \n",
    "            f_test = neural_net(x_test,w,c).reshape(-1,10)\n",
    "            KL_loss = np.mean(y_test[np.where(y_test != 0)]\\\n",
    "            *np.log(y_test[np.where(y_test != 0)]/f_test[np.where(y_test != 0)]))\n",
    "            print('Epoch count: {}, Loss: {}'.format(count, KL_loss))\n",
    "            losses.append(KL_loss)\n",
    "        count += 1 \n",
    "        \n",
    "    return np.ndarray.flatten(c[4,:]), losses"
   ]
  },
  {
   "cell_type": "code",
   "execution_count": 220,
   "id": "1cb314cc",
   "metadata": {
    "scrolled": true
   },
   "outputs": [
    {
     "data": {
      "application/vnd.jupyter.widget-view+json": {
       "model_id": "5c66a71a36fa41eebb57686d28a3059b",
       "version_major": 2,
       "version_minor": 0
      },
      "text/plain": [
       "0it [00:00, ?it/s]"
      ]
     },
     "metadata": {},
     "output_type": "display_data"
    },
    {
     "name": "stdout",
     "output_type": "stream",
     "text": [
      "Epoch count: 1, Loss: 58.09416228676865\n",
      "Epoch count: 10, Loss: 58.422419437325594\n",
      "Epoch count: 100, Loss: 49.76477214331615\n",
      "Epoch count: 1000, Loss: 36.849151946707075\n",
      "Epoch count: 1387, Loss: 39.45474294700572\n",
      "Epoch count: 1924, Loss: 39.22035240917004\n",
      "Epoch count: 2668, Loss: 38.34857105969069\n",
      "Epoch count: 3701, Loss: 38.384167818840034\n",
      "Epoch count: 5134, Loss: 38.80907347287243\n",
      "Epoch count: 7122, Loss: 37.64649381315098\n",
      "Epoch count: 9879, Loss: 36.19996369274628\n",
      "Epoch count: 13703, Loss: 32.34941733205912\n",
      "Epoch count: 19008, Loss: 30.301730817655887\n",
      "Epoch count: 26366, Loss: 28.64454809568646\n",
      "Epoch count: 36572, Loss: 28.098761315234118\n",
      "Epoch count: 50729, Loss: 23.473939284999656\n"
     ]
    }
   ],
   "source": [
    "c_200, losses = train(x_train, y_train, x_test, y_test, N = 100, learning_rate = 1e3)"
   ]
  },
  {
   "cell_type": "code",
   "execution_count": 221,
   "id": "9bc05eaf",
   "metadata": {},
   "outputs": [
    {
     "data": {
      "text/plain": [
       "<matplotlib.legend.Legend at 0x7f81412fe370>"
      ]
     },
     "execution_count": 221,
     "metadata": {},
     "output_type": "execute_result"
    },
    {
     "data": {
      "image/png": "[encoded data removed]",
      "text/plain": [
       "<Figure size 640x480 with 1 Axes>"
      ]
     },
     "metadata": {},
     "output_type": "display_data"
    }
   ],
   "source": [
    "plt.hist(c_200, label = 'N: 200')\n",
    "plt.legend()"
   ]
  },
  {
   "cell_type": "code",
   "execution_count": 219,
   "id": "6c56c086",
   "metadata": {},
   "outputs": [
    {
     "data": {
      "text/plain": [
       "[<matplotlib.lines.Line2D at 0x7f81470b8100>]"
      ]
     },
     "execution_count": 219,
     "metadata": {},
     "output_type": "execute_result"
    },
    {
     "data": {
      "image/png": "[encoded data removed]",
      "text/plain": [
       "<Figure size 640x480 with 1 Axes>"
      ]
     },
     "metadata": {},
     "output_type": "display_data"
    }
   ],
   "source": [
    "plt.plot(losses)"
   ]
  },
  {
   "cell_type": "code",
   "execution_count": null,
   "id": "315a9001",
   "metadata": {},
   "outputs": [],
   "source": []
  }
 ],
 "metadata": {
  "kernelspec": {
   "display_name": "Python 3 (ipykernel)",
   "language": "python",
   "name": "python3"
  },
  "language_info": {
   "codemirror_mode": {
    "name": "ipython",
    "version": 3
   },
   "file_extension": ".py",
   "mimetype": "text/x-python",
   "name": "python",
   "nbconvert_exporter": "python",
   "pygments_lexer": "ipython3",
   "version": "3.8.16"
  }
 },
 "nbformat": 4,
 "nbformat_minor": 5
}
