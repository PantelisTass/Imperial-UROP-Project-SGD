{
 "cells": [
  {
   "cell_type": "code",
   "execution_count": 1,
   "id": "4ddbca2f",
   "metadata": {},
   "outputs": [],
   "source": [
    "import numpy as np\n",
    "import pandas as pd\n",
    "import scipy\n",
    "import random\n",
    "from scipy.stats import multivariate_normal\n",
    "from scipy.sparse import linalg\n",
    "import matplotlib.pyplot as plt\n",
    "from matplotlib import cm\n",
    "from tqdm.notebook import tqdm, trange\n",
    "import time # to be used in loop iterations\n",
    "np.random.seed(1234)"
   ]
  },
  {
   "cell_type": "markdown",
   "id": "f6d06124",
   "metadata": {},
   "source": [
    "## Single-digit neural single layer network trained on the MNIST dataset"
   ]
  },
  {
   "cell_type": "markdown",
   "id": "95fc0c32",
   "metadata": {},
   "source": [
    "I implemented a neural single layer network with symmetric architecture trained on the MNIST dataset that performs single digit architecture and tried to study the asymptotic distribution of network parameters as claimed in the 2019 paper by Sirgiano and Spiliopoulos entitled 'Mean Field Analysis of Neural Networks: A Law of Large Numbers'."
   ]
  },
  {
   "cell_type": "code",
   "execution_count": 2,
   "id": "25671ecc",
   "metadata": {},
   "outputs": [],
   "source": [
    "def sigmoid(x):\n",
    "    if x < 0:\n",
    "        return np.exp(x)/(1+np.exp(x))\n",
    "    else:\n",
    "        return 1/(1+np.exp(-x))\n",
    "vsigmoid = np.vectorize(sigmoid)   "
   ]
  },
  {
   "cell_type": "code",
   "execution_count": 3,
   "id": "66092d48",
   "metadata": {},
   "outputs": [],
   "source": [
    "#standardising dataset\n",
    "def standardise_mlp(X):\n",
    "    \"\"\"\n",
    "    Args:\n",
    "\n",
    "    X: numpy array of shape (n_samples, n_features) representing the input data\n",
    "\n",
    "    Returns:\n",
    "\n",
    "    Xbar: numpy array of shape (n_samples, n_features) representing the standardized input data\n",
    "    \"\"\"\n",
    "    mu = np.mean(X, axis=0)\n",
    "    std = np.std(X, axis=0)\n",
    "    std_filled = std.copy()\n",
    "    std_filled[std==0] = 1.\n",
    "    Xstd = ((X-mu)/std_filled)\n",
    "    return Xstd"
   ]
  },
  {
   "cell_type": "code",
   "execution_count": 4,
   "id": "894c6cd5",
   "metadata": {},
   "outputs": [],
   "source": [
    "# Load training data \n",
    "\n",
    "#train data\n",
    "data = pd.read_csv('MNIST_train.csv')\n",
    "\n",
    "#training set ground truth labels\n",
    "y_train = np.squeeze(np.array(data[data.columns[0]]))\n",
    "\n",
    "train_data = data[data.columns[1:]].to_numpy()\n",
    "\n",
    "#standardise train data\n",
    "train_data_std = standardise_mlp(train_data)\n",
    "\n",
    "#test data\n",
    "test_data = pd.read_csv('MNIST_test.csv')\n",
    "\n",
    "#test set ground truth labels\n",
    "y_test = np.array(test_data[test_data.columns[0]])\n",
    "\n",
    "test_data = test_data[test_data.columns[1:]].to_numpy()\n",
    "\n",
    "#standardise test data\n",
    "test_data_std = standardise_mlp(test_data)\n",
    "\n",
    "\n",
    "x_train = train_data_std\n",
    "y_train = np.where(y_train == 0,  1, -1)\n",
    "x_test = test_data_std\n",
    "y_test = np.where(y_test == 0,  1, -1)"
   ]
  },
  {
   "cell_type": "code",
   "execution_count": 5,
   "id": "27eac28b",
   "metadata": {},
   "outputs": [],
   "source": [
    "def neural_net(x,w,c):\n",
    "    \"\"\"\n",
    "    Compute the output of a neural network with given weights and coefficients.\n",
    "\n",
    "    Parameters:\n",
    "    x (np.ndarray): Input data with shape (n, d).\n",
    "    w (np.ndarray): Weight matrix with shape (N, d).\n",
    "    c (np.ndarray): Coefficients of the neural network with shape (1, N).\n",
    "\n",
    "    Returns:\n",
    "    np.ndarray: The output of the neural network with shape (1, n).\n",
    "    \"\"\"\n",
    "    n = x.shape[0]\n",
    "    d = x.shape[1]\n",
    "    N = w.shape[0]\n",
    "    return (1/N*c@vsigmoid(w@x.T)).reshape(1,n)"
   ]
  },
  {
   "cell_type": "code",
   "execution_count": 20,
   "id": "45c6eedb",
   "metadata": {},
   "outputs": [],
   "source": [
    "def train(x_train, y_train, x_test, y_test, N = 100, learning_rate = 1e-2):\n",
    "    \"\"\"\n",
    "    Train a neural network with a specified number of units (N) using stochastic gradient descent.\n",
    "\n",
    "    Parameters:\n",
    "    x_train (np.ndarray): Training input data with shape (M, d).\n",
    "    y_train (np.ndarray): Training target data with shape (M, 1).\n",
    "    x_test (np.ndarray): Testing input data with shape (M_test, d).\n",
    "    y_test (np.ndarray): Testing target data with shape (M_test, 1).\n",
    "    N (int): The number of neural network units (default is 100).\n",
    "    learning_rate (float): The learning rate for stochastic gradient descent (default is 1e-2).\n",
    "\n",
    "    Returns:\n",
    "    tuple: A tuple containing the trained coefficients 'c' and weights 'w', flattened coefficients 'c_flat',\n",
    "           and a list of loss values during training.\n",
    "    \"\"\"\n",
    "    losses = []\n",
    "    #Initialise Params\n",
    "    M,d = x_train.shape\n",
    "    var_w = 6. / (d+N)\n",
    "    var_c = 6./ (10+N)\n",
    "    w =  np.random.multivariate_normal([0]*d, np.diag([np.sqrt(var_w)]*d), N).reshape(N,d)\n",
    "    c =  np.random.uniform(-1000, 1000, (1,N))\n",
    "    \n",
    "    #sgd - update weights (using KL loss)\n",
    "    epoch = 1\n",
    "    \n",
    "    while epoch < 1e6:\n",
    "        #shuffle training data\n",
    "        indices = np.arange(y_train.size)\n",
    "        np.random.shuffle(indices)\n",
    "        x_train = x_train[indices,:]\n",
    "        y_train = y_train[indices]\n",
    "        \n",
    "        for x,y in tqdm(zip(x_train,y_train)):\n",
    "            y = y.reshape(1,-1)\n",
    "            x = x.reshape(1,-1)\n",
    "            f = neural_net(x,w,c).reshape(1,-1)\n",
    "            s = vsigmoid(w@x.T)\n",
    "            dw = 1/N * ((f-y)@c).T*(s*(1-s))*x\n",
    "            dc = 1/N * (f-y).T*s.reshape(1,-1)\n",
    "            w -= learning_rate*dw\n",
    "            c -= learning_rate*dc\n",
    "\n",
    "            if  epoch in [1, 10 , 100] + list((10**np.linspace(3, 6, 30)).astype(int)): \n",
    "                f_test = neural_net(x_test,w,c).reshape(-1,1)\n",
    "                y_test = y_test.reshape(-1,1)\n",
    "                loss = 0.5*np.mean((f_test-y_test)**2)\n",
    "                print('Epoch count: {}, Loss: {}'.format(epoch, loss))\n",
    "                losses.append(loss)\n",
    "\n",
    "            epoch += 1 \n",
    "        \n",
    "    return c, w, np.ndarray.flatten(c), losses"
   ]
  },
  {
   "cell_type": "code",
   "execution_count": 7,
   "id": "f16b9795",
   "metadata": {},
   "outputs": [],
   "source": [
    "def nesterov_train(x_train, y_train, x_test, y_test, N = 100, r = 3, learning_rate = 1e-2):\n",
    "    \"\"\"\n",
    "    Train a neural network with a specified number of units (N) using Nesterov's accelerated gradient descent.\n",
    "\n",
    "    Parameters:\n",
    "    x_train (np.ndarray): Training input data with shape (M, d).\n",
    "    y_train (np.ndarray): Training target data with shape (M, 1).\n",
    "    x_test (np.ndarray): Testing input data with shape (M_test, d).\n",
    "    y_test (np.ndarray): Testing target data with shape (M_test, 1).\n",
    "    N (int): The number of neural network units (default is 100).\n",
    "    r (int): The number of steps for Nesterov's acceleration (default is 3).\n",
    "    learning_rate (float): The learning rate for Nesterov's SGD (default is 1e-2).\n",
    "\n",
    "    Returns:\n",
    "    tuple: A tuple containing the trained coefficients 'c' and weights 'w', flattened coefficients 'c_flat',\n",
    "           and a list of loss values during training.\n",
    "    \"\"\"\n",
    "    losses = []\n",
    "    #Initialise Params\n",
    "    M,d = x_train.shape\n",
    "    var_w = 6. / (d+N)\n",
    "    var_c = 6./ (10+N)\n",
    "    w =  np.random.multivariate_normal([0]*d, np.diag([np.sqrt(var_w)]*d), N).reshape(N,d)\n",
    "    c =  np.random.uniform(-1000, 1000, (1,N))\n",
    "    w_change = w\n",
    "    c_change = c\n",
    "    \n",
    "    epoch = 1\n",
    "    while epoch < 1e6:\n",
    "        #shuffle training data\n",
    "        indices = np.arange(y_train.size)\n",
    "        np.random.shuffle(indices)\n",
    "        x_train = x_train[indices,:]\n",
    "        y_train = y_train[indices]\n",
    "    \n",
    "        for x,y in tqdm(zip(x_train,y_train)):\n",
    "            y = y.reshape(1,-1)\n",
    "            x = x.reshape(1,-1)\n",
    "            f = neural_net(x,w_change,c_change).reshape(1,-1)\n",
    "            s = vsigmoid(w_change@x.T)\n",
    "            dw = 1/N * ((f-y)@c_change).T*(s*(1-s))*x\n",
    "            dc = 1/N * (f-y).T*s.reshape(1,-1)\n",
    "            w1 = w\n",
    "            c1 = c\n",
    "\n",
    "            if  epoch in [1, 10 , 100] + list((10**np.linspace(3, 6, 30)).astype(int)): \n",
    "                f_test = neural_net(x_test,w,c).reshape(-1,1)\n",
    "                y_test = y_test.reshape(-1,1)\n",
    "                loss = 0.5*np.mean((f_test-y_test)**2)\n",
    "                print('Epoch count: {}, Loss: {}'.format(epoch, loss))\n",
    "                losses.append(loss)\n",
    "\n",
    "            w_new = w_change - learning_rate*dw\n",
    "            c_new = c_change - learning_rate*dc\n",
    "            w_change = w_new + 0.9*(w_new-w1) \n",
    "            c_change = c_new + 0.9*(c_new-c1) \n",
    "            w = w_new\n",
    "            c = c_new\n",
    "\n",
    "            epoch += 1\n",
    "        \n",
    "    return c, w, np.ndarray.flatten(c), losses"
   ]
  },
  {
   "cell_type": "code",
   "execution_count": 41,
   "id": "84db9349",
   "metadata": {},
   "outputs": [],
   "source": [
    "def Hom_SGLD(x_train, y_train, x_test, y_test, indices_hom, N = 100,  M = 20, λ = 10, learning_rate = 1e-3):\n",
    "    \"\"\"\n",
    "    Train a neural network with a specified number of units (N) using Hamiltonian SGLD (Hom-SGLD).\n",
    "\n",
    "    Parameters:\n",
    "    x_train (np.ndarray): Training input data with shape (M, d).\n",
    "    y_train (np.ndarray): Training target data with shape (M, 1).\n",
    "    x_test (np.ndarray): Testing input data with shape (M_test, d).\n",
    "    y_test (np.ndarray): Testing target data with shape (M_test, 1).\n",
    "    N (int): The number of neural network units (default is 100).\n",
    "    M (int): The number of Hamiltonian SGLD steps (default is 20).\n",
    "    λ (float): The regularization parameter (default is 10).\n",
    "    learning_rate (float): The learning rate for Hom-SGLD (default is 1e-3).\n",
    "\n",
    "    Returns:\n",
    "    tuple: A tuple containing the trained coefficients 'c' and weights 'w', flattened coefficients 'c_flat',\n",
    "           and an array of loss values during training.\n",
    "    \"\"\"\n",
    "\n",
    "    #initialise Params\n",
    "    d = x_train.shape[1]\n",
    "    var_w = 6. / (d+N)\n",
    "    var_c = 6./ (10+N)\n",
    "    w =  np.random.multivariate_normal([0]*d, np.diag([np.sqrt(var_w)]*d), N).reshape(N,d)\n",
    "    c =  np.random.uniform(-1000, 1000, (1,N))\n",
    "    \n",
    "    #initialise fast time scale variables Y as a numpy matrix with dimensions (num_epochs, N, M)\n",
    "    Y_w = np.zeros((M+1, N, d))\n",
    "    Y_c = np.zeros((M+1, N))\n",
    "    \n",
    "    losses = []\n",
    "    \n",
    "    epoch = 1\n",
    "    while epoch < 1e6:\n",
    "        #shuffle training data\n",
    "        indices = np.arange(y_train.size)\n",
    "        np.random.shuffle(indices)\n",
    "        x_train = x_train[indices,:]\n",
    "        y_train = y_train[indices]\n",
    "    \n",
    "        for x,y in tqdm(zip(x_train,y_train)):\n",
    "            y = y.reshape(1,-1)\n",
    "            x = x.reshape(1,-1)\n",
    "\n",
    "            #update Y\n",
    "            Y_w_1 = np.zeros((M+1, N, d))\n",
    "            Y_c_1 = np.zeros((M+1, N))\n",
    "            Y_w_1[0, :, :] = Y_w[-1, :, :] \n",
    "            Y_c_1[0, :] = Y_c[-1, :]\n",
    "\n",
    "            for m in range(1,M+1):\n",
    "                δ = 0.01/20\n",
    "                γ = 0.1\n",
    "                β = 10\n",
    "                f = neural_net(x, Y_w_1[m-1, :, :].reshape((N,d)),  Y_c_1[m-1, :].reshape((1,N)))\n",
    "                s = vsigmoid(Y_w_1[m-1, :, :].reshape((N,d))@x.T)\n",
    "                dw = 1/N * ((f-y)@Y_c_1[m-1,:].reshape(1,N)).T*(s*(1-s))*x\n",
    "                dc = 1/N * (f-y).T*s.reshape(1,-1)\n",
    "\n",
    "                Y_w_1[m, :,:] = Y_w_1[m-1, : ,:] - δ*(dw-(1/γ)*(w-Y_w_1[m-1, :, :]))\\\n",
    "                + np.sqrt(2*(δ/β))*np.random.normal(0,1,(N,d))\n",
    "                Y_c_1[m, :] = Y_c_1[m-1,:] - δ*(dc-(1/γ)*(c-Y_c_1[m-1, :]))\\\n",
    "                + np.sqrt(2*(δ/β))*np.random.normal(0,1,N)\n",
    "\n",
    "            Y_w[0, :, :] = Y_w_1[-1, :, :]\n",
    "            Y_c[0, :] = Y_c_1[-1, :]\n",
    "\n",
    "\n",
    "            cal_Y_w = np.mean(Y_w_1, axis = 0)\n",
    "            cal_Y_c = np.mean(Y_c_1, axis = 0)\n",
    "\n",
    "\n",
    "            #update model parameters\n",
    "            Δ = learning_rate\n",
    "            X = np.hstack((w, c.T))\n",
    "            mu = np.mean(X, axis = 1).reshape(1,N)\n",
    "            w = w - 1/γ*(w-cal_Y_w)*Δ - λ*(w - mu.T)*Δ\n",
    "            c = c - 1/γ*(c-cal_Y_c)*Δ - λ*(c - mu)*Δ\n",
    "\n",
    "            if  epoch in indices_hom: \n",
    "                f_test = neural_net(x_test,w,c).reshape(-1,1)\n",
    "                y_test = y_test.reshape(-1,1)\n",
    "                loss = 0.5*np.mean((f_test-y_test)**2)\n",
    "                print('Epoch count: {}, Loss: {}'.format(epoch, loss))\n",
    "                losses.append(loss)\n",
    "\n",
    "            epoch +=1\n",
    "                \n",
    "    return c, w, np.ndarray.flatten(c), np.array(losses)"
   ]
  },
  {
   "cell_type": "code",
   "execution_count": 9,
   "id": "b4085a58",
   "metadata": {},
   "outputs": [],
   "source": [
    "def Mass(x_train, y_train, x_test, y_test, N = 100,  M = 20, λ = 10, learning_rate = 1e-3):\n",
    "    \"\"\"\n",
    "    Train a neural network with a specified number of units (N) using Momentum-added Stochastic Solver (Mass).\n",
    "\n",
    "    Parameters:\n",
    "    x_train (np.ndarray): Training input data with shape (M, d).\n",
    "    y_train (np.ndarray): Training target data with shape (M, 1).\n",
    "    x_test (np.ndarray): Testing input data with shape (M_test, d).\n",
    "    y_test (np.ndarray): Testing target data with shape (M_test, 1).\n",
    "    N (int): The number of neural network units (default is 100).\n",
    "    M (int): The number of Mass steps (default is 20).\n",
    "    λ (float): The regularization parameter (default is 10).\n",
    "    learning_rate (float): The learning rate for Mass (default is 1e-3).\n",
    "\n",
    "    Returns:\n",
    "    tuple: A tuple containing the trained coefficients 'c' and weights 'w',\n",
    "           and an array of loss values during training.\n",
    "    \"\"\"\n",
    "\n",
    "    losses = []\n",
    "    #Initialise Params\n",
    "    M,d = x_train.shape\n",
    "    var_w = 6. / (d+N)\n",
    "    var_c = 6./ (10+N)\n",
    "    w =  np.random.multivariate_normal([0]*d, np.diag([np.sqrt(var_w)]*d), N).reshape(N,d)\n",
    "    c =  np.random.uniform(-1000, 1000, (1,N))\n",
    "    w_change = w\n",
    "    c_change = c\n",
    "    \n",
    "    epoch = 1\n",
    "    \n",
    "    while epoch < 1e6:\n",
    "        #shuffle training data\n",
    "        indices = np.arange(y_train.size)\n",
    "        np.random.shuffle(indices)\n",
    "        x_train = x_train[indices,:]\n",
    "        y_train = y_train[indices]\n",
    "        \n",
    "        for x,y in tqdm(zip(x_train, y_train)):\n",
    "            y = y.reshape(1,-1)\n",
    "            x = x.reshape(1,-1)\n",
    "            f = neural_net(x,w_change,c_change).reshape(1,-1)\n",
    "            s = vsigmoid(w_change@x.T)\n",
    "            dw = 1/N * ((f-y)@c_change).T*(s*(1-s))*x\n",
    "            dc = 1/N * (f-y).T*s.reshape(1,-1)\n",
    "            w1 = w\n",
    "            c1 = c\n",
    "\n",
    "            alpha = 0.05\n",
    "            m = 2\n",
    "            eta2 = learning_rate/(1+alpha)/m\n",
    "\n",
    "            w_new = w_change - learning_rate*dw\n",
    "            c_new = c_change - learning_rate*dc\n",
    "            w_change = w_new + 0.9*(w_new-w1) - eta2*dw\n",
    "            c_change = c_new + 0.9*(c_new-c1) - eta2*dc\n",
    "            w = w_new\n",
    "            c = c_new\n",
    "\n",
    "            if  epoch in [1, 10, 100] + list((10**np.linspace(3, 6, 30)).astype(int)): \n",
    "                f_test = neural_net(x_test,w,c).reshape(-1,1)\n",
    "                y_test = y_test.reshape(-1,1)\n",
    "                loss = 0.5*np.mean((f_test-y_test)**2)\n",
    "                print('Epoch count: {}, Loss: {}'.format(epoch, loss))\n",
    "                losses.append(loss)\n",
    "\n",
    "            epoch +=1\n",
    "                \n",
    "    return c, w, np.array(losses)"
   ]
  },
  {
   "cell_type": "code",
   "execution_count": 11,
   "id": "5058551a",
   "metadata": {
    "scrolled": true
   },
   "outputs": [
    {
     "data": {
      "application/vnd.jupyter.widget-view+json": {
       "model_id": "a7f6e96ea9994f81806c6c5c2033f742",
       "version_major": 2,
       "version_minor": 0
      },
      "text/plain": [
       "0it [00:00, ?it/s]"
      ]
     },
     "metadata": {},
     "output_type": "display_data"
    },
    {
     "name": "stdout",
     "output_type": "stream",
     "text": [
      "Epoch count: 1, Loss: 7348.41488300497\n",
      "Epoch count: 10, Loss: 20565.727570276325\n",
      "Epoch count: 100, Loss: 14209.33978665551\n",
      "Epoch count: 1000, Loss: 4607.361986907201\n",
      "Epoch count: 1268, Loss: 4352.191757501954\n",
      "Epoch count: 1610, Loss: 3664.7704378687554\n",
      "Epoch count: 2043, Loss: 2950.3284657803283\n",
      "Epoch count: 2592, Loss: 2555.7920864419607\n",
      "Epoch count: 3290, Loss: 2213.288870739998\n",
      "Epoch count: 4175, Loss: 2039.9638065878607\n",
      "Epoch count: 5298, Loss: 1776.6724554069322\n",
      "Epoch count: 6723, Loss: 1712.1598937779443\n",
      "Epoch count: 8531, Loss: 1678.405089244947\n",
      "Epoch count: 10826, Loss: 1470.2055652175136\n",
      "Epoch count: 13738, Loss: 1401.33710827264\n",
      "Epoch count: 17433, Loss: 1208.6649329776421\n",
      "Epoch count: 22122, Loss: 1083.240698442485\n",
      "Epoch count: 28072, Loss: 932.7493335735018\n",
      "Epoch count: 35622, Loss: 779.2566374258823\n",
      "Epoch count: 45203, Loss: 607.2928398063681\n",
      "Epoch count: 57361, Loss: 425.4051298074335\n"
     ]
    },
    {
     "data": {
      "application/vnd.jupyter.widget-view+json": {
       "model_id": "1ca6518898f34cfea791512d816aea02",
       "version_major": 2,
       "version_minor": 0
      },
      "text/plain": [
       "0it [00:00, ?it/s]"
      ]
     },
     "metadata": {},
     "output_type": "display_data"
    },
    {
     "name": "stdout",
     "output_type": "stream",
     "text": [
      "Epoch count: 72789, Loss: 306.2365333945649\n",
      "Epoch count: 92367, Loss: 198.31724611638734\n",
      "Epoch count: 117210, Loss: 118.17164303038568\n"
     ]
    },
    {
     "data": {
      "application/vnd.jupyter.widget-view+json": {
       "model_id": "dafe68305537417cb155d6ec97027002",
       "version_major": 2,
       "version_minor": 0
      },
      "text/plain": [
       "0it [00:00, ?it/s]"
      ]
     },
     "metadata": {},
     "output_type": "display_data"
    },
    {
     "name": "stdout",
     "output_type": "stream",
     "text": [
      "Epoch count: 148735, Loss: 62.96534905749145\n"
     ]
    },
    {
     "data": {
      "application/vnd.jupyter.widget-view+json": {
       "model_id": "51e3161ff592429eb54a0195ecaa72ba",
       "version_major": 2,
       "version_minor": 0
      },
      "text/plain": [
       "0it [00:00, ?it/s]"
      ]
     },
     "metadata": {},
     "output_type": "display_data"
    },
    {
     "name": "stdout",
     "output_type": "stream",
     "text": [
      "Epoch count: 188739, Loss: 30.265219178621773\n",
      "Epoch count: 239502, Loss: 12.031243105177696\n"
     ]
    },
    {
     "data": {
      "application/vnd.jupyter.widget-view+json": {
       "model_id": "85f2108e93204e9d827d9cef06f4f8eb",
       "version_major": 2,
       "version_minor": 0
      },
      "text/plain": [
       "0it [00:00, ?it/s]"
      ]
     },
     "metadata": {},
     "output_type": "display_data"
    },
    {
     "data": {
      "application/vnd.jupyter.widget-view+json": {
       "model_id": "b19474e9b5b14ce0bc5e406d67a53901",
       "version_major": 2,
       "version_minor": 0
      },
      "text/plain": [
       "0it [00:00, ?it/s]"
      ]
     },
     "metadata": {},
     "output_type": "display_data"
    },
    {
     "name": "stdout",
     "output_type": "stream",
     "text": [
      "Epoch count: 303919, Loss: 3.8991524192042744\n"
     ]
    },
    {
     "data": {
      "application/vnd.jupyter.widget-view+json": {
       "model_id": "22179f4032b544cd978645f5053a12cb",
       "version_major": 2,
       "version_minor": 0
      },
      "text/plain": [
       "0it [00:00, ?it/s]"
      ]
     },
     "metadata": {},
     "output_type": "display_data"
    },
    {
     "name": "stdout",
     "output_type": "stream",
     "text": [
      "Epoch count: 385662, Loss: 1.033803409961528\n"
     ]
    },
    {
     "data": {
      "application/vnd.jupyter.widget-view+json": {
       "model_id": "6162e7714194480eb73d4cf65418e0e6",
       "version_major": 2,
       "version_minor": 0
      },
      "text/plain": [
       "0it [00:00, ?it/s]"
      ]
     },
     "metadata": {},
     "output_type": "display_data"
    },
    {
     "data": {
      "application/vnd.jupyter.widget-view+json": {
       "model_id": "c0c3ed8b4f8149acbb6a9820fc0a31d5",
       "version_major": 2,
       "version_minor": 0
      },
      "text/plain": [
       "0it [00:00, ?it/s]"
      ]
     },
     "metadata": {},
     "output_type": "display_data"
    },
    {
     "name": "stdout",
     "output_type": "stream",
     "text": [
      "Epoch count: 489390, Loss: 0.2970171102052978\n"
     ]
    },
    {
     "data": {
      "application/vnd.jupyter.widget-view+json": {
       "model_id": "e73376d01135498d8772f308a04ffad5",
       "version_major": 2,
       "version_minor": 0
      },
      "text/plain": [
       "0it [00:00, ?it/s]"
      ]
     },
     "metadata": {},
     "output_type": "display_data"
    },
    {
     "data": {
      "application/vnd.jupyter.widget-view+json": {
       "model_id": "590774c560e64132b22d6e928b3dad8e",
       "version_major": 2,
       "version_minor": 0
      },
      "text/plain": [
       "0it [00:00, ?it/s]"
      ]
     },
     "metadata": {},
     "output_type": "display_data"
    },
    {
     "name": "stdout",
     "output_type": "stream",
     "text": [
      "Epoch count: 621016, Loss: 0.17141721232398502\n"
     ]
    },
    {
     "data": {
      "application/vnd.jupyter.widget-view+json": {
       "model_id": "5648a652bd174b45bceb1ac3abc8209c",
       "version_major": 2,
       "version_minor": 0
      },
      "text/plain": [
       "0it [00:00, ?it/s]"
      ]
     },
     "metadata": {},
     "output_type": "display_data"
    },
    {
     "data": {
      "application/vnd.jupyter.widget-view+json": {
       "model_id": "cba9903407a34f328104cf28874ff21e",
       "version_major": 2,
       "version_minor": 0
      },
      "text/plain": [
       "0it [00:00, ?it/s]"
      ]
     },
     "metadata": {},
     "output_type": "display_data"
    },
    {
     "data": {
      "application/vnd.jupyter.widget-view+json": {
       "model_id": "cc47306201e54861bb27a60b534d5c1a",
       "version_major": 2,
       "version_minor": 0
      },
      "text/plain": [
       "0it [00:00, ?it/s]"
      ]
     },
     "metadata": {},
     "output_type": "display_data"
    },
    {
     "name": "stdout",
     "output_type": "stream",
     "text": [
      "Epoch count: 788046, Loss: 0.15851844407814733\n"
     ]
    },
    {
     "data": {
      "application/vnd.jupyter.widget-view+json": {
       "model_id": "c19499d9e6234cb4a8f51909e8d9f5c9",
       "version_major": 2,
       "version_minor": 0
      },
      "text/plain": [
       "0it [00:00, ?it/s]"
      ]
     },
     "metadata": {},
     "output_type": "display_data"
    },
    {
     "data": {
      "application/vnd.jupyter.widget-view+json": {
       "model_id": "7d133ce6ceca4ec49b5b106fb72730f6",
       "version_major": 2,
       "version_minor": 0
      },
      "text/plain": [
       "0it [00:00, ?it/s]"
      ]
     },
     "metadata": {},
     "output_type": "display_data"
    },
    {
     "data": {
      "application/vnd.jupyter.widget-view+json": {
       "model_id": "67a696cb8689407a96352b194b5f955a",
       "version_major": 2,
       "version_minor": 0
      },
      "text/plain": [
       "0it [00:00, ?it/s]"
      ]
     },
     "metadata": {},
     "output_type": "display_data"
    },
    {
     "name": "stdout",
     "output_type": "stream",
     "text": [
      "Epoch count: 1000000, Loss: 0.15799761997204506\n"
     ]
    }
   ],
   "source": [
    "c, w, risk_Mass = Mass(x_train, y_train, x_test, y_test, N = 10, learning_rate = 1e-3)"
   ]
  },
  {
   "cell_type": "code",
   "execution_count": 51,
   "id": "d81631f3",
   "metadata": {
    "scrolled": true
   },
   "outputs": [
    {
     "data": {
      "application/vnd.jupyter.widget-view+json": {
       "model_id": "de4e358b71884ce280b47ad4c0da4c6d",
       "version_major": 2,
       "version_minor": 0
      },
      "text/plain": [
       "0it [00:00, ?it/s]"
      ]
     },
     "metadata": {},
     "output_type": "display_data"
    },
    {
     "name": "stdout",
     "output_type": "stream",
     "text": [
      "Epoch count: 1, Loss: 46806.10709445893\n",
      "Epoch count: 10, Loss: 51986.65806044317\n",
      "Epoch count: 50, Loss: 13809.51782334446\n",
      "Epoch count: 100, Loss: 1951.4201985950851\n",
      "Epoch count: 200, Loss: 32.60608596972354\n",
      "Epoch count: 300, Loss: 0.3875173537470633\n",
      "Epoch count: 1000, Loss: 0.49995082390004314\n",
      "Epoch count: 1333, Loss: 0.5004176052549584\n",
      "Epoch count: 1778, Loss: 0.4997402462825044\n",
      "Epoch count: 2371, Loss: 0.49983079442471967\n",
      "Epoch count: 3162, Loss: 0.49982116455954273\n",
      "Epoch count: 4216, Loss: 0.5001695112320522\n",
      "Epoch count: 5000, Loss: 0.5000776608599385\n",
      "Epoch count: 5623, Loss: 0.49974959801083374\n",
      "Epoch count: 7000, Loss: 0.49992813764302935\n",
      "Epoch count: 7498, Loss: 0.49971894306705966\n",
      "Epoch count: 9000, Loss: 0.5004839399729268\n",
      "Epoch count: 10000, Loss: 0.4999283203867555\n",
      "Epoch count: 13335, Loss: 0.5002376763548395\n",
      "Epoch count: 17782, Loss: 0.49982691766067494\n",
      "Epoch count: 23713, Loss: 0.4996527884269768\n",
      "Epoch count: 31622, Loss: 0.4999847509953211\n",
      "Epoch count: 42169, Loss: 0.49987682527260396\n",
      "Epoch count: 56234, Loss: 0.4998446786009176\n"
     ]
    },
    {
     "data": {
      "application/vnd.jupyter.widget-view+json": {
       "model_id": "13a0c609fe6c4e33b4d1a59e9ccfc7f4",
       "version_major": 2,
       "version_minor": 0
      },
      "text/plain": [
       "0it [00:00, ?it/s]"
      ]
     },
     "metadata": {},
     "output_type": "display_data"
    },
    {
     "name": "stdout",
     "output_type": "stream",
     "text": [
      "Epoch count: 74989, Loss: 0.5002060409207614\n",
      "Epoch count: 100000, Loss: 0.4999553431286709\n"
     ]
    },
    {
     "data": {
      "application/vnd.jupyter.widget-view+json": {
       "model_id": "f45e10c49b48434390827a40802e6d24",
       "version_major": 2,
       "version_minor": 0
      },
      "text/plain": [
       "0it [00:00, ?it/s]"
      ]
     },
     "metadata": {},
     "output_type": "display_data"
    },
    {
     "name": "stdout",
     "output_type": "stream",
     "text": [
      "Epoch count: 133352, Loss: 0.49981552354537173\n",
      "Epoch count: 177827, Loss: 0.5000115854658759\n"
     ]
    },
    {
     "data": {
      "application/vnd.jupyter.widget-view+json": {
       "model_id": "f9b8b4cc2eb54c4f9c24931874c0ad7a",
       "version_major": 2,
       "version_minor": 0
      },
      "text/plain": [
       "0it [00:00, ?it/s]"
      ]
     },
     "metadata": {},
     "output_type": "display_data"
    },
    {
     "name": "stdout",
     "output_type": "stream",
     "text": [
      "Epoch count: 237137, Loss: 0.4999014724734736\n"
     ]
    },
    {
     "data": {
      "application/vnd.jupyter.widget-view+json": {
       "model_id": "d44735f4043342cc8a177316c4d8a777",
       "version_major": 2,
       "version_minor": 0
      },
      "text/plain": [
       "0it [00:00, ?it/s]"
      ]
     },
     "metadata": {},
     "output_type": "display_data"
    },
    {
     "data": {
      "application/vnd.jupyter.widget-view+json": {
       "model_id": "4fffd21f5de4476d8e87f8b4a34f7c57",
       "version_major": 2,
       "version_minor": 0
      },
      "text/plain": [
       "0it [00:00, ?it/s]"
      ]
     },
     "metadata": {},
     "output_type": "display_data"
    },
    {
     "name": "stdout",
     "output_type": "stream",
     "text": [
      "Epoch count: 316227, Loss: 0.4997612345214917\n"
     ]
    },
    {
     "data": {
      "application/vnd.jupyter.widget-view+json": {
       "model_id": "84a9c2ec762a4b3aae237ea8775054da",
       "version_major": 2,
       "version_minor": 0
      },
      "text/plain": [
       "0it [00:00, ?it/s]"
      ]
     },
     "metadata": {},
     "output_type": "display_data"
    },
    {
     "data": {
      "application/vnd.jupyter.widget-view+json": {
       "model_id": "6ac1918f466a435ca00f9498369e5a25",
       "version_major": 2,
       "version_minor": 0
      },
      "text/plain": [
       "0it [00:00, ?it/s]"
      ]
     },
     "metadata": {},
     "output_type": "display_data"
    },
    {
     "name": "stdout",
     "output_type": "stream",
     "text": [
      "Epoch count: 421696, Loss: 0.5001102850942841\n"
     ]
    },
    {
     "data": {
      "application/vnd.jupyter.widget-view+json": {
       "model_id": "ef539a87a6d1420abd21bd606682697b",
       "version_major": 2,
       "version_minor": 0
      },
      "text/plain": [
       "0it [00:00, ?it/s]"
      ]
     },
     "metadata": {},
     "output_type": "display_data"
    },
    {
     "data": {
      "application/vnd.jupyter.widget-view+json": {
       "model_id": "abfedb725cf448aa878345be8ed351ff",
       "version_major": 2,
       "version_minor": 0
      },
      "text/plain": [
       "0it [00:00, ?it/s]"
      ]
     },
     "metadata": {},
     "output_type": "display_data"
    },
    {
     "name": "stdout",
     "output_type": "stream",
     "text": [
      "Epoch count: 562341, Loss: 0.4997217305366644\n"
     ]
    },
    {
     "data": {
      "application/vnd.jupyter.widget-view+json": {
       "model_id": "a27297d1072446bdb55bb4064af08eb3",
       "version_major": 2,
       "version_minor": 0
      },
      "text/plain": [
       "0it [00:00, ?it/s]"
      ]
     },
     "metadata": {},
     "output_type": "display_data"
    },
    {
     "data": {
      "application/vnd.jupyter.widget-view+json": {
       "model_id": "4a346378f753415cb2c3f9f3e04b2a06",
       "version_major": 2,
       "version_minor": 0
      },
      "text/plain": [
       "0it [00:00, ?it/s]"
      ]
     },
     "metadata": {},
     "output_type": "display_data"
    },
    {
     "data": {
      "application/vnd.jupyter.widget-view+json": {
       "model_id": "847b895c12b2493d83c16a821dd1b8b9",
       "version_major": 2,
       "version_minor": 0
      },
      "text/plain": [
       "0it [00:00, ?it/s]"
      ]
     },
     "metadata": {},
     "output_type": "display_data"
    },
    {
     "name": "stdout",
     "output_type": "stream",
     "text": [
      "Epoch count: 749894, Loss: 0.499691418266007\n"
     ]
    },
    {
     "data": {
      "application/vnd.jupyter.widget-view+json": {
       "model_id": "b030f56e11bd4926b04d2155a135664d",
       "version_major": 2,
       "version_minor": 0
      },
      "text/plain": [
       "0it [00:00, ?it/s]"
      ]
     },
     "metadata": {},
     "output_type": "display_data"
    },
    {
     "data": {
      "application/vnd.jupyter.widget-view+json": {
       "model_id": "b808914eaad34216b310bb26efa47bd5",
       "version_major": 2,
       "version_minor": 0
      },
      "text/plain": [
       "0it [00:00, ?it/s]"
      ]
     },
     "metadata": {},
     "output_type": "display_data"
    },
    {
     "data": {
      "application/vnd.jupyter.widget-view+json": {
       "model_id": "e1c055ef5c274e2aabc1ab55e76f917e",
       "version_major": 2,
       "version_minor": 0
      },
      "text/plain": [
       "0it [00:00, ?it/s]"
      ]
     },
     "metadata": {},
     "output_type": "display_data"
    },
    {
     "data": {
      "application/vnd.jupyter.widget-view+json": {
       "model_id": "75708937d721450c89ae760218de21cf",
       "version_major": 2,
       "version_minor": 0
      },
      "text/plain": [
       "0it [00:00, ?it/s]"
      ]
     },
     "metadata": {},
     "output_type": "display_data"
    },
    {
     "name": "stdout",
     "output_type": "stream",
     "text": [
      "Epoch count: 1000000, Loss: 0.5001146270599478\n"
     ]
    }
   ],
   "source": [
    "#simulate HomSGLD\n",
    "indices_hom = [1, 10, 50, 100, 200, 300, 5000, 7000, 9000] + list((10**np.linspace(3, 6, 25)).astype(int))\n",
    "c_HomSGLD, weights_HomSGLD, params_HomSGLD, risk_HomSGLD,  =\\\n",
    "Hom_SGLD(x_train, y_train, x_test, y_test, indices_hom, N = 5, learning_rate = 1e-3)"
   ]
  },
  {
   "cell_type": "code",
   "execution_count": 21,
   "id": "1cb314cc",
   "metadata": {
    "scrolled": true
   },
   "outputs": [
    {
     "data": {
      "application/vnd.jupyter.widget-view+json": {
       "model_id": "d1fc601968104927b1ff30274c62efb0",
       "version_major": 2,
       "version_minor": 0
      },
      "text/plain": [
       "0it [00:00, ?it/s]"
      ]
     },
     "metadata": {},
     "output_type": "display_data"
    },
    {
     "name": "stdout",
     "output_type": "stream",
     "text": [
      "Epoch count: 1, Loss: 10277.434045142329\n",
      "Epoch count: 10, Loss: 6361.105031977786\n",
      "Epoch count: 100, Loss: 3027.067238129159\n",
      "Epoch count: 1000, Loss: 2247.753334507709\n",
      "Epoch count: 1268, Loss: 1827.7252227503154\n",
      "Epoch count: 1610, Loss: 1580.6896692546502\n",
      "Epoch count: 2043, Loss: 1639.5972081388622\n",
      "Epoch count: 2592, Loss: 1481.4926357967768\n",
      "Epoch count: 3290, Loss: 1425.4307411043983\n",
      "Epoch count: 4175, Loss: 1500.94527914512\n",
      "Epoch count: 5298, Loss: 1433.9628867178278\n",
      "Epoch count: 6723, Loss: 1439.6771639346437\n",
      "Epoch count: 8531, Loss: 1278.9161379234877\n",
      "Epoch count: 10826, Loss: 1223.8404347751891\n",
      "Epoch count: 13738, Loss: 1322.1156331047625\n",
      "Epoch count: 17433, Loss: 1063.2563720572762\n",
      "Epoch count: 22122, Loss: 1072.446577555196\n",
      "Epoch count: 28072, Loss: 965.7414881178707\n",
      "Epoch count: 35622, Loss: 939.9692928678943\n",
      "Epoch count: 45203, Loss: 882.2250547213993\n",
      "Epoch count: 57361, Loss: 859.5215527054926\n"
     ]
    },
    {
     "data": {
      "application/vnd.jupyter.widget-view+json": {
       "model_id": "f6cd0ef2c4694580bef9dd33416394dc",
       "version_major": 2,
       "version_minor": 0
      },
      "text/plain": [
       "0it [00:00, ?it/s]"
      ]
     },
     "metadata": {},
     "output_type": "display_data"
    },
    {
     "name": "stdout",
     "output_type": "stream",
     "text": [
      "Epoch count: 72789, Loss: 736.2771559016143\n",
      "Epoch count: 92367, Loss: 781.7537967710682\n",
      "Epoch count: 117210, Loss: 628.6626492637208\n"
     ]
    },
    {
     "data": {
      "application/vnd.jupyter.widget-view+json": {
       "model_id": "a02ea3d92535445fb3576de67b3f608a",
       "version_major": 2,
       "version_minor": 0
      },
      "text/plain": [
       "0it [00:00, ?it/s]"
      ]
     },
     "metadata": {},
     "output_type": "display_data"
    },
    {
     "name": "stdout",
     "output_type": "stream",
     "text": [
      "Epoch count: 148735, Loss: 569.3768127888029\n"
     ]
    },
    {
     "data": {
      "application/vnd.jupyter.widget-view+json": {
       "model_id": "da3296a0e5e04b9e8108f51e4cf650c4",
       "version_major": 2,
       "version_minor": 0
      },
      "text/plain": [
       "0it [00:00, ?it/s]"
      ]
     },
     "metadata": {},
     "output_type": "display_data"
    },
    {
     "name": "stdout",
     "output_type": "stream",
     "text": [
      "Epoch count: 188739, Loss: 572.6078959627544\n",
      "Epoch count: 239502, Loss: 509.2648609680998\n"
     ]
    },
    {
     "data": {
      "application/vnd.jupyter.widget-view+json": {
       "model_id": "e763fcbeaba64d4e9e57803ce5aba3c3",
       "version_major": 2,
       "version_minor": 0
      },
      "text/plain": [
       "0it [00:00, ?it/s]"
      ]
     },
     "metadata": {},
     "output_type": "display_data"
    },
    {
     "data": {
      "application/vnd.jupyter.widget-view+json": {
       "model_id": "45339ecaf998498d9c8d0308da1f36d0",
       "version_major": 2,
       "version_minor": 0
      },
      "text/plain": [
       "0it [00:00, ?it/s]"
      ]
     },
     "metadata": {},
     "output_type": "display_data"
    },
    {
     "name": "stdout",
     "output_type": "stream",
     "text": [
      "Epoch count: 303919, Loss: 422.878447450295\n"
     ]
    },
    {
     "data": {
      "application/vnd.jupyter.widget-view+json": {
       "model_id": "15219e5c6bf044e982846afc99ef2d8a",
       "version_major": 2,
       "version_minor": 0
      },
      "text/plain": [
       "0it [00:00, ?it/s]"
      ]
     },
     "metadata": {},
     "output_type": "display_data"
    },
    {
     "name": "stdout",
     "output_type": "stream",
     "text": [
      "Epoch count: 385662, Loss: 363.18969970108157\n"
     ]
    },
    {
     "data": {
      "application/vnd.jupyter.widget-view+json": {
       "model_id": "8effccf7a77c49c297a030370ec30243",
       "version_major": 2,
       "version_minor": 0
      },
      "text/plain": [
       "0it [00:00, ?it/s]"
      ]
     },
     "metadata": {},
     "output_type": "display_data"
    },
    {
     "data": {
      "application/vnd.jupyter.widget-view+json": {
       "model_id": "7fd6951a76494a1e9fc31eb8bc486af8",
       "version_major": 2,
       "version_minor": 0
      },
      "text/plain": [
       "0it [00:00, ?it/s]"
      ]
     },
     "metadata": {},
     "output_type": "display_data"
    },
    {
     "name": "stdout",
     "output_type": "stream",
     "text": [
      "Epoch count: 489390, Loss: 336.3156464491839\n"
     ]
    },
    {
     "data": {
      "application/vnd.jupyter.widget-view+json": {
       "model_id": "61ab13b6a6f24bc19d12516c8a852481",
       "version_major": 2,
       "version_minor": 0
      },
      "text/plain": [
       "0it [00:00, ?it/s]"
      ]
     },
     "metadata": {},
     "output_type": "display_data"
    },
    {
     "data": {
      "application/vnd.jupyter.widget-view+json": {
       "model_id": "cee296397b5449baaa1be112b567166d",
       "version_major": 2,
       "version_minor": 0
      },
      "text/plain": [
       "0it [00:00, ?it/s]"
      ]
     },
     "metadata": {},
     "output_type": "display_data"
    },
    {
     "name": "stdout",
     "output_type": "stream",
     "text": [
      "Epoch count: 621016, Loss: 232.9211794571054\n"
     ]
    },
    {
     "data": {
      "application/vnd.jupyter.widget-view+json": {
       "model_id": "8d0828d7d8374251af61f6db5caca7b7",
       "version_major": 2,
       "version_minor": 0
      },
      "text/plain": [
       "0it [00:00, ?it/s]"
      ]
     },
     "metadata": {},
     "output_type": "display_data"
    },
    {
     "data": {
      "application/vnd.jupyter.widget-view+json": {
       "model_id": "73954775df7d40cdbca493adc0f3d0b0",
       "version_major": 2,
       "version_minor": 0
      },
      "text/plain": [
       "0it [00:00, ?it/s]"
      ]
     },
     "metadata": {},
     "output_type": "display_data"
    },
    {
     "data": {
      "application/vnd.jupyter.widget-view+json": {
       "model_id": "71dc271dbc734ff0a84eb47609db3d77",
       "version_major": 2,
       "version_minor": 0
      },
      "text/plain": [
       "0it [00:00, ?it/s]"
      ]
     },
     "metadata": {},
     "output_type": "display_data"
    },
    {
     "name": "stdout",
     "output_type": "stream",
     "text": [
      "Epoch count: 788046, Loss: 173.42727757481623\n"
     ]
    },
    {
     "data": {
      "application/vnd.jupyter.widget-view+json": {
       "model_id": "4b9d095342dd4be0921b18ec917214fa",
       "version_major": 2,
       "version_minor": 0
      },
      "text/plain": [
       "0it [00:00, ?it/s]"
      ]
     },
     "metadata": {},
     "output_type": "display_data"
    },
    {
     "data": {
      "application/vnd.jupyter.widget-view+json": {
       "model_id": "5b8eb8cac5d6461d98ed7d3daa3ba0e8",
       "version_major": 2,
       "version_minor": 0
      },
      "text/plain": [
       "0it [00:00, ?it/s]"
      ]
     },
     "metadata": {},
     "output_type": "display_data"
    },
    {
     "data": {
      "application/vnd.jupyter.widget-view+json": {
       "model_id": "3716f179ac804a8bb516422640d58d9e",
       "version_major": 2,
       "version_minor": 0
      },
      "text/plain": [
       "0it [00:00, ?it/s]"
      ]
     },
     "metadata": {},
     "output_type": "display_data"
    },
    {
     "name": "stdout",
     "output_type": "stream",
     "text": [
      "Epoch count: 1000000, Loss: 138.53070738282537\n"
     ]
    }
   ],
   "source": [
    "c, w, params, risk_SGD = train(x_train, y_train, x_test, y_test, N = 10, learning_rate = 1e-3)"
   ]
  },
  {
   "cell_type": "code",
   "execution_count": 14,
   "id": "b1bbf6a5",
   "metadata": {
    "scrolled": true
   },
   "outputs": [
    {
     "data": {
      "application/vnd.jupyter.widget-view+json": {
       "model_id": "5affa2a30ad04d8a872b3ed7596478de",
       "version_major": 2,
       "version_minor": 0
      },
      "text/plain": [
       "0it [00:00, ?it/s]"
      ]
     },
     "metadata": {},
     "output_type": "display_data"
    },
    {
     "name": "stdout",
     "output_type": "stream",
     "text": [
      "Epoch count: 1, Loss: 4476.200154556692\n",
      "Epoch count: 10, Loss: 11358.588420621732\n",
      "Epoch count: 100, Loss: 7115.913316694467\n",
      "Epoch count: 1000, Loss: 4874.733886956194\n",
      "Epoch count: 1268, Loss: 4526.18407815155\n",
      "Epoch count: 1610, Loss: 3767.907792081626\n",
      "Epoch count: 2043, Loss: 4021.2000567923683\n",
      "Epoch count: 2592, Loss: 3097.5853792883313\n",
      "Epoch count: 3290, Loss: 2467.5428211861276\n",
      "Epoch count: 4175, Loss: 2172.7235607876287\n",
      "Epoch count: 5298, Loss: 1804.6703647132588\n",
      "Epoch count: 6723, Loss: 1535.2682143301756\n",
      "Epoch count: 8531, Loss: 1343.1896833821083\n",
      "Epoch count: 10826, Loss: 1232.4066871724274\n",
      "Epoch count: 13738, Loss: 1084.7263465572705\n",
      "Epoch count: 17433, Loss: 979.3029423703538\n",
      "Epoch count: 22122, Loss: 867.9564824106116\n",
      "Epoch count: 28072, Loss: 728.1421348397624\n",
      "Epoch count: 35622, Loss: 612.6001565862672\n",
      "Epoch count: 45203, Loss: 516.020670363302\n",
      "Epoch count: 57361, Loss: 429.9019209320308\n"
     ]
    },
    {
     "data": {
      "application/vnd.jupyter.widget-view+json": {
       "model_id": "c1ee3685128f44e69011aa80f493c2d9",
       "version_major": 2,
       "version_minor": 0
      },
      "text/plain": [
       "0it [00:00, ?it/s]"
      ]
     },
     "metadata": {},
     "output_type": "display_data"
    },
    {
     "name": "stdout",
     "output_type": "stream",
     "text": [
      "Epoch count: 72789, Loss: 330.4656340580026\n",
      "Epoch count: 92367, Loss: 244.42221308819506\n",
      "Epoch count: 117210, Loss: 167.96696215525702\n"
     ]
    },
    {
     "data": {
      "application/vnd.jupyter.widget-view+json": {
       "model_id": "5b425a21e2be433fb8e99722411071a3",
       "version_major": 2,
       "version_minor": 0
      },
      "text/plain": [
       "0it [00:00, ?it/s]"
      ]
     },
     "metadata": {},
     "output_type": "display_data"
    },
    {
     "name": "stdout",
     "output_type": "stream",
     "text": [
      "Epoch count: 148735, Loss: 107.97431383951988\n"
     ]
    },
    {
     "data": {
      "application/vnd.jupyter.widget-view+json": {
       "model_id": "a73c643bb1dd47cba9678d81681161c8",
       "version_major": 2,
       "version_minor": 0
      },
      "text/plain": [
       "0it [00:00, ?it/s]"
      ]
     },
     "metadata": {},
     "output_type": "display_data"
    },
    {
     "name": "stdout",
     "output_type": "stream",
     "text": [
      "Epoch count: 188739, Loss: 63.55900476476569\n",
      "Epoch count: 239502, Loss: 34.0171839314658\n"
     ]
    },
    {
     "data": {
      "application/vnd.jupyter.widget-view+json": {
       "model_id": "5a7ef141f70040b9822eb70f9dbf1bfe",
       "version_major": 2,
       "version_minor": 0
      },
      "text/plain": [
       "0it [00:00, ?it/s]"
      ]
     },
     "metadata": {},
     "output_type": "display_data"
    },
    {
     "data": {
      "application/vnd.jupyter.widget-view+json": {
       "model_id": "25a1c528cc224099b7f5f9971c693cb0",
       "version_major": 2,
       "version_minor": 0
      },
      "text/plain": [
       "0it [00:00, ?it/s]"
      ]
     },
     "metadata": {},
     "output_type": "display_data"
    },
    {
     "name": "stdout",
     "output_type": "stream",
     "text": [
      "Epoch count: 303919, Loss: 15.617980810604159\n"
     ]
    },
    {
     "data": {
      "application/vnd.jupyter.widget-view+json": {
       "model_id": "8867e0fd0ca94294a5257aad364a834f",
       "version_major": 2,
       "version_minor": 0
      },
      "text/plain": [
       "0it [00:00, ?it/s]"
      ]
     },
     "metadata": {},
     "output_type": "display_data"
    },
    {
     "name": "stdout",
     "output_type": "stream",
     "text": [
      "Epoch count: 385662, Loss: 5.9452568942269\n"
     ]
    },
    {
     "data": {
      "application/vnd.jupyter.widget-view+json": {
       "model_id": "5ece5ffc3b92495eb8db46f0090cb334",
       "version_major": 2,
       "version_minor": 0
      },
      "text/plain": [
       "0it [00:00, ?it/s]"
      ]
     },
     "metadata": {},
     "output_type": "display_data"
    },
    {
     "data": {
      "application/vnd.jupyter.widget-view+json": {
       "model_id": "da7e83e58821423086bf3ca8997a37f8",
       "version_major": 2,
       "version_minor": 0
      },
      "text/plain": [
       "0it [00:00, ?it/s]"
      ]
     },
     "metadata": {},
     "output_type": "display_data"
    },
    {
     "name": "stdout",
     "output_type": "stream",
     "text": [
      "Epoch count: 489390, Loss: 1.8517511819241352\n"
     ]
    },
    {
     "data": {
      "application/vnd.jupyter.widget-view+json": {
       "model_id": "06681e6547a844c2a6df75b9c892064b",
       "version_major": 2,
       "version_minor": 0
      },
      "text/plain": [
       "0it [00:00, ?it/s]"
      ]
     },
     "metadata": {},
     "output_type": "display_data"
    },
    {
     "data": {
      "application/vnd.jupyter.widget-view+json": {
       "model_id": "8120463b732f424bb2a4aeebea67c054",
       "version_major": 2,
       "version_minor": 0
      },
      "text/plain": [
       "0it [00:00, ?it/s]"
      ]
     },
     "metadata": {},
     "output_type": "display_data"
    },
    {
     "name": "stdout",
     "output_type": "stream",
     "text": [
      "Epoch count: 621016, Loss: 0.5203882702251037\n"
     ]
    },
    {
     "data": {
      "application/vnd.jupyter.widget-view+json": {
       "model_id": "814605a78142462fa495bbc89085e455",
       "version_major": 2,
       "version_minor": 0
      },
      "text/plain": [
       "0it [00:00, ?it/s]"
      ]
     },
     "metadata": {},
     "output_type": "display_data"
    },
    {
     "data": {
      "application/vnd.jupyter.widget-view+json": {
       "model_id": "59f1bdc96ed74f959cbe8d5ec1281992",
       "version_major": 2,
       "version_minor": 0
      },
      "text/plain": [
       "0it [00:00, ?it/s]"
      ]
     },
     "metadata": {},
     "output_type": "display_data"
    },
    {
     "data": {
      "application/vnd.jupyter.widget-view+json": {
       "model_id": "ba62830b8a9a4ba68a7e860e227e7dcd",
       "version_major": 2,
       "version_minor": 0
      },
      "text/plain": [
       "0it [00:00, ?it/s]"
      ]
     },
     "metadata": {},
     "output_type": "display_data"
    },
    {
     "name": "stdout",
     "output_type": "stream",
     "text": [
      "Epoch count: 788046, Loss: 0.21210028904329917\n"
     ]
    },
    {
     "data": {
      "application/vnd.jupyter.widget-view+json": {
       "model_id": "902baf51df284ef1b2e018d19fd58bfe",
       "version_major": 2,
       "version_minor": 0
      },
      "text/plain": [
       "0it [00:00, ?it/s]"
      ]
     },
     "metadata": {},
     "output_type": "display_data"
    },
    {
     "data": {
      "application/vnd.jupyter.widget-view+json": {
       "model_id": "53acd72bfdd44ad2ad36ac02880e3fae",
       "version_major": 2,
       "version_minor": 0
      },
      "text/plain": [
       "0it [00:00, ?it/s]"
      ]
     },
     "metadata": {},
     "output_type": "display_data"
    },
    {
     "data": {
      "application/vnd.jupyter.widget-view+json": {
       "model_id": "a7cd49969b1d41ea8c30decb8146ade8",
       "version_major": 2,
       "version_minor": 0
      },
      "text/plain": [
       "0it [00:00, ?it/s]"
      ]
     },
     "metadata": {},
     "output_type": "display_data"
    },
    {
     "name": "stdout",
     "output_type": "stream",
     "text": [
      "Epoch count: 1000000, Loss: 0.16537980689696172\n"
     ]
    }
   ],
   "source": [
    "c, w, params_NSGD, risk_NSGD = nesterov_train(x_train, y_train, x_test, y_test, N = 10, learning_rate = 1e-3)"
   ]
  },
  {
   "cell_type": "code",
   "execution_count": 53,
   "id": "36d56b05",
   "metadata": {},
   "outputs": [
    {
     "data": {
      "image/png": "[encoded data removed]",
      "text/plain": [
       "<Figure size 640x480 with 1 Axes>"
      ]
     },
     "metadata": {},
     "output_type": "display_data"
    }
   ],
   "source": [
    "#plot SGD losses vs Nesterov accelerated SGD losses\n",
    "indices = [1, 10, 100] + list((10**np.linspace(3, 6, 30)).astype(int))\n",
    "indices_hom = [1, 10, 50, 100, 200, 300, 500, 700, 900] + list((10**np.linspace(3, 6, 25)).astype(int))\n",
    "\n",
    "fig, ax = plt.subplots()\n",
    "ax.plot(indices, np.log10(risk_SGD), c = 'b')\n",
    "ax.plot(indices, np.log10(risk_NSGD), c = 'g')\n",
    "ax.plot(indices_hom, np.log10(risk_HomSGLD), c = 'r')\n",
    "ax.plot(indices, np.log10(risk_Mass), c = 'purple')\n",
    "ax.scatter(indices, np.log10(risk_SGD), marker = 'x', c = 'b', label = 'SGD')\n",
    "ax.scatter(indices, np.log10(risk_NSGD), marker = 'x', c = 'g', label = 'NSGD')\n",
    "ax.scatter(indices_hom, np.log10(risk_HomSGLD), marker = 'x', c = 'r', label = 'HomSGLD')\n",
    "ax.scatter(indices, np.log10(risk_Mass), marker = 'x', c = 'purple', label = 'MaSS')\n",
    "\n",
    "plt.savefig('/Users/pantelistassopoulos/Documents/texfiles/Summer-Research2023/images/Spiliopoulos2019-SGD-algos-single-digit classification.png')\n",
    "\n",
    "ax.set_xscale('log')\n",
    "ax.set_xlabel('Iterations')\n",
    "ax.set_ylabel('log10(Loss)')\n",
    "ax.set_title('Losses in single digit classification')\n",
    "ax.legend()\n",
    "plt.show()"
   ]
  },
  {
   "cell_type": "code",
   "execution_count": 80,
   "id": "366fd727",
   "metadata": {},
   "outputs": [
    {
     "data": {
      "image/png": "[encoded data removed]",
      "text/plain": [
       "<Figure size 640x480 with 1 Axes>"
      ]
     },
     "metadata": {},
     "output_type": "display_data"
    }
   ],
   "source": [
    "#plot SGD losses vs Nesterov accelerated SGD losses\n",
    "indices = [1, 10 , 100] + list((10**np.linspace(3, 6, 30)).astype(int))\n",
    "#indices = [1, 10 , 100] + list((10**np.linspace(3, 4.5, 20)).astype(int))\n",
    "indices_hom = [1, 10, 50, 100, 200, 300, 500, 700, 900] + list((10**np.linspace(3, 4.7, 20)).astype(int))\n",
    "fig, ax = plt.subplots()\n",
    "ax.plot(indices_SGD, risk_SGD, c = 'b')\n",
    "#ax.plot(indices, risk_NSGD, c = 'g')\n",
    "#ax.plot(indices, risk_HomSGLD, c = 'r')\n",
    "ax.plot(indices, risk_Mass, c = 'purple')\n",
    "ax.scatter(indices_SGD, risk_SGD, marker = 'x', c = 'b', label = 'SGD')\n",
    "#ax.scatter(indices, risk_NSGD, marker = 'x', c = 'g', label = 'NSGD')\n",
    "#ax.scatter(indices, risk_HomSGLD, marker = 'x', c = 'r', label = 'HomSGLD')\n",
    "ax.scatter(indices, risk_Mass, marker = 'x', c = 'purple', label = 'MaSS')\n",
    "\n",
    "\n",
    "ax.set_xscale('log')\n",
    "ax.set_xlabel('Iterations')\n",
    "ax.set_ylabel('Loss')\n",
    "ax.set_title('Losses in single digit classification')\n",
    "ax.legend()\n",
    "plt.show()"
   ]
  },
  {
   "cell_type": "code",
   "execution_count": 43,
   "id": "9bc05eaf",
   "metadata": {},
   "outputs": [
    {
     "data": {
      "text/plain": [
       "<matplotlib.legend.Legend at 0x7fedf438e9d0>"
      ]
     },
     "execution_count": 43,
     "metadata": {},
     "output_type": "execute_result"
    },
    {
     "data": {
      "image/png": "[encoded data removed]",
      "text/plain": [
       "<Figure size 640x480 with 1 Axes>"
      ]
     },
     "metadata": {},
     "output_type": "display_data"
    }
   ],
   "source": [
    "plt.hist(params, label = 'N: 10000', bins = 70)\n",
    "plt.title('Illustration of LLN for single-layer neural network performing digit classification on MNIST data')\n",
    "plt.ylabel('Probability density')\n",
    "plt.xlabel('output layer weight distribution')\n",
    "plt.legend()"
   ]
  },
  {
   "cell_type": "markdown",
   "id": "26955d22",
   "metadata": {},
   "source": [
    "## General Observations"
   ]
  },
  {
   "cell_type": "markdown",
   "id": "13fd475f",
   "metadata": {},
   "source": [
    "- Nesterov acceleration beat plain SGD, but was beaten by MF-HomSGLD, which plateaued early but achieved a substantially smaller loss in the same amount of time\n",
    "- MF-HomSGLD (in the paper by Pavliotis, Kantas and Parpas entitled 'The sharp, the flat and the shallow: Can weakly interacting agents learn to escape bad minima?') matches the performance of plain SGD. Still, it gets stuck for more significant iterations and plateaus. However, in the MNIST one-digit classification, the algorithm attains a substantially smaller loss, about two orders of magnitude less than the other algorithms. However, it suffers from plateauing early again.\n",
    "- Finally, the single-digit classifier with the architecture satisfied the assumptions made in the paper. It was able to reproduce the distribution of parameters in the paper, as seen in the plot above, capturing the bimodality of the network parameter distribution in the paper."
   ]
  }
 ],
 "metadata": {
  "kernelspec": {
   "display_name": "Python 3 (ipykernel)",
   "language": "python",
   "name": "python3"
  },
  "language_info": {
   "codemirror_mode": {
    "name": "ipython",
    "version": 3
   },
   "file_extension": ".py",
   "mimetype": "text/x-python",
   "name": "python",
   "nbconvert_exporter": "python",
   "pygments_lexer": "ipython3",
   "version": "3.8.16"
  }
 },
 "nbformat": 4,
 "nbformat_minor": 5
}
