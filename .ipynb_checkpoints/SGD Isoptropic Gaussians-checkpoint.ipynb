{
 "cells": [
  {
   "cell_type": "code",
   "execution_count": 2,
   "metadata": {},
   "outputs": [],
   "source": [
    "import numpy as np\n",
    "from tqdm.notebook import tqdm, trange\n",
    "from alive_progress import alive_bar\n",
    "import time # to be used in loop iterations\n",
    "import caffeine\n",
    "from multiprocess import Pool\n",
    "import matplotlib.pyplot as plt\n",
    "from queue import Queue\n",
    "from threading import Thread\n",
    "np.random.seed(1234)"
   ]
  },
  {
   "cell_type": "markdown",
   "metadata": {},
   "source": [
    "# SGD Isotropic Gaussian Neural Net"
   ]
  },
  {
   "cell_type": "markdown",
   "metadata": {},
   "source": [
    "I implemented a single layer neural network and trained in on jointly Bernoulli and isotropic Gaussian data constructed in the 2018 paper by Mei et al. entitled 'A mean field view of the landscape of two-layerneural networks' using stochastic gradient descent. I studied limiting properties of the evolution of the network parameters, treated as interacting particles and made comparisons in monitoring losses incurred by the discretised SGD algorithm and the distributional dynamics introduced in the paper."
   ]
  },
  {
   "cell_type": "code",
   "execution_count": 3,
   "metadata": {},
   "outputs": [],
   "source": [
    "#Ground truth data distribution\n",
    "def random_sample_old(d, Delta, N):\n",
    "    \"\"\"\n",
    "    Generate random data samples for a binary classification problem.\n",
    "\n",
    "    Parameters:\n",
    "    d (int): The dimensionality of the data samples.\n",
    "    Delta (float): The parameter controlling the spread of data samples (default is 0.1).\n",
    "    N (int): The number of data samples to generate.\n",
    "\n",
    "    Returns:\n",
    "    tuple: A tuple containing a numpy array of data samples with shape (N, d) and labels with shape (N,).\n",
    "    \"\"\"\n",
    "    y = np.random.randint(0,2,N)\n",
    "    y = np.where(y==0, -1, y)\n",
    "    x = np.zeros((N,d))\n",
    "    for i in range(N):\n",
    "        if y[i] == 1:\n",
    "            x[i,:] = np.random.multivariate_normal([0]*d, np.diag([(1+Delta)**2]*d))\n",
    "        if y[i] == -1:\n",
    "            x[i,:] = np.random.multivariate_normal([0]*d, np.diag([(1-Delta)**2]*d))\n",
    "    return x.reshape(N,d),y"
   ]
  },
  {
   "cell_type": "code",
   "execution_count": 4,
   "metadata": {},
   "outputs": [],
   "source": [
    "#Ground truth data distribution\n",
    "def random_sample(d, Delta, N):\n",
    "    \"\"\"\n",
    "    Generate random data samples for a binary classification problem.\n",
    "\n",
    "    Parameters:\n",
    "    d (int): The dimensionality of the data samples.\n",
    "    Delta (float): The parameter controlling the spread of data samples (default is 0.1).\n",
    "    N (int): The number of data samples to generate.\n",
    "\n",
    "    Returns:\n",
    "    tuple: A tuple containing a numpy array of data samples with shape (N, d) and labels with shape (N,).\n",
    "    \"\"\"\n",
    "    y = np.ones(N)\n",
    "    x = np.zeros((N,d))\n",
    "    successes = np.random.binomial(N, 0.5)\n",
    "    y[successes:] *= -1\n",
    "    x[:successes, :] = np.random.multivariate_normal([0]*d, np.diag([(1+Delta)**2]*d), successes)\n",
    "    x[successes:, :] = np.random.multivariate_normal([0]*d, np.diag([(1-Delta)**2]*d), N-successes)\n",
    "    \n",
    "    return x.reshape(N,d),y"
   ]
  },
  {
   "cell_type": "code",
   "execution_count": 5,
   "metadata": {},
   "outputs": [],
   "source": [
    "#activation function\n",
    "def sigma(t, t1, s1, t2, s2):\n",
    "    \"\"\"\n",
    "    Piecewise linear activation function with specified parameters.\n",
    "\n",
    "    Parameters:\n",
    "    t (float): Input value.\n",
    "    t1 (float): Threshold value 1.\n",
    "    s1 (float): Output value when t < t1.\n",
    "    t2 (float): Threshold value 2.\n",
    "    s2 (float): Output value when t > t2.\n",
    "\n",
    "    Returns:\n",
    "    float: The output of the piecewise linear activation function.\n",
    "    \"\"\"\n",
    "\n",
    "    if t < t1:\n",
    "        return s1\n",
    "    elif t>t2:\n",
    "        return s2\n",
    "    else:\n",
    "        return (s2-s1)/(t2-t1)*(t-t1)+s1\n",
    "    \n",
    "def grad_sigma(t, t1, s1, t2, s2):\n",
    "    \"\"\"\n",
    "    Compute the gradient of the piecewise linear activation function with specified parameters.\n",
    "\n",
    "    Parameters:\n",
    "    t (float): Input value.\n",
    "    t1 (float): Threshold value 1.\n",
    "    s1 (float): Output value when t < t1.\n",
    "    t2 (float): Threshold value 2.\n",
    "    s2 (float): Output value when t > t2.\n",
    "\n",
    "    Returns:\n",
    "    float: The gradient of the piecewise linear activation function.\n",
    "    \"\"\"\n",
    "    if t < t1:\n",
    "        return 0\n",
    "    elif t>t2:\n",
    "        return 0\n",
    "    else:\n",
    "        return (s2-s1)/(t2-t1)\n",
    "    \n",
    "vgrad_sigma = np.vectorize(grad_sigma)\n",
    "vsigma = np.vectorize(sigma)"
   ]
  },
  {
   "cell_type": "code",
   "execution_count": 6,
   "metadata": {},
   "outputs": [],
   "source": [
    "#two layer neural net\n",
    "def neural_net(x, θ):\n",
    "    \"\"\"\n",
    "    Compute the output of a two-layer neural network.\n",
    "\n",
    "    Parameters:\n",
    "    x (np.ndarray): Input data with shape (n, d).\n",
    "    θ (np.ndarray): Model parameters with shape (N, d), where N is the number of units in the hidden layer.\n",
    "\n",
    "    Returns:\n",
    "    np.ndarray: The output of the two-layer neural network with shape (n, 1).\n",
    "    \"\"\"\n",
    "    n = x.shape[0]\n",
    "    out = vsigma(θ@x.T, 0.5, -2.5, 1.5, 7.5)\n",
    "    return np.mean(out, axis = 0).reshape(n,1)"
   ]
  },
  {
   "cell_type": "code",
   "execution_count": 151,
   "metadata": {},
   "outputs": [],
   "source": [
    "def stochastic_gradient_descent(d, Delta, N, epsilon = 1e-6, num_epochs = 1000):\n",
    "    \"\"\"\n",
    "    Perform stochastic gradient descent (SGD) training on a neural network with specified parameters.\n",
    "\n",
    "    Parameters:\n",
    "    d (int): The dimensionality of the data samples.\n",
    "    Delta (float): The parameter controlling the spread of data samples.\n",
    "    N (int): The number of units in the hidden layer.\n",
    "    epsilon (float): The learning rate for SGD (default is 1e-6).\n",
    "    num_epochs (int): The number of training epochs (default is 1000).\n",
    "\n",
    "    Returns:\n",
    "    tuple: A tuple containing the trained weights 'weights', an array of population risk values during training, \n",
    "           and an array of mean distances between weights and units during training.\n",
    "    \"\"\"\n",
    "    indices = [int(a) for a in 10**(np.linspace(1.1, np.log10(num_epochs), 60))]\n",
    "    weights = np.random.multivariate_normal([0]*d, np.diag([(Delta)**2/d]*d), N).reshape(N, d)\n",
    "    risk = []\n",
    "    mean_dist = []\n",
    "\n",
    "    for epoch in trange(1, num_epochs+1): \n",
    "        # Update the weights\n",
    "        sample = random_sample(d,Delta,1)\n",
    "        X = sample[0].reshape(1,d)\n",
    "        y = sample[1]\n",
    "        vgrad = vgrad_sigma(weights@X.T, 0.5, -2.5, 1.5, 7.5)\n",
    "        gradient = vgrad.reshape(N,1)*(X).reshape(1,d)\n",
    "        weights += 2*epsilon*(y-neural_net(X, weights))*gradient\n",
    "        if epoch in indices:\n",
    "        #population risk\n",
    "            M = int(5e3)\n",
    "            x_sample, y_sample = random_sample(d, Delta, M)\n",
    "            mse = np.mean((y_sample.reshape(-1,1)-neural_net(x_sample,weights))**2)\n",
    "            risk.append(mse)\n",
    "            dist = np.mean(np.linalg.norm(weights, axis = 1))\n",
    "            mean_dist.append(dist)\n",
    "            print('Epoch: {}, risk: {}'.format(epoch, mse))\n",
    "        \n",
    "    return weights, risk, mean_dist"
   ]
  },
  {
   "cell_type": "code",
   "execution_count": 103,
   "metadata": {},
   "outputs": [
    {
     "data": {
      "text/plain": [
       "(array([0.0127905 , 0.        , 0.        , 0.        , 0.        ,\n",
       "        0.02558099, 0.0127905 , 0.02558099, 0.03837149, 0.05116198,\n",
       "        0.08953347, 0.06395248, 0.19185744, 0.16627645, 0.34534339,\n",
       "        0.52441033, 0.54999132, 0.90812521, 0.84417273, 0.89533471,\n",
       "        0.90812521, 1.13835413, 1.02323967, 0.88254421, 0.6267343 ,\n",
       "        0.33255289, 0.3197624 , 0.12790496, 0.07674298, 0.05116198]),\n",
       " array([0.15643643, 0.25416525, 0.35189406, 0.44962288, 0.54735169,\n",
       "        0.64508051, 0.74280932, 0.84053814, 0.93826695, 1.03599577,\n",
       "        1.13372458, 1.2314534 , 1.32918221, 1.42691103, 1.52463984,\n",
       "        1.62236866, 1.72009747, 1.81782629, 1.9155551 , 2.01328391,\n",
       "        2.11101273, 2.20874154, 2.30647036, 2.40419917, 2.50192799,\n",
       "        2.5996568 , 2.69738562, 2.79511443, 2.89284325, 2.99057206,\n",
       "        3.08830088]),\n",
       " <BarContainer object of 30 artists>)"
      ]
     },
     "execution_count": 103,
     "metadata": {},
     "output_type": "execute_result"
    },
    {
     "data": {
      "image/png": "[encoded data removed]",
      "text/plain": [
       "<Figure size 640x480 with 1 Axes>"
      ]
     },
     "metadata": {},
     "output_type": "display_data"
    }
   ],
   "source": [
    "import matplotlib.pyplot as plt \n",
    "plt.hist(weights_norms, density = True,  bins = 30)"
   ]
  },
  {
   "cell_type": "code",
   "execution_count": 136,
   "metadata": {},
   "outputs": [],
   "source": [
    "sample = random_sample(40, 0.8, 1)\n",
    "x = sample[0][0]\n",
    "y = sample[1]\n",
    "print(\"pred: \"+ str(neural_net(x, weights)))\n",
    "print(\"actual:\" + str(y))"
   ]
  },
  {
   "cell_type": "code",
   "execution_count": 152,
   "metadata": {},
   "outputs": [],
   "source": [
    "def nesterov_accelerated_sgd(d, Delta, N, epsilon = 1e-6, r = 3, num_epochs = 1000):\n",
    "    \"\"\"\n",
    "    Perform Nesterov Accelerated Stochastic Gradient Descent (Nesterov SGD) training on a neural network with specified parameters.\n",
    "\n",
    "    Parameters:\n",
    "    d (int): The dimensionality of the data samples.\n",
    "    Delta (float): The parameter controlling the spread of data samples.\n",
    "    N (int): The number of units in the hidden layer.\n",
    "    epsilon (float): The learning rate for Nesterov SGD (default is 1e-6).\n",
    "    r (int): The lookahead parameter for Nesterov acceleration (default is 3).\n",
    "    num_epochs (int): The number of training epochs (default is 1000).\n",
    "\n",
    "    Returns:\n",
    "    tuple: A tuple containing the trained weights 'weights', lookahead weights 'lookahead', \n",
    "           an array of population risk values during training, and an empty array for mean distances.\n",
    "    \"\"\"\n",
    "    indices = [int(a) for a in 10**(np.linspace(1.1, np.log10(num_epochs), 60))]\n",
    "    weights = np.random.multivariate_normal([0]*d, np.diag([(Delta)**2/d]*d), N).reshape(N, d)\n",
    "    lookahead = weights\n",
    "    risk = []\n",
    "    mean_dist = []\n",
    "\n",
    "    for epoch in trange(1, num_epochs+1): \n",
    "        # Update the params \n",
    "        sample = random_sample(d,Delta,1)\n",
    "        X = sample[0].reshape(1,d)\n",
    "        y = sample[1]\n",
    "        \n",
    "        vgrad = vgrad_sigma(lookahead@X.T, 0.5, -2.5, 1.5, 7.5)\n",
    "        gradient = vgrad.reshape(N,1)*(X).reshape(1,d)\n",
    "        \n",
    "        weights_new = lookahead + 2*epsilon*(y-neural_net(X, lookahead))*gradient\n",
    "        lookahead = weights_new + 0.9*(weights_new - weights)\n",
    "        #((epoch-1)/(epoch+r-1))\n",
    "        weights = weights_new\n",
    "        \n",
    "        if epoch in indices:\n",
    "        #population risk\n",
    "            M = int(5e3)\n",
    "            x_sample, y_sample = random_sample(d, Delta, M)\n",
    "            mse = np.mean((y_sample.reshape(-1,1)-neural_net(x_sample, weights))**2)\n",
    "            risk.append(mse)\n",
    "            print('Epoch: {}, risk: {}'.format(epoch, mse))\n",
    "        \n",
    "    return weights, lookahead, risk, mean_dist"
   ]
  },
  {
   "cell_type": "code",
   "execution_count": 153,
   "metadata": {},
   "outputs": [],
   "source": [
    "def nesterov_heat_sgd(d, Delta, N, epsilon = 1e-6, r = 3, num_epochs = 1000):\n",
    "    \"\"\"\n",
    "    Perform Nesterov Accelerated Stochastic Gradient Descent (Nesterov SGD) with added heat noise during training \n",
    "    on a neural network with specified parameters.\n",
    "\n",
    "    Parameters:\n",
    "    d (int): The dimensionality of the data samples.\n",
    "    Delta (float): The parameter controlling the spread of data samples.\n",
    "    N (int): The number of units in the hidden layer.\n",
    "    epsilon (float): The learning rate for Nesterov SGD (default is 1e-6).\n",
    "    r (int): The lookahead parameter for Nesterov acceleration (default is 3).\n",
    "    num_epochs (int): The number of training epochs (default is 1000).\n",
    "\n",
    "    Returns:\n",
    "    tuple: A tuple containing the trained weights 'weights', lookahead weights 'lookahead', \n",
    "           an array of population risk values during training, and an array of mean distances between weights and units during training.\n",
    "    \"\"\"\n",
    "    indices = [int(a) for a in 10**(np.linspace(1.1, np.log10(num_epochs), 60))]\n",
    "    weights = np.random.multivariate_normal([0]*d, np.diag([(Delta)**2/d]*d), N).reshape(N, d)\n",
    "    lookahead = weights\n",
    "    risk = []\n",
    "    mean_dist = []\n",
    "\n",
    "    for epoch in trange(1, num_epochs+1): \n",
    "        # Update the params \n",
    "        sample = random_sample(d,Delta,1)\n",
    "        X = sample[0].reshape(1,d)\n",
    "        y = sample[1]\n",
    "        \n",
    "        heat_loss = np.random.normal(0,1,lookahead.shape)\n",
    "        lookahead += heat_loss\n",
    "        \n",
    "        vgrad = vgrad_sigma(lookahead@X.T, 0.5, -2.5, 1.5, 7.5)\n",
    "        gradient = vgrad.reshape(N,1)*(X).reshape(1,d)\n",
    "        \n",
    "        weights_new = lookahead + 2*epsilon*(y-neural_net(X, lookahead))*gradient\n",
    "        lookahead = weights_new + 0.9*(weights_new - weights)\n",
    "        #((epoch-1)/(epoch+r-1))\n",
    "        weights = weights_new\n",
    "        \n",
    "        if epoch in indices:\n",
    "        #population risk\n",
    "            M = int(5e3)\n",
    "            x_sample, y_sample = random_sample(d, Delta, M)\n",
    "            mse = np.mean((y_sample.reshape(-1,1)-neural_net(x_sample,weights))**2)\n",
    "            risk.append(mse)\n",
    "            dist = np.mean(np.linalg.norm(weights, axis = 1))\n",
    "            mean_dist.append(dist)\n",
    "            print('Epoch: {}, risk: {}'.format(epoch, mse))\n",
    "        \n",
    "    return weights, lookahead, risk, mean_dist"
   ]
  },
  {
   "cell_type": "code",
   "execution_count": 154,
   "metadata": {},
   "outputs": [],
   "source": [
    "def Mass(d,Delta, N, epsilon = 1e-5, num_epochs = 1000):\n",
    "    \"\"\"\n",
    "    Train a neural network with a specified number of units (N) using Momentum-added Stochastic Solver (Mass).\n",
    "\n",
    "\n",
    "    Parameters:\n",
    "    d (int): The dimensionality of the data samples.\n",
    "    Delta (float): The parameter controlling the spread of data samples.\n",
    "    N (int): The number of units in the hidden layer.\n",
    "    epsilon (float): The learning rate for Mass (default is 1e-5).\n",
    "    num_epochs (int): The number of training epochs (default is 1000).\n",
    "\n",
    "    Returns:\n",
    "    tuple: A tuple containing the trained weights 'weights' and an array of population risk values during training.\n",
    "    \"\"\"\n",
    "    \n",
    "    indices = [int(a) for a in 10**(np.linspace(1.1, np.log10(num_epochs), 60))]\n",
    "    weights = np.random.multivariate_normal([0]*d, np.diag([(Delta)**2/d]*d), N).reshape(N, d)\n",
    "    lookahead = weights\n",
    "    \n",
    "    risk = []\n",
    "\n",
    "    for epoch in trange(1, num_epochs+1): \n",
    "        # Update the weights\n",
    "        x,y = random_sample(d,Delta,1)\n",
    "        x = x.reshape(1,d)\n",
    "        \n",
    "        lr = epsilon\n",
    "        \n",
    "        vgrad = vgrad_sigma(lookahead@x.T, 0.5, -2.5, 1.5, 7.5)\n",
    "        gradient = vgrad.reshape(N,1)*(x).reshape(1,d)\n",
    "        \n",
    "        alpha = 0.05\n",
    "        eta2 = lr/(1+alpha)/epoch\n",
    "        weights_new = lookahead + 2*epsilon*(y-neural_net(x, lookahead))*gradient\n",
    "        lookahead = weights_new + 0.9*(weights_new - weights) - \\\n",
    "        eta2*2*(y-neural_net(x, lookahead))*gradient\n",
    "        #((epoch-1)/(epoch+r-1)), r>=3\n",
    "    \n",
    "        weights = weights_new\n",
    "        \n",
    "        if epoch in indices:\n",
    "        #population risk\n",
    "            M = int(5e3)\n",
    "            x_sample, y_sample = random_sample(d, Delta, M)\n",
    "            mse = np.mean((y_sample.reshape(-1,1)-neural_net(x_sample,weights))**2)\n",
    "            risk.append(mse)\n",
    "            print('Epoch: {}, risk: {}'.format(epoch, mse))\n",
    "                \n",
    "    return weights, np.array(risk)"
   ]
  },
  {
   "cell_type": "code",
   "execution_count": 163,
   "metadata": {
    "scrolled": true
   },
   "outputs": [
    {
     "data": {
      "application/vnd.jupyter.widget-view+json": {
       "model_id": "33ec859ba95146cdb8d5d2e977970054",
       "version_major": 2,
       "version_minor": 0
      },
      "text/plain": [
       "  0%|          | 0/1000000 [00:00<?, ?it/s]"
      ]
     },
     "metadata": {},
     "output_type": "display_data"
    },
    {
     "name": "stdout",
     "output_type": "stream",
     "text": [
      "Epoch: 12, risk: 1.7252060330217402\n",
      "Epoch: 15, risk: 1.7366817082212913\n",
      "Epoch: 18, risk: 1.7226544789135656\n",
      "Epoch: 22, risk: 1.7261058504468558\n",
      "Epoch: 27, risk: 1.729203366676601\n",
      "Epoch: 32, risk: 1.7354131226165326\n",
      "Epoch: 39, risk: 1.7070567230632256\n",
      "Epoch: 48, risk: 1.7429960451785818\n",
      "Epoch: 58, risk: 1.7443634961423526\n",
      "Epoch: 70, risk: 1.7260847965103225\n",
      "Epoch: 85, risk: 1.7286969547963453\n",
      "Epoch: 103, risk: 1.7462934735715054\n",
      "Epoch: 124, risk: 1.7234527208884276\n",
      "Epoch: 151, risk: 1.7333252465711513\n",
      "Epoch: 183, risk: 1.7350172769271128\n",
      "Epoch: 221, risk: 1.73197237989532\n",
      "Epoch: 268, risk: 1.730349764379537\n",
      "Epoch: 324, risk: 1.7372488689831702\n",
      "Epoch: 393, risk: 1.7297465983437614\n",
      "Epoch: 476, risk: 1.7425444930381389\n",
      "Epoch: 576, risk: 1.735112838750667\n",
      "Epoch: 698, risk: 1.7343691935558847\n",
      "Epoch: 845, risk: 1.7152372549458268\n",
      "Epoch: 1023, risk: 1.7254185093297754\n",
      "Epoch: 1239, risk: 1.7099612132010795\n",
      "Epoch: 1500, risk: 1.7290837041825637\n",
      "Epoch: 1816, risk: 1.7040115906990436\n",
      "Epoch: 2199, risk: 1.7187922437137166\n",
      "Epoch: 2663, risk: 1.7144030321006924\n",
      "Epoch: 3224, risk: 1.6892867520910215\n",
      "Epoch: 3904, risk: 1.7009365038169098\n",
      "Epoch: 4726, risk: 1.6927710499751392\n",
      "Epoch: 5723, risk: 1.6800364537429178\n",
      "Epoch: 6929, risk: 1.690834405172609\n",
      "Epoch: 8389, risk: 1.663936418505356\n",
      "Epoch: 10157, risk: 1.6479740805109755\n",
      "Epoch: 12297, risk: 1.6249639016062853\n",
      "Epoch: 14889, risk: 1.6281570365182192\n",
      "Epoch: 18027, risk: 1.5963707085865095\n",
      "Epoch: 21826, risk: 1.5861864836874402\n",
      "Epoch: 26426, risk: 1.5383501949811116\n",
      "Epoch: 31995, risk: 1.5269988751409\n",
      "Epoch: 38737, risk: 1.4991065968917492\n",
      "Epoch: 46901, risk: 1.4803151778003325\n",
      "Epoch: 56785, risk: 1.4433507851645737\n",
      "Epoch: 68752, risk: 1.4044298576564007\n",
      "Epoch: 83241, risk: 1.3842019835361756\n",
      "Epoch: 100783, risk: 1.3541006599227987\n",
      "Epoch: 122022, risk: 1.3162287727261974\n",
      "Epoch: 147737, risk: 1.2798905945510168\n",
      "Epoch: 178872, risk: 1.253626420244115\n",
      "Epoch: 216567, risk: 1.2178917662292483\n",
      "Epoch: 262206, risk: 1.206669990519226\n",
      "Epoch: 317464, risk: 1.1754181811304936\n",
      "Epoch: 384366, risk: 1.1328859966920088\n",
      "Epoch: 465368, risk: 1.1322192900139831\n",
      "Epoch: 563439, risk: 1.1247545246984052\n",
      "Epoch: 682178, risk: 1.0817623240960583\n",
      "Epoch: 825941, risk: 1.075130167397335\n"
     ]
    }
   ],
   "source": [
    "#params\n",
    "d = 40\n",
    "N = 800\n",
    "Delta = 0.8\n",
    "\n",
    "\n",
    "weights, risk_SGD, mean_dist_SGD = stochastic_gradient_descent(d, Delta, N, epsilon = 1e-6, num_epochs = int(1e6))"
   ]
  },
  {
   "cell_type": "code",
   "execution_count": 164,
   "metadata": {
    "scrolled": true
   },
   "outputs": [],
   "source": [
    "#simulate Momentum-added Stochastic Solver (Mass) sgd\n",
    "#params\n",
    "d = 40\n",
    "N = 800\n",
    "Delta = 0.8\n",
    "\n",
    "weights, risk_Mass =\\\n",
    "Mass(d, Delta, N, epsilon = (1e-6), num_epochs = int(1e6))"
   ]
  },
  {
   "cell_type": "code",
   "execution_count": 161,
   "metadata": {
    "scrolled": true
   },
   "outputs": [
    {
     "data": {
      "application/vnd.jupyter.widget-view+json": {
       "model_id": "4c247b7d8a7e457c83b5d31a4320b9c2",
       "version_major": 2,
       "version_minor": 0
      },
      "text/plain": [
       "  0%|          | 0/100000 [00:00<?, ?it/s]"
      ]
     },
     "metadata": {},
     "output_type": "display_data"
    },
    {
     "name": "stdout",
     "output_type": "stream",
     "text": [
      "Epoch: 12, risk: 6.517466357622905\n",
      "Epoch: 14, risk: 6.656796946234112\n",
      "Epoch: 17, risk: 6.756957155884718\n",
      "Epoch: 19, risk: 6.86104582491474\n",
      "Epoch: 23, risk: 6.887858791251099\n",
      "Epoch: 26, risk: 6.8871377301675825\n",
      "Epoch: 31, risk: 6.977457354203457\n",
      "Epoch: 36, risk: 7.134915494589836\n",
      "Epoch: 42, risk: 7.079543731479595\n",
      "Epoch: 49, risk: 7.031456106624553\n",
      "Epoch: 57, risk: 7.114543387860751\n",
      "Epoch: 67, risk: 7.095336394039454\n",
      "Epoch: 78, risk: 7.02927282347256\n",
      "Epoch: 91, risk: 7.177402794397986\n",
      "Epoch: 106, risk: 7.263010313368741\n"
     ]
    },
    {
     "ename": "KeyboardInterrupt",
     "evalue": "",
     "output_type": "error",
     "traceback": [
      "\u001b[0;31m---------------------------------------------------------------------------\u001b[0m",
      "\u001b[0;31mKeyboardInterrupt\u001b[0m                         Traceback (most recent call last)",
      "Cell \u001b[0;32mIn[161], line 6\u001b[0m\n\u001b[1;32m      3\u001b[0m N \u001b[38;5;241m=\u001b[39m \u001b[38;5;241m800\u001b[39m\n\u001b[1;32m      4\u001b[0m Delta \u001b[38;5;241m=\u001b[39m \u001b[38;5;241m0.8\u001b[39m\n\u001b[0;32m----> 6\u001b[0m weights_HNSGD, momentum_HNSGD, risk_HNSGD, mean_dist_HNSGD \u001b[38;5;241m=\u001b[39m \u001b[43mnesterov_heat_sgd\u001b[49m\u001b[43m(\u001b[49m\u001b[43md\u001b[49m\u001b[43m,\u001b[49m\u001b[43m \u001b[49m\u001b[43mDelta\u001b[49m\u001b[43m,\u001b[49m\u001b[43m \u001b[49m\u001b[43mN\u001b[49m\u001b[43m,\u001b[49m\u001b[43m \u001b[49m\u001b[43mepsilon\u001b[49m\u001b[43m \u001b[49m\u001b[38;5;241;43m=\u001b[39;49m\u001b[43m \u001b[49m\u001b[38;5;241;43m1e-6\u001b[39;49m\u001b[43m,\u001b[49m\u001b[43m \u001b[49m\u001b[43mr\u001b[49m\u001b[43m \u001b[49m\u001b[38;5;241;43m=\u001b[39;49m\u001b[43m \u001b[49m\u001b[38;5;241;43m3\u001b[39;49m\u001b[43m,\u001b[49m\u001b[43m \u001b[49m\u001b[43mnum_epochs\u001b[49m\u001b[43m \u001b[49m\u001b[38;5;241;43m=\u001b[39;49m\u001b[43m \u001b[49m\u001b[38;5;28;43mint\u001b[39;49m\u001b[43m(\u001b[49m\u001b[38;5;241;43m1e5\u001b[39;49m\u001b[43m)\u001b[49m\u001b[43m)\u001b[49m\n",
      "Cell \u001b[0;32mIn[153], line 45\u001b[0m, in \u001b[0;36mnesterov_heat_sgd\u001b[0;34m(d, Delta, N, epsilon, r, num_epochs)\u001b[0m\n\u001b[1;32m     43\u001b[0m M \u001b[38;5;241m=\u001b[39m \u001b[38;5;28mint\u001b[39m(\u001b[38;5;241m5e3\u001b[39m)\n\u001b[1;32m     44\u001b[0m x_sample, y_sample \u001b[38;5;241m=\u001b[39m random_sample(d, Delta, M)\n\u001b[0;32m---> 45\u001b[0m mse \u001b[38;5;241m=\u001b[39m np\u001b[38;5;241m.\u001b[39mmean((y_sample\u001b[38;5;241m.\u001b[39mreshape(\u001b[38;5;241m-\u001b[39m\u001b[38;5;241m1\u001b[39m,\u001b[38;5;241m1\u001b[39m)\u001b[38;5;241m-\u001b[39m\u001b[43mneural_net\u001b[49m\u001b[43m(\u001b[49m\u001b[43mx_sample\u001b[49m\u001b[43m,\u001b[49m\u001b[43mweights\u001b[49m\u001b[43m)\u001b[49m)\u001b[38;5;241m*\u001b[39m\u001b[38;5;241m*\u001b[39m\u001b[38;5;241m2\u001b[39m)\n\u001b[1;32m     46\u001b[0m risk\u001b[38;5;241m.\u001b[39mappend(mse)\n\u001b[1;32m     47\u001b[0m dist \u001b[38;5;241m=\u001b[39m np\u001b[38;5;241m.\u001b[39mmean(np\u001b[38;5;241m.\u001b[39mlinalg\u001b[38;5;241m.\u001b[39mnorm(weights, axis \u001b[38;5;241m=\u001b[39m \u001b[38;5;241m1\u001b[39m))\n",
      "Cell \u001b[0;32mIn[6], line 14\u001b[0m, in \u001b[0;36mneural_net\u001b[0;34m(x, θ)\u001b[0m\n\u001b[1;32m      3\u001b[0m \u001b[38;5;250m\u001b[39m\u001b[38;5;124;03m\"\"\"\u001b[39;00m\n\u001b[1;32m      4\u001b[0m \u001b[38;5;124;03mCompute the output of a two-layer neural network.\u001b[39;00m\n\u001b[1;32m      5\u001b[0m \n\u001b[0;32m   (...)\u001b[0m\n\u001b[1;32m     11\u001b[0m \u001b[38;5;124;03mnp.ndarray: The output of the two-layer neural network with shape (n, 1).\u001b[39;00m\n\u001b[1;32m     12\u001b[0m \u001b[38;5;124;03m\"\"\"\u001b[39;00m\n\u001b[1;32m     13\u001b[0m n \u001b[38;5;241m=\u001b[39m x\u001b[38;5;241m.\u001b[39mshape[\u001b[38;5;241m0\u001b[39m]\n\u001b[0;32m---> 14\u001b[0m out \u001b[38;5;241m=\u001b[39m \u001b[43mvsigma\u001b[49m\u001b[43m(\u001b[49m\u001b[43mθ\u001b[49m\u001b[38;5;129;43m@x\u001b[39;49m\u001b[38;5;241;43m.\u001b[39;49m\u001b[43mT\u001b[49m\u001b[43m,\u001b[49m\u001b[43m \u001b[49m\u001b[38;5;241;43m0.5\u001b[39;49m\u001b[43m,\u001b[49m\u001b[43m \u001b[49m\u001b[38;5;241;43m-\u001b[39;49m\u001b[38;5;241;43m2.5\u001b[39;49m\u001b[43m,\u001b[49m\u001b[43m \u001b[49m\u001b[38;5;241;43m1.5\u001b[39;49m\u001b[43m,\u001b[49m\u001b[43m \u001b[49m\u001b[38;5;241;43m7.5\u001b[39;49m\u001b[43m)\u001b[49m\n\u001b[1;32m     15\u001b[0m \u001b[38;5;28;01mreturn\u001b[39;00m np\u001b[38;5;241m.\u001b[39mmean(out, axis \u001b[38;5;241m=\u001b[39m \u001b[38;5;241m0\u001b[39m)\u001b[38;5;241m.\u001b[39mreshape(n,\u001b[38;5;241m1\u001b[39m)\n",
      "File \u001b[0;32m~/opt/anaconda3/lib/python3.8/site-packages/numpy/lib/function_base.py:2329\u001b[0m, in \u001b[0;36mvectorize.__call__\u001b[0;34m(self, *args, **kwargs)\u001b[0m\n\u001b[1;32m   2326\u001b[0m     vargs \u001b[38;5;241m=\u001b[39m [args[_i] \u001b[38;5;28;01mfor\u001b[39;00m _i \u001b[38;5;129;01min\u001b[39;00m inds]\n\u001b[1;32m   2327\u001b[0m     vargs\u001b[38;5;241m.\u001b[39mextend([kwargs[_n] \u001b[38;5;28;01mfor\u001b[39;00m _n \u001b[38;5;129;01min\u001b[39;00m names])\n\u001b[0;32m-> 2329\u001b[0m \u001b[38;5;28;01mreturn\u001b[39;00m \u001b[38;5;28;43mself\u001b[39;49m\u001b[38;5;241;43m.\u001b[39;49m\u001b[43m_vectorize_call\u001b[49m\u001b[43m(\u001b[49m\u001b[43mfunc\u001b[49m\u001b[38;5;241;43m=\u001b[39;49m\u001b[43mfunc\u001b[49m\u001b[43m,\u001b[49m\u001b[43m \u001b[49m\u001b[43margs\u001b[49m\u001b[38;5;241;43m=\u001b[39;49m\u001b[43mvargs\u001b[49m\u001b[43m)\u001b[49m\n",
      "File \u001b[0;32m~/opt/anaconda3/lib/python3.8/site-packages/numpy/lib/function_base.py:2415\u001b[0m, in \u001b[0;36mvectorize._vectorize_call\u001b[0;34m(self, func, args)\u001b[0m\n\u001b[1;32m   2412\u001b[0m outputs \u001b[38;5;241m=\u001b[39m ufunc(\u001b[38;5;241m*\u001b[39minputs)\n\u001b[1;32m   2414\u001b[0m \u001b[38;5;28;01mif\u001b[39;00m ufunc\u001b[38;5;241m.\u001b[39mnout \u001b[38;5;241m==\u001b[39m \u001b[38;5;241m1\u001b[39m:\n\u001b[0;32m-> 2415\u001b[0m     res \u001b[38;5;241m=\u001b[39m \u001b[43masanyarray\u001b[49m\u001b[43m(\u001b[49m\u001b[43moutputs\u001b[49m\u001b[43m,\u001b[49m\u001b[43m \u001b[49m\u001b[43mdtype\u001b[49m\u001b[38;5;241;43m=\u001b[39;49m\u001b[43motypes\u001b[49m\u001b[43m[\u001b[49m\u001b[38;5;241;43m0\u001b[39;49m\u001b[43m]\u001b[49m\u001b[43m)\u001b[49m\n\u001b[1;32m   2416\u001b[0m \u001b[38;5;28;01melse\u001b[39;00m:\n\u001b[1;32m   2417\u001b[0m     res \u001b[38;5;241m=\u001b[39m \u001b[38;5;28mtuple\u001b[39m([asanyarray(x, dtype\u001b[38;5;241m=\u001b[39mt)\n\u001b[1;32m   2418\u001b[0m                  \u001b[38;5;28;01mfor\u001b[39;00m x, t \u001b[38;5;129;01min\u001b[39;00m \u001b[38;5;28mzip\u001b[39m(outputs, otypes)])\n",
      "\u001b[0;31mKeyboardInterrupt\u001b[0m: "
     ]
    }
   ],
   "source": [
    "#params\n",
    "d = 40\n",
    "N = 800\n",
    "Delta = 0.8\n",
    "\n",
    "weights_HNSGD, momentum_HNSGD, risk_HNSGD, mean_dist_HNSGD = nesterov_heat_sgd(d, Delta, N, epsilon = 1e-6, r = 3, num_epochs = int(1e6))"
   ]
  },
  {
   "cell_type": "code",
   "execution_count": 165,
   "metadata": {
    "scrolled": true
   },
   "outputs": [],
   "source": [
    "#params\n",
    "d = 40\n",
    "N = 800\n",
    "Delta = 0.8\n",
    "\n",
    "weights_NSGD, momentum_NSGD, risk_NSGD, mean_dist_NSGD = nesterov_accelerated_sgd(d, Delta, N, epsilon = 1e-6, r = 3, num_epochs = int(1e6))"
   ]
  },
  {
   "cell_type": "code",
   "execution_count": 167,
   "metadata": {},
   "outputs": [
    {
     "data": {
      "text/plain": [
       "Text(0.5, 1.0, 'SGD vs NSGD risk for Isotropic Gaussian')"
      ]
     },
     "execution_count": 167,
     "metadata": {},
     "output_type": "execute_result"
    },
    {
     "data": {
      "image/png": "[encoded data removed]",
      "text/plain": [
       "<Figure size 640x480 with 1 Axes>"
      ]
     },
     "metadata": {},
     "output_type": "display_data"
    }
   ],
   "source": [
    "#plot SGD and Nesterov SGD losses\n",
    "indices = np.array([int(a) for a in 10**(np.linspace(1.1, np.log10(1e6), 60))])\n",
    "indices_Mass = np.array([int(a) for a in 10**(np.linspace(1.1, np.log10(1e6), 60))])\n",
    "plt.plot(indices, risk_SGD)\n",
    "plt.scatter(indices, risk_SGD, marker = 'x', label = 'SGD risk')\n",
    "plt.plot(indices, risk_NSGD, c = 'g')\n",
    "plt.scatter(indices, risk_NSGD, marker = 'x', label = 'NSGD risk', c = 'g')\n",
    "plt.plot(indices_Mass, risk_Mass, c = 'purple')\n",
    "plt.scatter(indices_Mass, risk_Mass, marker = 'x', c = 'purple', label = 'Mass risk')\n",
    "plt.xscale('log')\n",
    "plt.xlabel('Iteration')\n",
    "plt.ylabel('Risk')\n",
    "plt.legend()\n",
    "plt.title('SGD vs NSGD risk for Isotropic Gaussian')"
   ]
  },
  {
   "cell_type": "code",
   "execution_count": 9,
   "metadata": {},
   "outputs": [],
   "source": [
    "from scipy.stats import norm\n",
    "\n",
    "def q_plus(t, Delta):\n",
    "    x = np.linspace(0.5/((1+Delta)*t), 1.5/((1+Delta)*t), 100)\n",
    "    f = 1 / (np.sqrt(2 * np.pi)) * vsigma((1 + Delta) * t * x, 0.5, -2.5, 1.5, 7.5) * np.exp(-x ** 2 / 2)\n",
    "    integral = np.trapz(f, x)\n",
    "    return integral -2.5*norm.cdf(0.5/((1+Delta)*t))+7.5*(1-norm.cdf(1.5/((1+Delta)*t)))\n",
    "    #return integral\n",
    "\n",
    "def q_minus(t, Delta):\n",
    "    x = np.linspace(0.5/((1-Delta)*t), 1.5/((1-Delta)*t), 100)\n",
    "    f = 1 / (np.sqrt(2 * np.pi)) * vsigma((1 - Delta) * t * x, 0.5, -2.5, 1.5, 7.5) * np.exp(-x ** 2 / 2)\n",
    "    integral = np.trapz(f, x)\n",
    "    return integral -2.5*norm.cdf(0.5/((1-Delta)*t))+7.5*(1-norm.cdf(1.5/((1-Delta)*t)))\n",
    "    #return integral\n",
    "\n",
    "vq_plus = np.vectorize(q_plus)\n",
    "vq_minus = np.vectorize(q_minus)\n",
    "\n",
    "def dq_plus(t, Delta):\n",
    "    x = np.linspace(0.5/((1+Delta)*t), 1.5/((1+Delta)*t), 100)\n",
    "    f = (1+Delta) / (np.sqrt(2 * np.pi)) * 10 * np.exp(-x ** 2 / 2)*x\n",
    "    integral = np.trapz(f, x)\n",
    "    return integral \n",
    "\n",
    "def dq_minus(t, Delta):\n",
    "    x = np.linspace(0.5/((1-Delta)*t), 1.5/((1-Delta)*t), 100)\n",
    "    f = (1-Delta) / (np.sqrt(2 * np.pi)) * 10 * np.exp(-x ** 2 / 2)*x\n",
    "    integral = np.trapz(f, x)\n",
    "    return integral\n",
    "    \n",
    "vdq_plus = np.vectorize(dq_plus)\n",
    "vdq_minus = np.vectorize(dq_minus)\n",
    "\n",
    "def q_func(pair):\n",
    "    t = pair[0]\n",
    "    flag = pair[1]\n",
    "    if flag == 0:\n",
    "        return vq_plus(t,0.8)\n",
    "    elif flag == 1:\n",
    "        return vq_minus(t,0.8)\n",
    "    elif flag == 2:\n",
    "        return vdq_plus(t,0.8)\n",
    "    elif flag == 3:\n",
    "        return vdq_minus(t,0.8)\n",
    "    \n",
    "def q_func_new(pair):\n",
    "    t = pair[0]\n",
    "    flag = pair[1]\n",
    "    if flag == 0:\n",
    "        return vq_plus_new(t)\n",
    "    elif flag == 1:\n",
    "        return vq_minus_new(t)\n",
    "    elif flag == 2:\n",
    "        return vdq_plus_new(t)\n",
    "    elif flag == 3:\n",
    "        return vdq_minus_new(t)\n",
    "\n",
    "def parallelise(t):\n",
    "    with Pool(4) as p:\n",
    "        results = np.array(p.map(q_func_new, [[t,0], [t,1], [t,2], [t,3]]))\n",
    "    return results\n",
    "vparallelise = np.vectorize(parallelise)"
   ]
  },
  {
   "cell_type": "code",
   "execution_count": 10,
   "metadata": {
    "scrolled": false
   },
   "outputs": [
    {
     "data": {
      "text/plain": [
       "[<matplotlib.lines.Line2D at 0x7f9ea4961bb0>]"
      ]
     },
     "execution_count": 10,
     "metadata": {},
     "output_type": "execute_result"
    },
    {
     "data": {
      "image/png": "[encoded data removed]",
      "text/plain": [
       "<Figure size 640x480 with 1 Axes>"
      ]
     },
     "metadata": {},
     "output_type": "display_data"
    }
   ],
   "source": [
    "epsilon = 1e-6\n",
    "Delta = 0.8\n",
    "Interval_q = 10**np.linspace(-10,np.log10(epsilon*1e7), int(1e5))\n",
    "q_plus_vals = vq_plus(Interval_q, Delta)\n",
    "plt.plot(Interval_q, q_plus_vals)"
   ]
  },
  {
   "cell_type": "code",
   "execution_count": 11,
   "metadata": {},
   "outputs": [
    {
     "data": {
      "text/plain": [
       "[<matplotlib.lines.Line2D at 0x7f9ea5cdb640>]"
      ]
     },
     "execution_count": 11,
     "metadata": {},
     "output_type": "execute_result"
    },
    {
     "data": {
      "image/png": "[encoded data removed]",
      "text/plain": [
       "<Figure size 640x480 with 1 Axes>"
      ]
     },
     "metadata": {},
     "output_type": "display_data"
    }
   ],
   "source": [
    "Interval_q = 10**np.linspace(-10,np.log10(epsilon*1e7), int(1e5))\n",
    "q_minus_vals = vq_minus(Interval_q, Delta)\n",
    "plt.plot(Interval_q, q_minus_vals)"
   ]
  },
  {
   "cell_type": "code",
   "execution_count": 12,
   "metadata": {},
   "outputs": [],
   "source": [
    "Q_plus = dict(zip(Interval_q, q_plus_vals))\n",
    "Q_minus = dict(zip(Interval_q, q_minus_vals))"
   ]
  },
  {
   "cell_type": "code",
   "execution_count": 13,
   "metadata": {},
   "outputs": [
    {
     "data": {
      "text/plain": [
       "[<matplotlib.lines.Line2D at 0x7f9ea7e2a670>]"
      ]
     },
     "execution_count": 13,
     "metadata": {},
     "output_type": "execute_result"
    },
    {
     "data": {
      "image/png": "[encoded data removed]",
      "text/plain": [
       "<Figure size 640x480 with 1 Axes>"
      ]
     },
     "metadata": {},
     "output_type": "display_data"
    }
   ],
   "source": [
    "Interval_q = 10**np.linspace(-10,np.log10(epsilon*1e7), int(1e5))\n",
    "dq_plus_vals = vdq_plus(Interval_q, Delta)\n",
    "plt.plot(Interval_q, dq_plus_vals)"
   ]
  },
  {
   "cell_type": "code",
   "execution_count": 14,
   "metadata": {},
   "outputs": [
    {
     "data": {
      "text/plain": [
       "[<matplotlib.lines.Line2D at 0x7f9ea6785cd0>]"
      ]
     },
     "execution_count": 14,
     "metadata": {},
     "output_type": "execute_result"
    },
    {
     "data": {
      "image/png": "[encoded data removed]",
      "text/plain": [
       "<Figure size 640x480 with 1 Axes>"
      ]
     },
     "metadata": {},
     "output_type": "display_data"
    }
   ],
   "source": [
    "Interval_q = 10**np.linspace(-10,np.log10(epsilon*1e7), int(1e5))\n",
    "dq_minus_vals = vdq_minus(Interval_q, Delta)\n",
    "plt.plot(Interval_q, dq_minus_vals)"
   ]
  },
  {
   "cell_type": "code",
   "execution_count": 15,
   "metadata": {},
   "outputs": [],
   "source": [
    "dQ_plus = dict(zip(Interval_q, dq_plus_vals))\n",
    "dQ_minus = dict(zip(Interval_q, dq_minus_vals))"
   ]
  },
  {
   "cell_type": "code",
   "execution_count": 16,
   "metadata": {},
   "outputs": [],
   "source": [
    "def find_nearest(array, value):\n",
    "    array = np.asarray(array)\n",
    "    idx = (np.abs(array - value)).argmin()\n",
    "    return array[idx]\n",
    "vfind_nearest = np.vectorize(find_nearest)"
   ]
  },
  {
   "cell_type": "code",
   "execution_count": 81,
   "metadata": {},
   "outputs": [],
   "source": [
    "def q_plus_new(r):\n",
    "    r_approx = find_nearest(Interval_q, r)\n",
    "    return Q_plus[r_approx]\n",
    "\n",
    "def q_minus_new(r):\n",
    "    r_approx = find_nearest(Interval_q, r)\n",
    "    return Q_minus[r_approx]\n",
    "\n",
    "vq_plus_new = np.vectorize(q_plus_new)\n",
    "vq_minus_new = np.vectorize(q_minus_new)\n",
    "\n",
    "def dq_plus_new(r):\n",
    "    r_approx = find_nearest(Interval_q, r)\n",
    "    return dQ_plus[r_approx]\n",
    "\n",
    "def dq_minus_new(r):\n",
    "    r_approx = find_nearest(Interval_q, r)\n",
    "    return dQ_minus[r_approx]\n",
    "\n",
    "vdq_plus_new = np.vectorize(dq_plus_new)\n",
    "vdq_minus_new = np.vectorize(dq_minus_new)\n",
    "\n",
    "\n",
    "def R_inf(vq_plus, vq_minus, Delta):\n",
    "    mean_vq_plus = np.mean(vq_plus)\n",
    "    mean_vq_minus = np.mean(vq_minus)\n",
    "    return 0.5 * (1 - mean_vq_plus) ** 2 + 0.5 * (1 + mean_vq_minus) ** 2\n",
    "\n",
    "def grad_R_inf(r, vq_plus, vq_minus, dplus, dminus, Delta):\n",
    "    J = len(r)\n",
    "    mean_vq_plus = np.mean(vq_plus)\n",
    "    mean_vq_minus = np.mean(vq_minus)\n",
    "    return -1 / J * dplus * (1 - mean_vq_plus) + 1 / J * dminus * (1 + mean_vq_minus)\n",
    "\n",
    "def update(r, dt, grad):\n",
    "    J = len(r)\n",
    "    return J * grad * dt"
   ]
  },
  {
   "cell_type": "code",
   "execution_count": 18,
   "metadata": {},
   "outputs": [],
   "source": [
    "#simulate pde\n",
    "epsilon = 1e-6\n",
    "Interval = 10**np.linspace(-10,np.log10(epsilon*1e7), int(1e3))\n",
    "J = 400\n",
    "Iters = 5\n",
    "pde_vals = np.zeros((Iters,J))\n",
    "Delta = 0.8\n",
    "d = 40\n",
    "separations = [Interval[k+1]-Interval[k] for k in range(len(Interval)-1)]"
   ]
  },
  {
   "cell_type": "code",
   "execution_count": 20,
   "metadata": {
    "scrolled": true
   },
   "outputs": [
    {
     "data": {
      "application/vnd.jupyter.widget-view+json": {
       "model_id": "e489c0c493904d68bbb9f867d41e5038",
       "version_major": 2,
       "version_minor": 0
      },
      "text/plain": [
       "  0%|          | 0/5 [00:00<?, ?it/s]"
      ]
     },
     "metadata": {},
     "output_type": "display_data"
    },
    {
     "data": {
      "application/vnd.jupyter.widget-view+json": {
       "model_id": "18ba5b5378e5442f88827e8746773b25",
       "version_major": 2,
       "version_minor": 0
      },
      "text/plain": [
       "  0%|          | 0/999 [00:00<?, ?it/s]"
      ]
     },
     "metadata": {},
     "output_type": "display_data"
    },
    {
     "data": {
      "application/vnd.jupyter.widget-view+json": {
       "model_id": "87de8f3016c44d209207187548f6183d",
       "version_major": 2,
       "version_minor": 0
      },
      "text/plain": [
       "  0%|          | 0/999 [00:00<?, ?it/s]"
      ]
     },
     "metadata": {},
     "output_type": "display_data"
    },
    {
     "data": {
      "application/vnd.jupyter.widget-view+json": {
       "model_id": "d1fb1523a6a44b2f960490572b78f2ab",
       "version_major": 2,
       "version_minor": 0
      },
      "text/plain": [
       "  0%|          | 0/999 [00:00<?, ?it/s]"
      ]
     },
     "metadata": {},
     "output_type": "display_data"
    },
    {
     "data": {
      "application/vnd.jupyter.widget-view+json": {
       "model_id": "1098ca5147604183b8efd8598d586ec8",
       "version_major": 2,
       "version_minor": 0
      },
      "text/plain": [
       "  0%|          | 0/999 [00:00<?, ?it/s]"
      ]
     },
     "metadata": {},
     "output_type": "display_data"
    },
    {
     "data": {
      "application/vnd.jupyter.widget-view+json": {
       "model_id": "7ab01b16237649588ae795b8afe16da3",
       "version_major": 2,
       "version_minor": 0
      },
      "text/plain": [
       "  0%|          | 0/999 [00:00<?, ?it/s]"
      ]
     },
     "metadata": {},
     "output_type": "display_data"
    }
   ],
   "source": [
    "#simulate 100 times and obtain a histogram\n",
    "processes_count = 4\n",
    "for i in trange(Iters):\n",
    "    Z = np.random.multivariate_normal([0]*d, np.diag([(Delta)**2/d]*d), J).reshape(J, d)\n",
    "    r = np.linalg.norm(Z, axis = 1)\n",
    "    for dt in tqdm(separations):\n",
    "        ''''\n",
    "        plus = vq_plus(r, Delta)\n",
    "        minus = vq_minus(r, Delta)\n",
    "        dplus = vdq_plus(r, Delta)\n",
    "        dminus = vdq_minus(r, Delta)\n",
    "        '''\n",
    "        output = parallelise(r).reshape(4,J)\n",
    "        plus = output[0]\n",
    "        minus = output[1]\n",
    "        dplus = output[2]\n",
    "        dminus = output[3]\n",
    "        \n",
    "        grad = grad_R_inf(r, plus, minus, dplus, dminus, Delta)\n",
    "        r = update(r,dt, grad)\n",
    "    pde_vals[i] = r"
   ]
  },
  {
   "cell_type": "code",
   "execution_count": 21,
   "metadata": {},
   "outputs": [
    {
     "data": {
      "text/plain": [
       "(array([ 0.,  0.,  0.,  0.,  0.,  0.,  0.,  0.,  0.,  0.,  0.,  0.,  0.,\n",
       "         0.,  0., 30.,  0.,  0.,  0.,  0.,  0.,  0.,  0.,  0.,  0.,  0.,\n",
       "         0.,  0.,  0.,  0.]),\n",
       " array([-0.5       , -0.46666667, -0.43333333, -0.4       , -0.36666667,\n",
       "        -0.33333333, -0.3       , -0.26666667, -0.23333333, -0.2       ,\n",
       "        -0.16666667, -0.13333333, -0.1       , -0.06666667, -0.03333333,\n",
       "         0.        ,  0.03333333,  0.06666667,  0.1       ,  0.13333333,\n",
       "         0.16666667,  0.2       ,  0.23333333,  0.26666667,  0.3       ,\n",
       "         0.33333333,  0.36666667,  0.4       ,  0.43333333,  0.46666667,\n",
       "         0.5       ]),\n",
       " <BarContainer object of 30 artists>)"
      ]
     },
     "execution_count": 21,
     "metadata": {},
     "output_type": "execute_result"
    },
    {
     "data": {
      "image/png": "[encoded data removed]",
      "text/plain": [
       "<Figure size 640x480 with 1 Axes>"
      ]
     },
     "metadata": {},
     "output_type": "display_data"
    }
   ],
   "source": [
    "import matplotlib.pyplot as plt\n",
    "y = np.ndarray.flatten(pde_vals)\n",
    "plt.hist(y, density = True, bins = 30)"
   ]
  },
  {
   "cell_type": "code",
   "execution_count": 23,
   "metadata": {},
   "outputs": [
    {
     "name": "stdout",
     "output_type": "stream",
     "text": [
      "Elapsed time: 0.2292160987854004\n"
     ]
    }
   ],
   "source": [
    "Z = np.random.multivariate_normal([0]*d, np.diag([(Delta)**2/d]*d), J).reshape(J, d)\n",
    "r = np.linalg.norm(Z, axis = 1)\n",
    "start = time.time()\n",
    "plus = vq_plus_new(r)\n",
    "minus = vq_minus_new(r)\n",
    "dplus = vdq_plus_new(r)\n",
    "dminus = vdq_minus_new(r)\n",
    "print('Elapsed time: {}'.format(time.time()-start))"
   ]
  },
  {
   "cell_type": "code",
   "execution_count": 24,
   "metadata": {},
   "outputs": [
    {
     "name": "stdout",
     "output_type": "stream",
     "text": [
      "Elapsed time: 0.15790319442749023\n"
     ]
    }
   ],
   "source": [
    "Z = np.random.multivariate_normal([0]*d, np.diag([(Delta)**2/d]*d), J).reshape(J, d)\n",
    "r = np.linalg.norm(Z, axis = 1)\n",
    "start = time.time()\n",
    "output = parallelise(r).reshape(4,J)\n",
    "plus = output[0]\n",
    "minus = output[1]\n",
    "dplus = output[2]\n",
    "dminus = output[3]\n",
    "print('Elapsed time: {}'.format(time.time()-start))"
   ]
  },
  {
   "cell_type": "markdown",
   "metadata": {},
   "source": [
    "## Simulate PDE risk"
   ]
  },
  {
   "cell_type": "code",
   "execution_count": 82,
   "metadata": {},
   "outputs": [],
   "source": [
    "#simulate pde risk\n",
    "def pde_sim(d, J, epsilon = 1e-6, Delta = 0.8):\n",
    "    \"\"\"\n",
    "    Simulate the risk evolution of a Partial Differential Equation (PDE) system.\n",
    "\n",
    "    Parameters:\n",
    "    d (int): The dimensionality of the system.\n",
    "    J (int): The number of units in the system.\n",
    "    epsilon (float): The time step for simulation (default is 1e-6).\n",
    "    Delta (float): The parameter controlling the spread of data samples (default is 0.8).\n",
    "\n",
    "    Returns:\n",
    "    tuple: A tuple containing an array of risk values during the simulation and an array of mean distances.\n",
    "    \"\"\"\n",
    "    Interval = 10**np.linspace(-10,np.log10(epsilon*1e7), int(1e4))\n",
    "    separations = [Interval[k+1]-Interval[k] for k in range(len(Interval)-1)]\n",
    "    processes_count = 4\n",
    "    risk = np.zeros(Interval.shape[0])\n",
    "    Z = np.random.multivariate_normal([0]*d, np.diag([(Delta)**2/d]*d), J).reshape(J, d)\n",
    "    r = np.linalg.norm(Z, axis = 1)\n",
    "    mean_dist = []\n",
    "    for k in trange(len(separations)):\n",
    "        dt = separations[k]\n",
    "        plus = vq_plus(r, Delta)\n",
    "        minus = vq_minus(r, Delta)\n",
    "        dplus = vdq_plus(r, Delta)\n",
    "        dminus = vdq_minus(r, Delta)\n",
    "        \n",
    "        inf_risk = R_inf(plus, minus, Delta)\n",
    "        risk[k] = inf_risk\n",
    "        d = np.mean(r)\n",
    "        mean_dist.append(d)\n",
    "        print('Epoch: {}, dist: {}'.format(k, inf_risk))\n",
    "        grad = grad_R_inf(r, plus, minus, dplus, dminus, Delta)\n",
    "        r = r - update(r,dt, grad)\n",
    "    plus = vq_plus(r, Delta)\n",
    "    minus = vq_minus(r, Delta)\n",
    "    inf_risk = R_inf(plus, minus, Delta)\n",
    "    risk[-1] = inf_risk\n",
    "    mean_dist.append(np.mean(r))\n",
    "    return risk, mean_dist"
   ]
  },
  {
   "cell_type": "code",
   "execution_count": 168,
   "metadata": {
    "scrolled": true
   },
   "outputs": [],
   "source": [
    "d = 40\n",
    "J = 400\n",
    "risk_pde, mean_dist_pde = pde_sim(d, J, epsilon = 1e-6, Delta = 0.8)"
   ]
  },
  {
   "cell_type": "code",
   "execution_count": 68,
   "metadata": {},
   "outputs": [],
   "source": [
    "epsilon = 1e-6\n",
    "Interval = 10**np.linspace(-10, np.log10(epsilon*1e7), int(1e4))\n",
    "\n",
    "discretised_pde = lambda k: risk_pde[np.abs(Interval - epsilon**(4/4)*k).argmin()]\n",
    "pde_loss = np.vectorize(discretised_pde)\n",
    "\n",
    "iters = np.arange(1, int(1e4+1))\n",
    "indices = [int(a) for a in 10**(np.linspace(1.1, 4, 60))]"
   ]
  },
  {
   "cell_type": "code",
   "execution_count": 150,
   "metadata": {
    "scrolled": true
   },
   "outputs": [
    {
     "data": {
      "application/vnd.jupyter.widget-view+json": {
       "model_id": "86bf15d72ccc4fcea67bbf753d66f8ea",
       "version_major": 2,
       "version_minor": 0
      },
      "text/plain": [
       "  0%|          | 0/10000 [00:00<?, ?it/s]"
      ]
     },
     "metadata": {},
     "output_type": "display_data"
    },
    {
     "name": "stdout",
     "output_type": "stream",
     "text": [
      "Epoch: 12, risk: 1.70988428119938\n",
      "Epoch: 14, risk: 1.7068146230425603\n",
      "Epoch: 15, risk: 1.7103992344432175\n",
      "Epoch: 17, risk: 1.7102944002822715\n",
      "Epoch: 19, risk: 1.7053938552367298\n",
      "Epoch: 22, risk: 1.714583055612988\n",
      "Epoch: 24, risk: 1.6894731555167428\n",
      "Epoch: 27, risk: 1.6924085579274488\n",
      "Epoch: 31, risk: 1.7088556100360317\n",
      "Epoch: 34, risk: 1.706879000471863\n",
      "Epoch: 39, risk: 1.6987904250809533\n",
      "Epoch: 43, risk: 1.695111331864418\n",
      "Epoch: 48, risk: 1.700137726660366\n",
      "Epoch: 54, risk: 1.7013334819105848\n",
      "Epoch: 61, risk: 1.702361049766795\n",
      "Epoch: 68, risk: 1.7034293904585314\n",
      "Epoch: 76, risk: 1.7121607412561175\n",
      "Epoch: 86, risk: 1.6999944503921502\n",
      "Epoch: 96, risk: 1.6968636522628817\n",
      "Epoch: 108, risk: 1.6976767101726171\n",
      "Epoch: 121, risk: 1.6987023987475085\n",
      "Epoch: 135, risk: 1.7078767139868372\n",
      "Epoch: 151, risk: 1.693542163996482\n",
      "Epoch: 170, risk: 1.7044091980618148\n",
      "Epoch: 190, risk: 1.7025734225336513\n",
      "Epoch: 213, risk: 1.7065170728637233\n",
      "Epoch: 238, risk: 1.7058249011505664\n",
      "Epoch: 267, risk: 1.6891433773400586\n",
      "Epoch: 299, risk: 1.6957350504051005\n",
      "Epoch: 335, risk: 1.7023750646768578\n",
      "Epoch: 375, risk: 1.7013134796131046\n",
      "Epoch: 420, risk: 1.6874651367555613\n",
      "Epoch: 470, risk: 1.6891331367483915\n",
      "Epoch: 527, risk: 1.6982773886889373\n",
      "Epoch: 590, risk: 1.7017907319762842\n",
      "Epoch: 661, risk: 1.6990415220067294\n",
      "Epoch: 740, risk: 1.690233252954088\n",
      "Epoch: 829, risk: 1.6883769551888916\n",
      "Epoch: 928, risk: 1.7032409429789594\n",
      "Epoch: 1039, risk: 1.6864122444812653\n",
      "Epoch: 1164, risk: 1.6962791336436873\n",
      "Epoch: 1303, risk: 1.690842620130625\n",
      "Epoch: 1460, risk: 1.6883534536057185\n",
      "Epoch: 1635, risk: 1.694331171532005\n",
      "Epoch: 1831, risk: 1.6901739826199875\n",
      "Epoch: 2050, risk: 1.689210177677365\n",
      "Epoch: 2296, risk: 1.6844374584446447\n",
      "Epoch: 2571, risk: 1.6947304222022406\n",
      "Epoch: 2879, risk: 1.6820353339683185\n",
      "Epoch: 3224, risk: 1.679080891521688\n",
      "Epoch: 3610, risk: 1.6609317117131461\n",
      "Epoch: 4043, risk: 1.6805222113210776\n",
      "Epoch: 4528, risk: 1.6684646391194402\n",
      "Epoch: 5070, risk: 1.6482061577339104\n",
      "Epoch: 5678, risk: 1.6464469623559617\n",
      "Epoch: 6359, risk: 1.6575866888790718\n",
      "Epoch: 7121, risk: 1.6515721826200698\n",
      "Epoch: 7974, risk: 1.6415554580292804\n",
      "Epoch: 8929, risk: 1.6331083276768412\n",
      "Epoch: 10000, risk: 1.629641132063094\n"
     ]
    }
   ],
   "source": [
    "d = 40\n",
    "J = 400\n",
    "N = 800\n",
    "Delta = 0.8\n",
    "weights_SGD, risk_SGD, mean_dist_SGD = stochastic_gradient_descent(d, Delta, N, epsilon = 1e-6, num_epochs = int(1e4))"
   ]
  },
  {
   "cell_type": "code",
   "execution_count": 100,
   "metadata": {},
   "outputs": [
    {
     "data": {
      "text/plain": [
       "(array([0.03034785, 0.05057976, 0.14162332, 0.37429019, 0.61201504,\n",
       "        0.86491382, 1.01159511, 0.67776873, 0.25289878, 0.03034785]),\n",
       " array([0.68880975, 0.9359442 , 1.18307865, 1.4302131 , 1.67734754,\n",
       "        1.92448199, 2.17161644, 2.41875089, 2.66588534, 2.91301979,\n",
       "        3.16015423]),\n",
       " <BarContainer object of 10 artists>)"
      ]
     },
     "execution_count": 100,
     "metadata": {},
     "output_type": "execute_result"
    },
    {
     "data": {
      "image/png": "[encoded data removed]",
      "text/plain": [
       "<Figure size 640x480 with 1 Axes>"
      ]
     },
     "metadata": {},
     "output_type": "display_data"
    }
   ],
   "source": [
    "import matplotlib.pyplot as plt \n",
    "weights_norms = np.linalg.norm(weights_SGD, axis = 1)\n",
    "plt.hist(weights_norms, density = True)"
   ]
  },
  {
   "cell_type": "code",
   "execution_count": 160,
   "metadata": {},
   "outputs": [
    {
     "data": {
      "text/plain": [
       "<matplotlib.legend.Legend at 0x7f9e3be2d5e0>"
      ]
     },
     "execution_count": 160,
     "metadata": {},
     "output_type": "execute_result"
    },
    {
     "data": {
      "image/png": "[encoded data removed]",
      "text/plain": [
       "<Figure size 640x480 with 1 Axes>"
      ]
     },
     "metadata": {},
     "output_type": "display_data"
    }
   ],
   "source": [
    "plt.scatter(indices, risk_SGD, label = 'SGD loss', c = 'r')\n",
    "plt.plot(iters, pde_loss(iters), label = 'pde loss')\n",
    "plt.ylabel('Loss')\n",
    "plt.xlabel('SGD iteration')\n",
    "plt.xscale('log')\n",
    "plt.legend()"
   ]
  },
  {
   "cell_type": "markdown",
   "metadata": {},
   "source": [
    "## General Observations"
   ]
  },
  {
   "cell_type": "markdown",
   "metadata": {},
   "source": [
    "- Managed to implement the PDE in python after optimizing the code (vectorizing, parallelizing) and similar distributions of network parameters in the asymptotic/distributional dynamics (corresponding to 10^7 SGD iterations) and discretised particle system corresponding to SGD as claimed in the original paper by Mei et al. (2018)\n",
    "- Nesterov-accelerated SGD beats plain SGD, as expected, showing an acceleration and faster convergence"
   ]
  },
  {
   "cell_type": "code",
   "execution_count": null,
   "metadata": {},
   "outputs": [],
   "source": []
  }
 ],
 "metadata": {
  "kernelspec": {
   "display_name": "Python 3 (ipykernel)",
   "language": "python",
   "name": "python3"
  },
  "language_info": {
   "codemirror_mode": {
    "name": "ipython",
    "version": 3
   },
   "file_extension": ".py",
   "mimetype": "text/x-python",
   "name": "python",
   "nbconvert_exporter": "python",
   "pygments_lexer": "ipython3",
   "version": "3.8.16"
  }
 },
 "nbformat": 4,
 "nbformat_minor": 4
}
