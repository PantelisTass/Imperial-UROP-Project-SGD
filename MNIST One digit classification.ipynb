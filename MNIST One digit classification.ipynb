{
 "cells": [
  {
   "cell_type": "code",
   "execution_count": 1,
   "id": "4ddbca2f",
   "metadata": {},
   "outputs": [],
   "source": [
    "import numpy as np\n",
    "import pandas as pd\n",
    "import scipy\n",
    "from scipy.stats import multivariate_normal\n",
    "from scipy.sparse import linalg\n",
    "import matplotlib.pyplot as plt\n",
    "from matplotlib import cm\n",
    "from tqdm.notebook import tqdm, trange\n",
    "import time # to be used in loop iterations\n",
    "np.random.seed(1234)"
   ]
  },
  {
   "cell_type": "code",
   "execution_count": 2,
   "id": "25671ecc",
   "metadata": {},
   "outputs": [],
   "source": [
    "def sigmoid(x):\n",
    "    if x < 0:\n",
    "        return np.exp(x)/(1+np.exp(x))\n",
    "    else:\n",
    "        return 1/(1+np.exp(-x))\n",
    "vsigmoid = np.vectorize(sigmoid)   "
   ]
  },
  {
   "cell_type": "code",
   "execution_count": 3,
   "id": "66092d48",
   "metadata": {},
   "outputs": [],
   "source": [
    "#standardising dataset\n",
    "def standardise_mlp(X):\n",
    "    \"\"\"\n",
    "    Args:\n",
    "\n",
    "    X: numpy array of shape (n_samples, n_features) representing the input data\n",
    "\n",
    "    Returns:\n",
    "\n",
    "    Xbar: numpy array of shape (n_samples, n_features) representing the standardized input data\n",
    "    \"\"\"\n",
    "    mu = np.mean(X, axis=0)\n",
    "    std = np.std(X, axis=0)\n",
    "    std_filled = std.copy()\n",
    "    std_filled[std==0] = 1.\n",
    "    Xstd = ((X-mu)/std_filled)\n",
    "    return Xstd"
   ]
  },
  {
   "cell_type": "code",
   "execution_count": 6,
   "id": "894c6cd5",
   "metadata": {},
   "outputs": [],
   "source": [
    "# Load training data \n",
    "\n",
    "#train data\n",
    "data = pd.read_csv('MNIST_train.csv')\n",
    "\n",
    "#training set ground truth labels\n",
    "y_train = np.squeeze(np.array(data[data.columns[0]]))\n",
    "\n",
    "train_data = data[data.columns[1:]].to_numpy()\n",
    "\n",
    "#standardise train data\n",
    "train_data_std = standardise_mlp(train_data)\n",
    "\n",
    "#test data\n",
    "test_data = pd.read_csv('MNIST_test.csv')\n",
    "\n",
    "#test set ground truth labels\n",
    "y_test = np.array(test_data[test_data.columns[0]])\n",
    "\n",
    "test_data = test_data[test_data.columns[1:]].to_numpy()\n",
    "\n",
    "#standardise test data\n",
    "test_data_std = standardise_mlp(test_data)\n",
    "\n",
    "\n",
    "x_train = train_data_std\n",
    "y_train = np.where(y_train == 0,  1, -1)\n",
    "x_test = test_data_std\n",
    "y_test = np.where(y_test == 0,  1, -1)"
   ]
  },
  {
   "cell_type": "code",
   "execution_count": 7,
   "id": "27eac28b",
   "metadata": {},
   "outputs": [],
   "source": [
    "def neural_net(x,w,c):\n",
    "    #shape of x: (n,d)\n",
    "    #shape of w: (N,d)\n",
    "    #shape of c: (1, N)\n",
    "    n = x.shape[0]\n",
    "    d = x.shape[1]\n",
    "    N = w.shape[0]\n",
    "    return (1/N*c@vsigmoid(w@x.T)).reshape(1,n)"
   ]
  },
  {
   "cell_type": "code",
   "execution_count": 64,
   "id": "45c6eedb",
   "metadata": {},
   "outputs": [],
   "source": [
    "def train(x_train, y_train, x_test, y_test, N = 100, learning_rate = 1e-2):\n",
    "    losses = []\n",
    "    #Initialise Params\n",
    "    M,d = x_train.shape\n",
    "    var_w = 6. / (d+N)\n",
    "    var_c = 6./ (10+N)\n",
    "    w =  np.random.multivariate_normal([0]*d, np.diag([np.sqrt(var_w)]*d), N).reshape(N,d)\n",
    "    c =  np.random.uniform(-1000, 1000, (1,N))\n",
    "    \n",
    "    #sgd - update weights (using KL loss)\n",
    "    count = 1\n",
    "    \n",
    "    for x,y in tqdm(zip(x_train,y_train)):\n",
    "        y = y.reshape(1,-1)\n",
    "        x = x.reshape(1,-1)\n",
    "        f = neural_net(x,w,c).reshape(1,-1)\n",
    "        s = vsigmoid(w@x.T)\n",
    "        dw = 1/N * ((f-y)@c).T*(s*(1-s))*x\n",
    "        dc = 1/N * (f-y).T*s.reshape(1,-1)\n",
    "        w -= learning_rate*dw\n",
    "        c -= learning_rate*dc\n",
    "        \n",
    "        if  count in [1, 10 , 100] + list((10**np.linspace(3, 4.7, 20)).astype(int)): \n",
    "            f_test = neural_net(x_test,w,c).reshape(-1,1)\n",
    "            y_test = y_test.reshape(-1,1)\n",
    "            loss = 0.5*np.mean((f_test-y_test)**2)\n",
    "            print('Epoch count: {}, Loss: {}'.format(count, loss))\n",
    "            losses.append(loss)\n",
    "        \n",
    "        count += 1 \n",
    "        \n",
    "    return c, w, np.ndarray.flatten(c), losses"
   ]
  },
  {
   "cell_type": "code",
   "execution_count": 109,
   "id": "796443c5",
   "metadata": {},
   "outputs": [],
   "source": [
    "def nesterov_train(x_train, y_train, x_test, y_test, N = 100, r = 3, learning_rate = 1e-2):\n",
    "    losses = []\n",
    "    #Initialise Params\n",
    "    M,d = x_train.shape\n",
    "    var_w = 6. / (d+N)\n",
    "    var_c = 6./ (10+N)\n",
    "    w =  np.random.multivariate_normal([0]*d, np.diag([np.sqrt(var_w)]*d), N).reshape(N,d)\n",
    "    c =  np.random.uniform(-1000, 1000, (1,N))\n",
    "    w_change = w\n",
    "    c_change = c\n",
    "    \n",
    "    count = 1\n",
    "    \n",
    "    for x,y in tqdm(zip(x_train,y_train)):\n",
    "        y = y.reshape(1,-1)\n",
    "        x = x.reshape(1,-1)\n",
    "        f = neural_net(x,w_change,c_change).reshape(1,-1)\n",
    "        s = vsigmoid(w_change@x.T)\n",
    "        dw = 1/N * ((f-y)@c_change).T*(s*(1-s))*x\n",
    "        dc = 1/N * (f-y).T*s.reshape(1,-1)\n",
    "        w1 = w\n",
    "        c1 = c\n",
    "        \n",
    "        if  count in [1, 10 , 100] + list((10**np.linspace(3, 4.7, 20)).astype(int)): \n",
    "            f_test = neural_net(x_test,w,c).reshape(-1,1)\n",
    "            y_test = y_test.reshape(-1,1)\n",
    "            loss = 0.5*np.mean((f_test-y_test)**2)\n",
    "            print('Epoch count: {}, Loss: {}'.format(count, loss))\n",
    "            losses.append(loss)\n",
    "         \n",
    "        \n",
    "        w_new = w_change - learning_rate*dw\n",
    "        c_new = c_change - learning_rate*dc\n",
    "        w_change = w_new + 0.9*(w_new-w1) \n",
    "        c_change = c_new + 0.9*(c_new-c1) \n",
    "        w = w_new\n",
    "        c = c_new\n",
    "        \n",
    "        count += 1\n",
    "        \n",
    "    return c, w, np.ndarray.flatten(c), losses"
   ]
  },
  {
   "cell_type": "code",
   "execution_count": 192,
   "id": "1b707144",
   "metadata": {},
   "outputs": [],
   "source": [
    "def Hom_SGLD(x_train, y_train, x_test, y_test, N = 100,  M = 20, λ = 10, learning_rate = 1e-3):\n",
    "\n",
    "    #initialise Params\n",
    "    d = x_train.shape[1]\n",
    "    var_w = 6. / (d+N)\n",
    "    var_c = 6./ (10+N)\n",
    "    w =  np.random.multivariate_normal([0]*d, np.diag([np.sqrt(var_w)]*d), N).reshape(N,d)\n",
    "    c =  np.random.uniform(-1000, 1000, (1,N))\n",
    "    \n",
    "    #initialise fast time scale variables Y as a numpy matrix with dimensions (num_epochs, N, M)\n",
    "    Y_w = np.zeros((M+1, N, d))\n",
    "    Y_c = np.zeros((M+1, N))\n",
    "    \n",
    "    losses = []\n",
    "    \n",
    "    count = 1\n",
    "    \n",
    "    for x,y in tqdm(zip(x_train,y_train)):\n",
    "        y = y.reshape(1,-1)\n",
    "        x = x.reshape(1,-1)\n",
    "\n",
    "        #update Y\n",
    "        Y_w_1 = np.zeros((M+1, N, d))\n",
    "        Y_c_1 = np.zeros((M+1, N))\n",
    "        Y_w_1[0, :, :] = Y_w[-1, :, :] \n",
    "        Y_c_1[0, :] = Y_c[-1, :]\n",
    "\n",
    "        for m in range(1,M+1):\n",
    "            δ = 0.01/20\n",
    "            γ = 0.1\n",
    "            β = 10\n",
    "            f = neural_net(x, Y_w_1[m-1, :, :].reshape((N,d)),  Y_c_1[m-1, :].reshape((1,N)))\n",
    "            s = vsigmoid(Y_w_1[m-1, :, :].reshape((N,d))@x.T)\n",
    "            dw = 1/N * ((f-y)@Y_c_1[m-1,:].reshape(1,N)).T*(s*(1-s))*x\n",
    "            dc = 1/N * (f-y).T*s.reshape(1,-1)\n",
    "\n",
    "            Y_w_1[m, :,:] = Y_w_1[m-1, : ,:] - δ*(dw-(1/γ)*(w-Y_w_1[m-1, :, :]))\\\n",
    "            + np.sqrt(2*(δ/β))*np.random.normal(0,1,(N,d))\n",
    "            Y_c_1[m, :] = Y_c_1[m-1,:] - δ*(dc-(1/γ)*(c-Y_c_1[m-1, :]))\\\n",
    "            + np.sqrt(2*(δ/β))*np.random.normal(0,1,N)\n",
    "\n",
    "        Y_w[0, :, :] = Y_w_1[-1, :, :]\n",
    "        Y_c[0, :] = Y_c_1[-1, :]\n",
    "\n",
    "\n",
    "        cal_Y_w = np.mean(Y_w_1, axis = 0)\n",
    "        cal_Y_c = np.mean(Y_c_1, axis = 0)\n",
    "\n",
    "\n",
    "        #update model parameters\n",
    "        Δ = learning_rate\n",
    "        X = np.hstack((w, c.T))\n",
    "        mu = np.mean(X, axis = 1).reshape(1,N)\n",
    "        w = w - 1/γ*(w-cal_Y_w)*Δ - λ*(w - mu.T)*Δ\n",
    "        c = c - 1/γ*(c-cal_Y_c)*Δ - λ*(c - mu)*Δ\n",
    "\n",
    "        if  count in [1, 10, 100] + list((10**np.linspace(3, 4.5, 20)).astype(int)): \n",
    "            f_test = neural_net(x_test,w,c).reshape(-1,1)\n",
    "            y_test = y_test.reshape(-1,1)\n",
    "            loss = 0.5*np.mean((f_test-y_test)**2)\n",
    "            print('Epoch count: {}, Loss: {}'.format(count, loss))\n",
    "            losses.append(loss)\n",
    "\n",
    "        count+=1\n",
    "                \n",
    "    return w, c, np.ndarray.flatten(c), np.array(losses)"
   ]
  },
  {
   "cell_type": "code",
   "execution_count": 184,
   "id": "d501001c",
   "metadata": {},
   "outputs": [
    {
     "data": {
      "application/vnd.jupyter.widget-view+json": {
       "model_id": "a43512f966594ddeb9c981cc52d4b431",
       "version_major": 2,
       "version_minor": 0
      },
      "text/plain": [
       "0it [00:00, ?it/s]"
      ]
     },
     "metadata": {},
     "output_type": "display_data"
    },
    {
     "name": "stdout",
     "output_type": "stream",
     "text": [
      "Epoch count: 1, Loss: 656.920969300456\n",
      "Epoch count: 10, Loss: 8957.013424392215\n",
      "Epoch count: 50, Loss: 3623.8857420574923\n",
      "Epoch count: 100, Loss: 531.2861058345605\n",
      "Epoch count: 1000, Loss: 0.5000379587351085\n",
      "Epoch count: 1228, Loss: 0.5000062783812412\n",
      "Epoch count: 1509, Loss: 0.5000007519053771\n",
      "Epoch count: 1855, Loss: 0.5000514131129237\n",
      "Epoch count: 2279, Loss: 0.4999481795903028\n",
      "Epoch count: 2801, Loss: 0.5000195406737393\n",
      "Epoch count: 3442, Loss: 0.4999680929702288\n",
      "Epoch count: 4229, Loss: 0.5000276035905076\n",
      "Epoch count: 5197, Loss: 0.4999926713005714\n",
      "Epoch count: 6386, Loss: 0.500012903725184\n",
      "Epoch count: 7847, Loss: 0.49999935312082167\n",
      "Epoch count: 9642, Loss: 0.5000365935550742\n",
      "Epoch count: 11849, Loss: 0.4999763172669232\n",
      "Epoch count: 14559, Loss: 0.4999782651976797\n",
      "Epoch count: 17890, Loss: 0.4999902275055795\n",
      "Epoch count: 21983, Loss: 0.5000361262384013\n",
      "Epoch count: 27013, Loss: 0.5000657020088259\n",
      "Epoch count: 33193, Loss: 0.4999467723229269\n",
      "Epoch count: 40787, Loss: 0.5000210170766385\n",
      "Epoch count: 50118, Loss: 0.49997217621732776\n"
     ]
    }
   ],
   "source": [
    "#simulate HomSGLD\n",
    "\n",
    "weights_HomSGLD, c_HomSGLD, params_HomSGLD, risk_HomSGLD,  =\\\n",
    "Hom_SGLD(x_train, y_train, x_test, y_test, N = 200, learning_rate = 1e-3)"
   ]
  },
  {
   "cell_type": "code",
   "execution_count": 187,
   "id": "1cb314cc",
   "metadata": {
    "scrolled": true
   },
   "outputs": [
    {
     "data": {
      "application/vnd.jupyter.widget-view+json": {
       "model_id": "e3756a61f3a04fa0b01a0aa34a349ce9",
       "version_major": 2,
       "version_minor": 0
      },
      "text/plain": [
       "0it [00:00, ?it/s]"
      ]
     },
     "metadata": {},
     "output_type": "display_data"
    },
    {
     "name": "stdout",
     "output_type": "stream",
     "text": [
      "Epoch count: 1, Loss: 1375.748244523452\n",
      "Epoch count: 10, Loss: 1991.975920023121\n",
      "Epoch count: 100, Loss: 838.1252173346121\n",
      "Epoch count: 1000, Loss: 243.82441409740775\n",
      "Epoch count: 1228, Loss: 233.6584786585303\n",
      "Epoch count: 1509, Loss: 192.66583811663165\n",
      "Epoch count: 1855, Loss: 167.77158615896587\n",
      "Epoch count: 2279, Loss: 157.56736683720953\n",
      "Epoch count: 2801, Loss: 148.53302474349184\n",
      "Epoch count: 3442, Loss: 128.11190035681383\n",
      "Epoch count: 4229, Loss: 118.90360894481204\n",
      "Epoch count: 5197, Loss: 114.7107754376242\n",
      "Epoch count: 6386, Loss: 103.77031746072726\n",
      "Epoch count: 7847, Loss: 103.53498055331077\n",
      "Epoch count: 9642, Loss: 92.6854179984925\n",
      "Epoch count: 11849, Loss: 90.56921996634574\n",
      "Epoch count: 14559, Loss: 85.17131246015782\n",
      "Epoch count: 17890, Loss: 81.92649904364225\n",
      "Epoch count: 21983, Loss: 78.34374385032342\n",
      "Epoch count: 27013, Loss: 75.603159850877\n",
      "Epoch count: 33193, Loss: 70.82584165782184\n",
      "Epoch count: 40787, Loss: 69.16086256448652\n",
      "Epoch count: 50118, Loss: 64.14294125641159\n"
     ]
    }
   ],
   "source": [
    "c, w, params, risk_SGD = train(x_train, y_train, x_test, y_test, N = 100, learning_rate = 1e-3)"
   ]
  },
  {
   "cell_type": "code",
   "execution_count": 188,
   "id": "f13214f6",
   "metadata": {},
   "outputs": [
    {
     "data": {
      "application/vnd.jupyter.widget-view+json": {
       "model_id": "758eb53cf2a340d393eb82076a0073f5",
       "version_major": 2,
       "version_minor": 0
      },
      "text/plain": [
       "0it [00:00, ?it/s]"
      ]
     },
     "metadata": {},
     "output_type": "display_data"
    },
    {
     "name": "stdout",
     "output_type": "stream",
     "text": [
      "Epoch count: 1, Loss: 406.3524977166169\n",
      "Epoch count: 10, Loss: 2443.047987379032\n",
      "Epoch count: 100, Loss: 634.4378476333052\n",
      "Epoch count: 1000, Loss: 171.67665197292018\n",
      "Epoch count: 1228, Loss: 163.12415241336424\n",
      "Epoch count: 1509, Loss: 149.12713581931064\n",
      "Epoch count: 1855, Loss: 141.02671428168262\n",
      "Epoch count: 2279, Loss: 139.19011191733588\n",
      "Epoch count: 2801, Loss: 125.90457010430005\n",
      "Epoch count: 3442, Loss: 118.70078769376069\n",
      "Epoch count: 4229, Loss: 112.38738414762618\n",
      "Epoch count: 5197, Loss: 120.54052688575334\n",
      "Epoch count: 6386, Loss: 116.50069993960591\n",
      "Epoch count: 7847, Loss: 113.15885304549546\n",
      "Epoch count: 9642, Loss: 111.35470541017787\n",
      "Epoch count: 11849, Loss: 110.1170930131302\n",
      "Epoch count: 14559, Loss: 105.90591369772869\n",
      "Epoch count: 17890, Loss: 105.80806764168898\n",
      "Epoch count: 21983, Loss: 102.25099406783748\n",
      "Epoch count: 27013, Loss: 102.75523302037114\n",
      "Epoch count: 33193, Loss: 99.91470289759063\n",
      "Epoch count: 40787, Loss: 96.4752989120979\n",
      "Epoch count: 50118, Loss: 95.34546477694394\n"
     ]
    }
   ],
   "source": [
    "c, w, params_NSGD, risk_NSGD = nesterov_train(x_train, y_train, x_test, y_test, N = 100, learning_rate = 1e-3)"
   ]
  },
  {
   "cell_type": "code",
   "execution_count": 191,
   "id": "2dc3fea9",
   "metadata": {},
   "outputs": [
    {
     "data": {
      "image/png": "[encoded data removed]",
      "text/plain": [
       "<Figure size 640x480 with 1 Axes>"
      ]
     },
     "metadata": {},
     "output_type": "display_data"
    }
   ],
   "source": [
    "#plot SGD losses vs Nesterov accelerated SGD losses\n",
    "indices = [1, 10 , 100] + list((10**np.linspace(3, 4.5, 20)).astype(int))\n",
    "indices_hom = [1, 10, 50, 100] + list((10**np.linspace(3, 4.7, 20)).astype(int))\n",
    "fig, ax = plt.subplots()\n",
    "ax.plot(indices, risk_SGD, c = 'b')\n",
    "ax.plot(indices, risk_NSGD, c = 'g')\n",
    "ax.plot(indices_hom, risk_HomSGLD, c = 'r')\n",
    "ax.scatter(indices, risk_SGD, marker = 'x', c = 'b', label = 'loss SGD')\n",
    "ax.scatter(indices, risk_NSGD, marker = 'x', c = 'g', label = 'loss NSGD')\n",
    "ax.scatter(indices_hom, risk_HomSGLD, marker = 'x', c = 'r', label = 'loss HomSGLD')\n",
    "\n",
    "ax.set_xscale('log')\n",
    "ax.set_xlabel('Iterations')\n",
    "ax.set_ylabel('Loss')\n",
    "ax.set_title('Losses in single digit classification')\n",
    "ax.legend()\n",
    "plt.show()"
   ]
  },
  {
   "cell_type": "code",
   "execution_count": 43,
   "id": "9bc05eaf",
   "metadata": {},
   "outputs": [
    {
     "data": {
      "text/plain": [
       "<matplotlib.legend.Legend at 0x7fedf438e9d0>"
      ]
     },
     "execution_count": 43,
     "metadata": {},
     "output_type": "execute_result"
    },
    {
     "data": {
      "image/png": "[encoded data removed]",
      "text/plain": [
       "<Figure size 640x480 with 1 Axes>"
      ]
     },
     "metadata": {},
     "output_type": "display_data"
    }
   ],
   "source": [
    "plt.hist(params, label = 'N: 10000', bins = 70)\n",
    "plt.title('Illustration of LLN for single-layer neural network performing digit classification on MNIST data')\n",
    "plt.ylabel('Probability density')\n",
    "plt.xlabel('output layer weight distribution')\n",
    "plt.legend()"
   ]
  }
 ],
 "metadata": {
  "kernelspec": {
   "display_name": "Python 3 (ipykernel)",
   "language": "python",
   "name": "python3"
  },
  "language_info": {
   "codemirror_mode": {
    "name": "ipython",
    "version": 3
   },
   "file_extension": ".py",
   "mimetype": "text/x-python",
   "name": "python",
   "nbconvert_exporter": "python",
   "pygments_lexer": "ipython3",
   "version": "3.8.16"
  }
 },
 "nbformat": 4,
 "nbformat_minor": 5
}
