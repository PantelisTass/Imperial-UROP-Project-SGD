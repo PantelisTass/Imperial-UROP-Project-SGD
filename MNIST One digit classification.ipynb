{
 "cells": [
  {
   "cell_type": "code",
   "execution_count": 1,
   "id": "4ddbca2f",
   "metadata": {},
   "outputs": [],
   "source": [
    "import numpy as np\n",
    "import pandas as pd\n",
    "import scipy\n",
    "from scipy.stats import multivariate_normal\n",
    "from scipy.sparse import linalg\n",
    "import matplotlib.pyplot as plt\n",
    "from matplotlib import cm\n",
    "from tqdm.notebook import tqdm, trange\n",
    "import time # to be used in loop iterations\n",
    "np.random.seed(1234)"
   ]
  },
  {
   "cell_type": "code",
   "execution_count": 2,
   "id": "25671ecc",
   "metadata": {},
   "outputs": [],
   "source": [
    "def sigmoid(x):\n",
    "    if x < 0:\n",
    "        return np.exp(x)/(1+np.exp(x))\n",
    "    else:\n",
    "        return 1/(1+np.exp(-x))\n",
    "vsigmoid = np.vectorize(sigmoid)   "
   ]
  },
  {
   "cell_type": "code",
   "execution_count": 3,
   "id": "66092d48",
   "metadata": {},
   "outputs": [],
   "source": [
    "#standardising dataset\n",
    "def standardise_mlp(X):\n",
    "    \"\"\"\n",
    "    Args:\n",
    "\n",
    "    X: numpy array of shape (n_samples, n_features) representing the input data\n",
    "\n",
    "    Returns:\n",
    "\n",
    "    Xbar: numpy array of shape (n_samples, n_features) representing the standardized input data\n",
    "    \"\"\"\n",
    "    mu = np.mean(X, axis=0)\n",
    "    std = np.std(X, axis=0)\n",
    "    std_filled = std.copy()\n",
    "    std_filled[std==0] = 1.\n",
    "    Xstd = ((X-mu)/std_filled)\n",
    "    return Xstd"
   ]
  },
  {
   "cell_type": "code",
   "execution_count": 5,
   "id": "894c6cd5",
   "metadata": {},
   "outputs": [],
   "source": [
    "# Load training data \n",
    "\n",
    "#train data\n",
    "data = pd.read_csv('MNIST_train.csv')\n",
    "\n",
    "#training set ground truth labels\n",
    "y_train = np.squeeze(np.array(data[data.columns[0]]))\n",
    "\n",
    "train_data = data[data.columns[1:]].to_numpy()\n",
    "\n",
    "#standardise train data\n",
    "train_data_std = standardise_mlp(train_data)\n",
    "\n",
    "#test data\n",
    "test_data = pd.read_csv('MNIST_test.csv')\n",
    "\n",
    "#test set ground truth labels\n",
    "y_test = np.array(test_data[test_data.columns[0]])\n",
    "\n",
    "test_data = test_data[test_data.columns[1:]].to_numpy()\n",
    "\n",
    "#standardise test data\n",
    "test_data_std = standardise_mlp(test_data)\n",
    "\n",
    "\n",
    "x_train = train_data_std\n",
    "y_train = np.where(y_train == 0,  1, -1)\n",
    "x_test = test_data_std\n",
    "y_test = np.where(y_test == 0,  1, -1)"
   ]
  },
  {
   "cell_type": "code",
   "execution_count": 6,
   "id": "27eac28b",
   "metadata": {},
   "outputs": [],
   "source": [
    "def neural_net(x,w,c):\n",
    "    #shape of x: (n,d)\n",
    "    #shape of w: (N,d)\n",
    "    #shape of c: (1, N)\n",
    "    n = x.shape[0]\n",
    "    d = x.shape[1]\n",
    "    N = w.shape[0]\n",
    "    return (1/N*c@vsigmoid(w@x.T)).reshape(1,n)"
   ]
  },
  {
   "cell_type": "code",
   "execution_count": 33,
   "id": "45c6eedb",
   "metadata": {},
   "outputs": [],
   "source": [
    "def train(x_train, y_train, x_test, y_test, N = 100, learning_rate = 1e-2):\n",
    "    losses = []\n",
    "    #Initialise Params\n",
    "    M,d = x_train.shape\n",
    "    var_w = 6. / (d+N)\n",
    "    var_c = 6./ (10+N)\n",
    "    w =  np.random.multivariate_normal([0]*d, np.diag([np.sqrt(var_w)]*d), N).reshape(N,d)\n",
    "    c =  np.random.uniform(-1000, 1000, (1,N))\n",
    "    \n",
    "    #sgd - update weights (using KL loss)\n",
    "    count = 1\n",
    "    \n",
    "    for x,y in tqdm(zip(x_train,y_train)):\n",
    "        y = y.reshape(1,-1)\n",
    "        x = x.reshape(1,-1)\n",
    "        f = neural_net(x,w,c).reshape(1,-1)\n",
    "        s = vsigmoid(w@x.T)\n",
    "        dw = 1/N * ((f-y)@c).T*(s*(1-s))*x\n",
    "        dc = 1/N * (f-y).T*s.reshape(1,-1)\n",
    "        w -= learning_rate*dw\n",
    "        c -= learning_rate*dc\n",
    "        '''\n",
    "        if count in [1, 10 , 100] or count in (10**np.linspace(3, 5.7, 20)).astype(int): \n",
    "            f_test = neural_net(x_test,w,c).reshape(-1,1)\n",
    "            y_test = y_test.reshape(-1,1)\n",
    "            loss = 0.5*np.mean((f_test-y_test)**2)\n",
    "            print('Epoch count: {}, Loss: {}'.format(count, loss))\n",
    "            losses.append(loss)\n",
    "        '''\n",
    "        count += 1 \n",
    "        \n",
    "    return c, w, np.ndarray.flatten(c), losses"
   ]
  },
  {
   "cell_type": "code",
   "execution_count": 34,
   "id": "1cb314cc",
   "metadata": {
    "scrolled": true
   },
   "outputs": [
    {
     "data": {
      "application/vnd.jupyter.widget-view+json": {
       "model_id": "9135f14c03fc4a09bccea4ea0a6b3091",
       "version_major": 2,
       "version_minor": 0
      },
      "text/plain": [
       "0it [00:00, ?it/s]"
      ]
     },
     "metadata": {},
     "output_type": "display_data"
    }
   ],
   "source": [
    "c, w, params, losses = train(x_train, y_train, x_test, y_test, N = 10000, learning_rate = 2e3)"
   ]
  },
  {
   "cell_type": "code",
   "execution_count": 43,
   "id": "9bc05eaf",
   "metadata": {},
   "outputs": [
    {
     "data": {
      "text/plain": [
       "<matplotlib.legend.Legend at 0x7fedf438e9d0>"
      ]
     },
     "execution_count": 43,
     "metadata": {},
     "output_type": "execute_result"
    },
    {
     "data": {
      "image/png": "[encoded data removed]",
      "text/plain": [
       "<Figure size 640x480 with 1 Axes>"
      ]
     },
     "metadata": {},
     "output_type": "display_data"
    }
   ],
   "source": [
    "plt.hist(params, label = 'N: 10000', bins = 70)\n",
    "plt.title('Illustration of LLN for single-layer neural network performing digit classification on MNIST data')\n",
    "plt.ylabel('Probability density')\n",
    "plt.xlabel('output layer weight distribution')\n",
    "plt.legend()"
   ]
  },
  {
   "cell_type": "code",
   "execution_count": 15,
   "id": "6c56c086",
   "metadata": {},
   "outputs": [
    {
     "data": {
      "text/plain": [
       "[<matplotlib.lines.Line2D at 0x7ff08210aa60>]"
      ]
     },
     "execution_count": 15,
     "metadata": {},
     "output_type": "execute_result"
    },
    {
     "data": {
      "image/png": "[encoded data removed]",
      "text/plain": [
       "<Figure size 640x480 with 1 Axes>"
      ]
     },
     "metadata": {},
     "output_type": "display_data"
    }
   ],
   "source": [
    "plt.plot(losses)"
   ]
  },
  {
   "cell_type": "code",
   "execution_count": 27,
   "id": "f25f8dd7",
   "metadata": {},
   "outputs": [
    {
     "data": {
      "text/plain": [
       "array([[-0.26283113]])"
      ]
     },
     "execution_count": 27,
     "metadata": {},
     "output_type": "execute_result"
    }
   ],
   "source": [
    "neural_net(x_test[126].reshape(1,-1), w,c)"
   ]
  },
  {
   "cell_type": "code",
   "execution_count": 37,
   "id": "deea7021",
   "metadata": {},
   "outputs": [
    {
     "data": {
      "text/plain": [
       "(100, 784)"
      ]
     },
     "execution_count": 37,
     "metadata": {},
     "output_type": "execute_result"
    }
   ],
   "source": [
    "w.shape"
   ]
  },
  {
   "cell_type": "code",
   "execution_count": 21,
   "id": "7390ff25",
   "metadata": {},
   "outputs": [
    {
     "data": {
      "text/plain": [
       "-1"
      ]
     },
     "execution_count": 21,
     "metadata": {},
     "output_type": "execute_result"
    }
   ],
   "source": [
    "y_test[23]"
   ]
  },
  {
   "cell_type": "code",
   "execution_count": 66,
   "id": "f1a893c8",
   "metadata": {},
   "outputs": [
    {
     "data": {
      "text/plain": [
       "(array([   2,    9,   12,   24,   27,   54,   68,   70,  100,  125,  135,\n",
       "         147,  156,  182,  187,  191,  193,  214,  245,  268,  270,  293,\n",
       "         295,  296,  304,  310,  311,  323,  326,  345,  364,  371,  379,\n",
       "         406,  423,  439,  440,  442,  458,  484,  489,  497,  524,  544,\n",
       "         545,  551,  560,  563,  566,  580,  585,  591,  596,  607,  610,\n",
       "         619,  641,  643,  655,  660,  700,  703,  712,  716,  720,  722,\n",
       "         741,  749,  762,  793,  803,  820,  844,  850,  853,  870,  883,\n",
       "         894,  895,  903,  931,  971,  980,  992,  996, 1000, 1008, 1033,\n",
       "        1046, 1060, 1083, 1093, 1120, 1147, 1153, 1175, 1187, 1190, 1194,\n",
       "        1196, 1202, 1217, 1219, 1222, 1230, 1245, 1260, 1270, 1272, 1287,\n",
       "        1293, 1296, 1332, 1378, 1389, 1398, 1403, 1407, 1410, 1415, 1437,\n",
       "        1444, 1453, 1456, 1467, 1486, 1503, 1516, 1525, 1532, 1533, 1534,\n",
       "        1557, 1564, 1569, 1588, 1589, 1609, 1618, 1620, 1622, 1637, 1649,\n",
       "        1691, 1699, 1707, 1711, 1712, 1722, 1725, 1738, 1747, 1756, 1761,\n",
       "        1763, 1767, 1774, 1776, 1793, 1795, 1806, 1807, 1825, 1840, 1842,\n",
       "        1869, 1891, 1897, 1906, 1917, 1943, 1958, 1971, 1986, 1994, 2022,\n",
       "        2032, 2041, 2059, 2060, 2066, 2080, 2086, 2095, 2105, 2126, 2154,\n",
       "        2177, 2184, 2187, 2189, 2203, 2208, 2216, 2225, 2235, 2293, 2294,\n",
       "        2303, 2317, 2325, 2327, 2328, 2332, 2369, 2375, 2377, 2383, 2384,\n",
       "        2402, 2409, 2416, 2434, 2448, 2454, 2460, 2478, 2484, 2491, 2505,\n",
       "        2526, 2530, 2535, 2556, 2567, 2570, 2591, 2592, 2618, 2626, 2630,\n",
       "        2637, 2640, 2648, 2655, 2656, 2659, 2686, 2702, 2706, 2712, 2713,\n",
       "        2716, 2732, 2746, 2747, 2760, 2762, 2763, 2764, 2776, 2778, 2793,\n",
       "        2810, 2816, 2820, 2823, 2841, 2872, 2893, 2898, 2931, 2936, 2941,\n",
       "        2943, 2953, 2961, 2971, 2987, 2995, 2998, 3012, 3015, 3019, 3031,\n",
       "        3042, 3043, 3051, 3076, 3086, 3089, 3139, 3169, 3177, 3178, 3184,\n",
       "        3190, 3209, 3214, 3218, 3225, 3241, 3242, 3250, 3264, 3265, 3270,\n",
       "        3296, 3304, 3305, 3309, 3314, 3316, 3321, 3324, 3345, 3346, 3357,\n",
       "        3358, 3367, 3370, 3400, 3411, 3412, 3416, 3438, 3444, 3445, 3449,\n",
       "        3457, 3478, 3480, 3495, 3511, 3535, 3539, 3573, 3580, 3583, 3607,\n",
       "        3612, 3623, 3633, 3639, 3645, 3649, 3659, 3676, 3679, 3694, 3697,\n",
       "        3705, 3709, 3723, 3733, 3734, 3763, 3767, 3773, 3789, 3802, 3803,\n",
       "        3804, 3817, 3829, 3846, 3848, 3863, 3866, 3869, 3882, 3894, 3902,\n",
       "        3910, 3939, 3941, 3958, 3979, 3981, 3988, 4022, 4032, 4033, 4042,\n",
       "        4047, 4061, 4064, 4069, 4078, 4079, 4081, 4089, 4090, 4145, 4149,\n",
       "        4154, 4156, 4165, 4185, 4187, 4207, 4226, 4240, 4277, 4280, 4281,\n",
       "        4285, 4319, 4326, 4328, 4342, 4347, 4350, 4352, 4360, 4364, 4369,\n",
       "        4391, 4402, 4403, 4431, 4446, 4447, 4456, 4461, 4469, 4472, 4476,\n",
       "        4494, 4514, 4526, 4530, 4541, 4553, 4603, 4610, 4613, 4616, 4627,\n",
       "        4630, 4640, 4641, 4649, 4671, 4674, 4717, 4719, 4738, 4740, 4756,\n",
       "        4775, 4779, 4787, 4803, 4818, 4823, 4833, 4856, 4861, 4879, 4886,\n",
       "        4890, 4922, 4934, 4936, 4956, 4957, 4958, 4991, 4998, 5005, 5007,\n",
       "        5030, 5032, 5034, 5042, 5050, 5068, 5078, 5086, 5107, 5108, 5123,\n",
       "        5132, 5138, 5140, 5146, 5154, 5164, 5240, 5242, 5243, 5248, 5250,\n",
       "        5252, 5254, 5256, 5258, 5269, 5279, 5289, 5300, 5304, 5306, 5319,\n",
       "        5320, 5336, 5341, 5352, 5367, 5368, 5397, 5404, 5414, 5427, 5429,\n",
       "        5434, 5442, 5449, 5451, 5458, 5462, 5469, 5482, 5504, 5512, 5518,\n",
       "        5525, 5528, 5530, 5553, 5566, 5583, 5591, 5592, 5602, 5612, 5651,\n",
       "        5652, 5658, 5668, 5672, 5683, 5684, 5685, 5694, 5717, 5720, 5730,\n",
       "        5736, 5749, 5755, 5777, 5790, 5805, 5811, 5817, 5826, 5827, 5829,\n",
       "        5837, 5846, 5864, 5869, 5889, 5898, 5917, 5928, 5929, 5931, 5941,\n",
       "        5951, 5964, 5973, 5979, 5986, 5989, 5992, 6002, 6014, 6015, 6039,\n",
       "        6061, 6071, 6081, 6096, 6098, 6113, 6116, 6126, 6128, 6130, 6132,\n",
       "        6139, 6162, 6180, 6190, 6200, 6210, 6240, 6249, 6258, 6263, 6279,\n",
       "        6285, 6286, 6287, 6292, 6308, 6318, 6327, 6341, 6343, 6350, 6382,\n",
       "        6397, 6399, 6423, 6425, 6427, 6428, 6436, 6443, 6453, 6460, 6469,\n",
       "        6472, 6477, 6488, 6509, 6525, 6531, 6545, 6556, 6566, 6579, 6582,\n",
       "        6587, 6589, 6596, 6601, 6620, 6632, 6642, 6650, 6671, 6700, 6710,\n",
       "        6718, 6749, 6751, 6752, 6759, 6765, 6769, 6778, 6780, 6785, 6794,\n",
       "        6797, 6807, 6817, 6832, 6834, 6840, 6842, 6876, 6891, 6893, 6920,\n",
       "        6922, 6924, 6926, 6936, 6946, 6958, 6961, 6967, 6969, 6970, 6977,\n",
       "        6978, 7030, 7036, 7048, 7051, 7061, 7071, 7083, 7085, 7111, 7128,\n",
       "        7132, 7138, 7160, 7161, 7167, 7174, 7189, 7201, 7202, 7215, 7220,\n",
       "        7224, 7230, 7254, 7260, 7262, 7268, 7278, 7288, 7316, 7329, 7336,\n",
       "        7341, 7353, 7362, 7366, 7367, 7380, 7384, 7409, 7439, 7445, 7448,\n",
       "        7451, 7464, 7484, 7490, 7504, 7505, 7515, 7525, 7535, 7536, 7554,\n",
       "        7557, 7565, 7592, 7598, 7600, 7606, 7616, 7624, 7645, 7654, 7670,\n",
       "        7687, 7692, 7698, 7701, 7702, 7705, 7722, 7726, 7736, 7746, 7779,\n",
       "        7781, 7790, 7809, 7816, 7819, 7829, 7834, 7837, 7845, 7854, 7865,\n",
       "        7867, 7872, 7881, 7886, 7888, 7897, 7906, 7912, 7932, 7942, 7952,\n",
       "        7966, 7986, 7988, 8006, 8015, 8020, 8022, 8028, 8054, 8055, 8056,\n",
       "        8066, 8076, 8084, 8097, 8110, 8113, 8116, 8126, 8136, 8151, 8162,\n",
       "        8171, 8178, 8193, 8194, 8198, 8211, 8220, 8227, 8242, 8250, 8259,\n",
       "        8272, 8277, 8282, 8306, 8324, 8334, 8337, 8341, 8342, 8350, 8358,\n",
       "        8372, 8381, 8387, 8388, 8413, 8424, 8447, 8457, 8467, 8480, 8489,\n",
       "        8495, 8500, 8512, 8513, 8527, 8534, 8547, 8557, 8566, 8575, 8586,\n",
       "        8594, 8610, 8613, 8618, 8620, 8628, 8633, 8656, 8670, 8680, 8690,\n",
       "        8729, 8730, 8737, 8747, 8751, 8762, 8763, 8764, 8771, 8794, 8797,\n",
       "        8807, 8817, 8844, 8848, 8850, 8857, 8858, 8864, 8867, 8880, 8894,\n",
       "        8912, 8920, 8928, 8950, 8977, 8982, 8990, 8991, 8998, 9003, 9015,\n",
       "        9036, 9037, 9051, 9059, 9069, 9079, 9094, 9104, 9133, 9136, 9157,\n",
       "        9161, 9166, 9173, 9178, 9188, 9198, 9219, 9220, 9222, 9229, 9235,\n",
       "        9238, 9243, 9263, 9272, 9280, 9295, 9296, 9309, 9310, 9324, 9338,\n",
       "        9351, 9357, 9366, 9376, 9386, 9395, 9404, 9413, 9424, 9435, 9438,\n",
       "        9439, 9454, 9456, 9458, 9487, 9497, 9507, 9518, 9526, 9527, 9541,\n",
       "        9551, 9584, 9600, 9610, 9620, 9630, 9632, 9633, 9646, 9647, 9662,\n",
       "        9665, 9676, 9686, 9687, 9703, 9713, 9723, 9738, 9752, 9756, 9760,\n",
       "        9762, 9790, 9799, 9800, 9808, 9817, 9825, 9849, 9864, 9878, 9884,\n",
       "        9896, 9901, 9910, 9929, 9938, 9947, 9950, 9951, 9961, 9963, 9982,\n",
       "        9992]),)"
      ]
     },
     "execution_count": 66,
     "metadata": {},
     "output_type": "execute_result"
    }
   ],
   "source": [
    "np.where(y_test == 1)"
   ]
  }
 ],
 "metadata": {
  "kernelspec": {
   "display_name": "Python 3 (ipykernel)",
   "language": "python",
   "name": "python3"
  },
  "language_info": {
   "codemirror_mode": {
    "name": "ipython",
    "version": 3
   },
   "file_extension": ".py",
   "mimetype": "text/x-python",
   "name": "python",
   "nbconvert_exporter": "python",
   "pygments_lexer": "ipython3",
   "version": "3.8.16"
  }
 },
 "nbformat": 4,
 "nbformat_minor": 5
}
