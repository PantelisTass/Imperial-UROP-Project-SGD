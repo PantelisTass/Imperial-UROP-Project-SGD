{
 "cells": [
  {
   "cell_type": "code",
   "execution_count": 37,
   "id": "4ddbca2f",
   "metadata": {},
   "outputs": [],
   "source": [
    "import numpy as np\n",
    "import pandas as pd\n",
    "import scipy\n",
    "import random\n",
    "from scipy.stats import multivariate_normal\n",
    "from scipy.sparse import linalg\n",
    "import matplotlib.pyplot as plt\n",
    "from matplotlib import cm\n",
    "from tqdm.notebook import tqdm, trange\n",
    "import time # to be used in loop iterations\n",
    "np.random.seed(1234)"
   ]
  },
  {
   "cell_type": "markdown",
   "id": "f6d06124",
   "metadata": {},
   "source": [
    "## Single-digit neural single layer network trained on the MNIST dataset"
   ]
  },
  {
   "cell_type": "markdown",
   "id": "95fc0c32",
   "metadata": {},
   "source": [
    "I implemented a neural single layer network with symmetric architecture trained on the MNIST dataset that performs single digit architecture and tried to study the asymptotic distribution of network parameters as claimed in the 2019 paper by Sirgiano and Spiliopoulos entitled 'Mean Field Analysis of Neural Networks: A Law of Large Numbers'."
   ]
  },
  {
   "cell_type": "code",
   "execution_count": 6,
   "id": "25671ecc",
   "metadata": {},
   "outputs": [],
   "source": [
    "def sigmoid(x):\n",
    "    if x < 0:\n",
    "        return np.exp(x)/(1+np.exp(x))\n",
    "    else:\n",
    "        return 1/(1+np.exp(-x))\n",
    "vsigmoid = np.vectorize(sigmoid)   "
   ]
  },
  {
   "cell_type": "code",
   "execution_count": 7,
   "id": "66092d48",
   "metadata": {},
   "outputs": [],
   "source": [
    "#standardising dataset\n",
    "def standardise_mlp(X):\n",
    "    \"\"\"\n",
    "    Args:\n",
    "\n",
    "    X: numpy array of shape (n_samples, n_features) representing the input data\n",
    "\n",
    "    Returns:\n",
    "\n",
    "    Xbar: numpy array of shape (n_samples, n_features) representing the standardized input data\n",
    "    \"\"\"\n",
    "    mu = np.mean(X, axis=0)\n",
    "    std = np.std(X, axis=0)\n",
    "    std_filled = std.copy()\n",
    "    std_filled[std==0] = 1.\n",
    "    Xstd = ((X-mu)/std_filled)\n",
    "    return Xstd"
   ]
  },
  {
   "cell_type": "code",
   "execution_count": 8,
   "id": "894c6cd5",
   "metadata": {},
   "outputs": [],
   "source": [
    "# Load training data \n",
    "\n",
    "#train data\n",
    "data = pd.read_csv('MNIST_train.csv')\n",
    "\n",
    "#training set ground truth labels\n",
    "y_train = np.squeeze(np.array(data[data.columns[0]]))\n",
    "\n",
    "train_data = data[data.columns[1:]].to_numpy()\n",
    "\n",
    "#standardise train data\n",
    "train_data_std = standardise_mlp(train_data)\n",
    "\n",
    "#test data\n",
    "test_data = pd.read_csv('MNIST_test.csv')\n",
    "\n",
    "#test set ground truth labels\n",
    "y_test = np.array(test_data[test_data.columns[0]])\n",
    "\n",
    "test_data = test_data[test_data.columns[1:]].to_numpy()\n",
    "\n",
    "#standardise test data\n",
    "test_data_std = standardise_mlp(test_data)\n",
    "\n",
    "\n",
    "x_train = train_data_std\n",
    "y_train = np.where(y_train == 0,  1, -1)\n",
    "x_test = test_data_std\n",
    "y_test = np.where(y_test == 0,  1, -1)"
   ]
  },
  {
   "cell_type": "code",
   "execution_count": 9,
   "id": "27eac28b",
   "metadata": {},
   "outputs": [],
   "source": [
    "def neural_net(x,w,c):\n",
    "    \"\"\"\n",
    "    Compute the output of a neural network with given weights and coefficients.\n",
    "\n",
    "    Parameters:\n",
    "    x (np.ndarray): Input data with shape (n, d).\n",
    "    w (np.ndarray): Weight matrix with shape (N, d).\n",
    "    c (np.ndarray): Coefficients of the neural network with shape (1, N).\n",
    "\n",
    "    Returns:\n",
    "    np.ndarray: The output of the neural network with shape (1, n).\n",
    "    \"\"\"\n",
    "    n = x.shape[0]\n",
    "    d = x.shape[1]\n",
    "    N = w.shape[0]\n",
    "    return (1/N*c@vsigmoid(w@x.T)).reshape(1,n)"
   ]
  },
  {
   "cell_type": "code",
   "execution_count": 75,
   "id": "45c6eedb",
   "metadata": {},
   "outputs": [],
   "source": [
    "def train(x_train, y_train, x_test, y_test, N = 100, learning_rate = 1e-2):\n",
    "    \"\"\"\n",
    "    Train a neural network with a specified number of units (N) using stochastic gradient descent.\n",
    "\n",
    "    Parameters:\n",
    "    x_train (np.ndarray): Training input data with shape (M, d).\n",
    "    y_train (np.ndarray): Training target data with shape (M, 1).\n",
    "    x_test (np.ndarray): Testing input data with shape (M_test, d).\n",
    "    y_test (np.ndarray): Testing target data with shape (M_test, 1).\n",
    "    N (int): The number of neural network units (default is 100).\n",
    "    learning_rate (float): The learning rate for stochastic gradient descent (default is 1e-2).\n",
    "\n",
    "    Returns:\n",
    "    tuple: A tuple containing the trained coefficients 'c' and weights 'w', flattened coefficients 'c_flat',\n",
    "           and a list of loss values during training.\n",
    "    \"\"\"\n",
    "    losses = []\n",
    "    #Initialise Params\n",
    "    M,d = x_train.shape\n",
    "    var_w = 6. / (d+N)\n",
    "    var_c = 6./ (10+N)\n",
    "    w =  np.random.multivariate_normal([0]*d, np.diag([np.sqrt(var_w)]*d), N).reshape(N,d)\n",
    "    c =  np.random.uniform(-1000, 1000, (1,N))\n",
    "    \n",
    "    #sgd - update weights (using KL loss)\n",
    "    epoch = 1\n",
    "    \n",
    "    while epoch < 1e6:\n",
    "        #shuffle training data\n",
    "        indices = np.arange(y_train.size)\n",
    "        np.random.shuffle(indices)\n",
    "        x_train = x_train[indices,:]\n",
    "        y_train = y_train[indices]\n",
    "    \n",
    "        for x,y in tqdm(np.random.shuffle(zip(x_train,y_train))):\n",
    "            y = y.reshape(1,-1)\n",
    "            x = x.reshape(1,-1)\n",
    "            f = neural_net(x,w,c).reshape(1,-1)\n",
    "            s = vsigmoid(w@x.T)\n",
    "            dw = 1/N * ((f-y)@c).T*(s*(1-s))*x\n",
    "            dc = 1/N * (f-y).T*s.reshape(1,-1)\n",
    "            w -= learning_rate*dw\n",
    "            c -= learning_rate*dc\n",
    "\n",
    "            if  epoch in [1, 10 , 100] + list((10**np.linspace(3, 6, 30)).astype(int)): \n",
    "                f_test = neural_net(x_test,w,c).reshape(-1,1)\n",
    "                y_test = y_test.reshape(-1,1)\n",
    "                loss = 0.5*np.mean((f_test-y_test)**2)\n",
    "                print('Epoch count: {}, Loss: {}'.format(epoch, loss))\n",
    "                losses.append(loss)\n",
    "\n",
    "            epoch += 1 \n",
    "        \n",
    "    return c, w, np.ndarray.flatten(c), losses"
   ]
  },
  {
   "cell_type": "code",
   "execution_count": 76,
   "id": "f16b9795",
   "metadata": {},
   "outputs": [],
   "source": [
    "def nesterov_train(x_train, y_train, x_test, y_test, N = 100, r = 3, learning_rate = 1e-2):\n",
    "    \"\"\"\n",
    "    Train a neural network with a specified number of units (N) using Nesterov's accelerated gradient descent.\n",
    "\n",
    "    Parameters:\n",
    "    x_train (np.ndarray): Training input data with shape (M, d).\n",
    "    y_train (np.ndarray): Training target data with shape (M, 1).\n",
    "    x_test (np.ndarray): Testing input data with shape (M_test, d).\n",
    "    y_test (np.ndarray): Testing target data with shape (M_test, 1).\n",
    "    N (int): The number of neural network units (default is 100).\n",
    "    r (int): The number of steps for Nesterov's acceleration (default is 3).\n",
    "    learning_rate (float): The learning rate for Nesterov's SGD (default is 1e-2).\n",
    "\n",
    "    Returns:\n",
    "    tuple: A tuple containing the trained coefficients 'c' and weights 'w', flattened coefficients 'c_flat',\n",
    "           and a list of loss values during training.\n",
    "    \"\"\"\n",
    "    losses = []\n",
    "    #Initialise Params\n",
    "    M,d = x_train.shape\n",
    "    var_w = 6. / (d+N)\n",
    "    var_c = 6./ (10+N)\n",
    "    w =  np.random.multivariate_normal([0]*d, np.diag([np.sqrt(var_w)]*d), N).reshape(N,d)\n",
    "    c =  np.random.uniform(-1000, 1000, (1,N))\n",
    "    w_change = w\n",
    "    c_change = c\n",
    "    \n",
    "    epoch = 1\n",
    "    while epoch < 1e6:\n",
    "        #shuffle training data\n",
    "        indices = np.arange(y_train.size)\n",
    "        np.random.shuffle(indices)\n",
    "        x_train = x_train[indices,:]\n",
    "        y_train = y_train[indices]\n",
    "    \n",
    "        for x,y in tqdm(zip(x_train,y_train)):\n",
    "            y = y.reshape(1,-1)\n",
    "            x = x.reshape(1,-1)\n",
    "            f = neural_net(x,w_change,c_change).reshape(1,-1)\n",
    "            s = vsigmoid(w_change@x.T)\n",
    "            dw = 1/N * ((f-y)@c_change).T*(s*(1-s))*x\n",
    "            dc = 1/N * (f-y).T*s.reshape(1,-1)\n",
    "            w1 = w\n",
    "            c1 = c\n",
    "\n",
    "            if  epoch in [1, 10 , 100] + list((10**np.linspace(3, 6, 30)).astype(int)): \n",
    "                f_test = neural_net(x_test,w,c).reshape(-1,1)\n",
    "                y_test = y_test.reshape(-1,1)\n",
    "                loss = 0.5*np.mean((f_test-y_test)**2)\n",
    "                print('Epoch count: {}, Loss: {}'.format(epoch, loss))\n",
    "                losses.append(loss)\n",
    "\n",
    "            w_new = w_change - learning_rate*dw\n",
    "            c_new = c_change - learning_rate*dc\n",
    "            w_change = w_new + 0.9*(w_new-w1) \n",
    "            c_change = c_new + 0.9*(c_new-c1) \n",
    "            w = w_new\n",
    "            c = c_new\n",
    "\n",
    "            epoch += 1\n",
    "        \n",
    "    return c, w, np.ndarray.flatten(c), losses"
   ]
  },
  {
   "cell_type": "code",
   "execution_count": 78,
   "id": "84db9349",
   "metadata": {},
   "outputs": [],
   "source": [
    "def Hom_SGLD(x_train, y_train, x_test, y_test, N = 100,  M = 20, λ = 10, learning_rate = 1e-3):\n",
    "    \"\"\"\n",
    "    Train a neural network with a specified number of units (N) using Hamiltonian SGLD (Hom-SGLD).\n",
    "\n",
    "    Parameters:\n",
    "    x_train (np.ndarray): Training input data with shape (M, d).\n",
    "    y_train (np.ndarray): Training target data with shape (M, 1).\n",
    "    x_test (np.ndarray): Testing input data with shape (M_test, d).\n",
    "    y_test (np.ndarray): Testing target data with shape (M_test, 1).\n",
    "    N (int): The number of neural network units (default is 100).\n",
    "    M (int): The number of Hamiltonian SGLD steps (default is 20).\n",
    "    λ (float): The regularization parameter (default is 10).\n",
    "    learning_rate (float): The learning rate for Hom-SGLD (default is 1e-3).\n",
    "\n",
    "    Returns:\n",
    "    tuple: A tuple containing the trained coefficients 'c' and weights 'w', flattened coefficients 'c_flat',\n",
    "           and an array of loss values during training.\n",
    "    \"\"\"\n",
    "\n",
    "    #initialise Params\n",
    "    d = x_train.shape[1]\n",
    "    var_w = 6. / (d+N)\n",
    "    var_c = 6./ (10+N)\n",
    "    w =  np.random.multivariate_normal([0]*d, np.diag([np.sqrt(var_w)]*d), N).reshape(N,d)\n",
    "    c =  np.random.uniform(-1000, 1000, (1,N))\n",
    "    \n",
    "    #initialise fast time scale variables Y as a numpy matrix with dimensions (num_epochs, N, M)\n",
    "    Y_w = np.zeros((M+1, N, d))\n",
    "    Y_c = np.zeros((M+1, N))\n",
    "    \n",
    "    losses = []\n",
    "    \n",
    "    epoch = 1\n",
    "    while epoch < 1e6:\n",
    "        #shuffle training data\n",
    "        indices = np.arange(y_train.size)\n",
    "        np.random.shuffle(indices)\n",
    "        x_train = x_train[indices,:]\n",
    "        y_train = y_train[indices]\n",
    "    \n",
    "        for x,y in tqdm(zip(x_train,y_train)):\n",
    "            y = y.reshape(1,-1)\n",
    "            x = x.reshape(1,-1)\n",
    "\n",
    "            #update Y\n",
    "            Y_w_1 = np.zeros((M+1, N, d))\n",
    "            Y_c_1 = np.zeros((M+1, N))\n",
    "            Y_w_1[0, :, :] = Y_w[-1, :, :] \n",
    "            Y_c_1[0, :] = Y_c[-1, :]\n",
    "\n",
    "            for m in range(1,M+1):\n",
    "                δ = 0.01/20\n",
    "                γ = 0.1\n",
    "                β = 10\n",
    "                f = neural_net(x, Y_w_1[m-1, :, :].reshape((N,d)),  Y_c_1[m-1, :].reshape((1,N)))\n",
    "                s = vsigmoid(Y_w_1[m-1, :, :].reshape((N,d))@x.T)\n",
    "                dw = 1/N * ((f-y)@Y_c_1[m-1,:].reshape(1,N)).T*(s*(1-s))*x\n",
    "                dc = 1/N * (f-y).T*s.reshape(1,-1)\n",
    "\n",
    "                Y_w_1[m, :,:] = Y_w_1[m-1, : ,:] - δ*(dw-(1/γ)*(w-Y_w_1[m-1, :, :]))\\\n",
    "                + np.sqrt(2*(δ/β))*np.random.normal(0,1,(N,d))\n",
    "                Y_c_1[m, :] = Y_c_1[m-1,:] - δ*(dc-(1/γ)*(c-Y_c_1[m-1, :]))\\\n",
    "                + np.sqrt(2*(δ/β))*np.random.normal(0,1,N)\n",
    "\n",
    "            Y_w[0, :, :] = Y_w_1[-1, :, :]\n",
    "            Y_c[0, :] = Y_c_1[-1, :]\n",
    "\n",
    "\n",
    "            cal_Y_w = np.mean(Y_w_1, axis = 0)\n",
    "            cal_Y_c = np.mean(Y_c_1, axis = 0)\n",
    "\n",
    "\n",
    "            #update model parameters\n",
    "            Δ = learning_rate\n",
    "            X = np.hstack((w, c.T))\n",
    "            mu = np.mean(X, axis = 1).reshape(1,N)\n",
    "            w = w - 1/γ*(w-cal_Y_w)*Δ - λ*(w - mu.T)*Δ\n",
    "            c = c - 1/γ*(c-cal_Y_c)*Δ - λ*(c - mu)*Δ\n",
    "\n",
    "            if  epoch in [1, 10, 100] + list((10**np.linspace(3, 6, 30)).astype(int)): \n",
    "                f_test = neural_net(x_test,w,c).reshape(-1,1)\n",
    "                y_test = y_test.reshape(-1,1)\n",
    "                loss = 0.5*np.mean((f_test-y_test)**2)\n",
    "                print('Epoch count: {}, Loss: {}'.format(epoch, loss))\n",
    "                losses.append(loss)\n",
    "\n",
    "            epoch +=1\n",
    "                \n",
    "    return c, w, np.ndarray.flatten(c), np.array(losses)"
   ]
  },
  {
   "cell_type": "code",
   "execution_count": 74,
   "id": "b4085a58",
   "metadata": {},
   "outputs": [],
   "source": [
    "def Mass(x_train, y_train, x_test, y_test, N = 100,  M = 20, λ = 10, learning_rate = 1e-3):\n",
    "    \"\"\"\n",
    "    Train a neural network with a specified number of units (N) using Momentum-added Stochastic Solver (Mass).\n",
    "\n",
    "    Parameters:\n",
    "    x_train (np.ndarray): Training input data with shape (M, d).\n",
    "    y_train (np.ndarray): Training target data with shape (M, 1).\n",
    "    x_test (np.ndarray): Testing input data with shape (M_test, d).\n",
    "    y_test (np.ndarray): Testing target data with shape (M_test, 1).\n",
    "    N (int): The number of neural network units (default is 100).\n",
    "    M (int): The number of Mass steps (default is 20).\n",
    "    λ (float): The regularization parameter (default is 10).\n",
    "    learning_rate (float): The learning rate for Mass (default is 1e-3).\n",
    "\n",
    "    Returns:\n",
    "    tuple: A tuple containing the trained coefficients 'c' and weights 'w',\n",
    "           and an array of loss values during training.\n",
    "    \"\"\"\n",
    "\n",
    "    losses = []\n",
    "    #Initialise Params\n",
    "    M,d = x_train.shape\n",
    "    var_w = 6. / (d+N)\n",
    "    var_c = 6./ (10+N)\n",
    "    w =  np.random.multivariate_normal([0]*d, np.diag([np.sqrt(var_w)]*d), N).reshape(N,d)\n",
    "    c =  np.random.uniform(-1000, 1000, (1,N))\n",
    "    w_change = w\n",
    "    c_change = c\n",
    "    \n",
    "    epoch = 1\n",
    "    \n",
    "    while epoch < 1e6:\n",
    "        #shuffle training data\n",
    "        indices = np.arange(y_train.size)\n",
    "        np.random.shuffle(indices)\n",
    "        x_train = x_train[indices,:]\n",
    "        y_train = y_train[indices]\n",
    "        \n",
    "        for x,y in tqdm(zip(x_train, y_train)):\n",
    "            y = y.reshape(1,-1)\n",
    "            x = x.reshape(1,-1)\n",
    "            f = neural_net(x,w_change,c_change).reshape(1,-1)\n",
    "            s = vsigmoid(w_change@x.T)\n",
    "            dw = 1/N * ((f-y)@c_change).T*(s*(1-s))*x\n",
    "            dc = 1/N * (f-y).T*s.reshape(1,-1)\n",
    "            w1 = w\n",
    "            c1 = c\n",
    "\n",
    "            alpha = 0.05\n",
    "            m = 2\n",
    "            eta2 = learning_rate/(1+alpha)/m\n",
    "\n",
    "            w_new = w_change - learning_rate*dw\n",
    "            c_new = c_change - learning_rate*dc\n",
    "            w_change = w_new + 0.9*(w_new-w1) - eta2*dw\n",
    "            c_change = c_new + 0.9*(c_new-c1) - eta2*dc\n",
    "            w = w_new\n",
    "            c = c_new\n",
    "\n",
    "            if  epoch in [1, 10, 100] + list((10**np.linspace(3, 6, 30)).astype(int)): \n",
    "                f_test = neural_net(x_test,w,c).reshape(-1,1)\n",
    "                y_test = y_test.reshape(-1,1)\n",
    "                loss = 0.5*np.mean((f_test-y_test)**2)\n",
    "                print('Epoch count: {}, Loss: {}'.format(epoch, loss))\n",
    "                losses.append(loss)\n",
    "\n",
    "            epoch +=1\n",
    "                \n",
    "    return c, w, np.array(losses)"
   ]
  },
  {
   "cell_type": "code",
   "execution_count": 72,
   "id": "5058551a",
   "metadata": {},
   "outputs": [
    {
     "data": {
      "application/vnd.jupyter.widget-view+json": {
       "model_id": "836e4d88d9d944eb81c69b86ced6087a",
       "version_major": 2,
       "version_minor": 0
      },
      "text/plain": [
       "0it [00:00, ?it/s]"
      ]
     },
     "metadata": {},
     "output_type": "display_data"
    },
    {
     "name": "stdout",
     "output_type": "stream",
     "text": [
      "Epoch count: 1, Loss: 15393.918997799234\n",
      "Epoch count: 10, Loss: 34189.27516392988\n",
      "Epoch count: 100, Loss: 23559.038847285094\n",
      "Epoch count: 1000, Loss: 10725.155134835726\n",
      "Epoch count: 1268, Loss: 9467.697975591984\n",
      "Epoch count: 1610, Loss: 7516.677572776756\n",
      "Epoch count: 2043, Loss: 5235.904168982715\n",
      "Epoch count: 2592, Loss: 3755.31010983898\n",
      "Epoch count: 3290, Loss: 2506.045119180846\n",
      "Epoch count: 4175, Loss: 1969.1101706792756\n",
      "Epoch count: 5298, Loss: 1787.4434498147268\n",
      "Epoch count: 6723, Loss: 1451.6676474844892\n",
      "Epoch count: 8531, Loss: 1275.0932874704001\n",
      "Epoch count: 10826, Loss: 1130.7814069508909\n",
      "Epoch count: 13738, Loss: 889.9684271478186\n",
      "Epoch count: 17433, Loss: 800.6963137482736\n",
      "Epoch count: 22122, Loss: 593.0118779579884\n",
      "Epoch count: 28072, Loss: 523.4071709545527\n",
      "Epoch count: 35622, Loss: 417.1880155038544\n",
      "Epoch count: 45203, Loss: 331.8375325312169\n",
      "Epoch count: 57361, Loss: 242.3329181613068\n"
     ]
    },
    {
     "data": {
      "application/vnd.jupyter.widget-view+json": {
       "model_id": "34b9605d67894a5d93c4e204269bf1fc",
       "version_major": 2,
       "version_minor": 0
      },
      "text/plain": [
       "0it [00:00, ?it/s]"
      ]
     },
     "metadata": {},
     "output_type": "display_data"
    },
    {
     "name": "stdout",
     "output_type": "stream",
     "text": [
      "Epoch count: 72789, Loss: 166.6559932173077\n",
      "Epoch count: 92367, Loss: 108.46958300748591\n",
      "Epoch count: 117210, Loss: 65.59033385569501\n"
     ]
    },
    {
     "data": {
      "application/vnd.jupyter.widget-view+json": {
       "model_id": "c070436ab4134999b7ed3c1d34803099",
       "version_major": 2,
       "version_minor": 0
      },
      "text/plain": [
       "0it [00:00, ?it/s]"
      ]
     },
     "metadata": {},
     "output_type": "display_data"
    },
    {
     "name": "stdout",
     "output_type": "stream",
     "text": [
      "Epoch count: 148735, Loss: 35.14305814168125\n"
     ]
    },
    {
     "data": {
      "application/vnd.jupyter.widget-view+json": {
       "model_id": "a41d06713706482586c891f4ae88996a",
       "version_major": 2,
       "version_minor": 0
      },
      "text/plain": [
       "0it [00:00, ?it/s]"
      ]
     },
     "metadata": {},
     "output_type": "display_data"
    },
    {
     "name": "stdout",
     "output_type": "stream",
     "text": [
      "Epoch count: 188739, Loss: 16.420115521257145\n",
      "Epoch count: 239502, Loss: 6.5377734361544295\n"
     ]
    },
    {
     "data": {
      "application/vnd.jupyter.widget-view+json": {
       "model_id": "6696f7668888416298532504ffcc1a2e",
       "version_major": 2,
       "version_minor": 0
      },
      "text/plain": [
       "0it [00:00, ?it/s]"
      ]
     },
     "metadata": {},
     "output_type": "display_data"
    },
    {
     "data": {
      "application/vnd.jupyter.widget-view+json": {
       "model_id": "def059384da44b0d8d77fa79384b0baf",
       "version_major": 2,
       "version_minor": 0
      },
      "text/plain": [
       "0it [00:00, ?it/s]"
      ]
     },
     "metadata": {},
     "output_type": "display_data"
    },
    {
     "name": "stdout",
     "output_type": "stream",
     "text": [
      "Epoch count: 303919, Loss: 2.1796817706274103\n"
     ]
    },
    {
     "data": {
      "application/vnd.jupyter.widget-view+json": {
       "model_id": "ff2ed7efc9564202aa37963f54327fe6",
       "version_major": 2,
       "version_minor": 0
      },
      "text/plain": [
       "0it [00:00, ?it/s]"
      ]
     },
     "metadata": {},
     "output_type": "display_data"
    },
    {
     "name": "stdout",
     "output_type": "stream",
     "text": [
      "Epoch count: 385662, Loss: 0.6357569968169013\n"
     ]
    },
    {
     "data": {
      "application/vnd.jupyter.widget-view+json": {
       "model_id": "0586f6788c2b4fc2be802f361f7ffb3a",
       "version_major": 2,
       "version_minor": 0
      },
      "text/plain": [
       "0it [00:00, ?it/s]"
      ]
     },
     "metadata": {},
     "output_type": "display_data"
    },
    {
     "data": {
      "application/vnd.jupyter.widget-view+json": {
       "model_id": "495afc3f65114079822036a34931fe60",
       "version_major": 2,
       "version_minor": 0
      },
      "text/plain": [
       "0it [00:00, ?it/s]"
      ]
     },
     "metadata": {},
     "output_type": "display_data"
    },
    {
     "name": "stdout",
     "output_type": "stream",
     "text": [
      "Epoch count: 489390, Loss: 0.2417936451407197\n"
     ]
    },
    {
     "data": {
      "application/vnd.jupyter.widget-view+json": {
       "model_id": "d48277e3267845d9bd2328486cff2fb4",
       "version_major": 2,
       "version_minor": 0
      },
      "text/plain": [
       "0it [00:00, ?it/s]"
      ]
     },
     "metadata": {},
     "output_type": "display_data"
    },
    {
     "data": {
      "application/vnd.jupyter.widget-view+json": {
       "model_id": "582202b5c22e49adaca425dfa1596f92",
       "version_major": 2,
       "version_minor": 0
      },
      "text/plain": [
       "0it [00:00, ?it/s]"
      ]
     },
     "metadata": {},
     "output_type": "display_data"
    },
    {
     "name": "stdout",
     "output_type": "stream",
     "text": [
      "Epoch count: 621016, Loss: 0.17229076262324738\n"
     ]
    },
    {
     "data": {
      "application/vnd.jupyter.widget-view+json": {
       "model_id": "cd771bea244a4fdeacd1ea73faba4199",
       "version_major": 2,
       "version_minor": 0
      },
      "text/plain": [
       "0it [00:00, ?it/s]"
      ]
     },
     "metadata": {},
     "output_type": "display_data"
    },
    {
     "data": {
      "application/vnd.jupyter.widget-view+json": {
       "model_id": "04a02576a1534eab92d56ce9bcd21928",
       "version_major": 2,
       "version_minor": 0
      },
      "text/plain": [
       "0it [00:00, ?it/s]"
      ]
     },
     "metadata": {},
     "output_type": "display_data"
    },
    {
     "data": {
      "application/vnd.jupyter.widget-view+json": {
       "model_id": "bec7c7f56e89438db1ecb5502f7a0f99",
       "version_major": 2,
       "version_minor": 0
      },
      "text/plain": [
       "0it [00:00, ?it/s]"
      ]
     },
     "metadata": {},
     "output_type": "display_data"
    },
    {
     "name": "stdout",
     "output_type": "stream",
     "text": [
      "Epoch count: 788046, Loss: 0.1644064721721076\n"
     ]
    },
    {
     "data": {
      "application/vnd.jupyter.widget-view+json": {
       "model_id": "bbaedf1772964ef7892385c39721f514",
       "version_major": 2,
       "version_minor": 0
      },
      "text/plain": [
       "0it [00:00, ?it/s]"
      ]
     },
     "metadata": {},
     "output_type": "display_data"
    },
    {
     "data": {
      "application/vnd.jupyter.widget-view+json": {
       "model_id": "d4b8e344ac854f8db1b9da559fd89673",
       "version_major": 2,
       "version_minor": 0
      },
      "text/plain": [
       "0it [00:00, ?it/s]"
      ]
     },
     "metadata": {},
     "output_type": "display_data"
    },
    {
     "data": {
      "application/vnd.jupyter.widget-view+json": {
       "model_id": "7c1ae33c47dd47e2b47e2f1d5e47bc49",
       "version_major": 2,
       "version_minor": 0
      },
      "text/plain": [
       "0it [00:00, ?it/s]"
      ]
     },
     "metadata": {},
     "output_type": "display_data"
    },
    {
     "name": "stdout",
     "output_type": "stream",
     "text": [
      "Epoch count: 1000000, Loss: 0.16377657208136312\n"
     ]
    }
   ],
   "source": [
    "c, w, risk_Mass = Mass(x_train, y_train, x_test, y_test, N = 10, learning_rate = 1e-3)"
   ]
  },
  {
   "cell_type": "code",
   "execution_count": 79,
   "id": "d81631f3",
   "metadata": {},
   "outputs": [
    {
     "data": {
      "application/vnd.jupyter.widget-view+json": {
       "model_id": "acec37a28b724b388cb84dc441c1e51e",
       "version_major": 2,
       "version_minor": 0
      },
      "text/plain": [
       "0it [00:00, ?it/s]"
      ]
     },
     "metadata": {},
     "output_type": "display_data"
    },
    {
     "name": "stdout",
     "output_type": "stream",
     "text": [
      "Epoch count: 1, Loss: 4081.5504312464664\n",
      "Epoch count: 10, Loss: 10719.726728323581\n",
      "Epoch count: 100, Loss: 562.7721473497878\n",
      "Epoch count: 1000, Loss: 0.5000142720900663\n",
      "Epoch count: 1268, Loss: 0.49985810371457357\n",
      "Epoch count: 1610, Loss: 0.500114681245795\n",
      "Epoch count: 2043, Loss: 0.5000642804139379\n",
      "Epoch count: 2592, Loss: 0.5002252084245307\n",
      "Epoch count: 3290, Loss: 0.4999679972269551\n",
      "Epoch count: 4175, Loss: 0.5000146765813093\n",
      "Epoch count: 5298, Loss: 0.5001032623703033\n",
      "Epoch count: 6723, Loss: 0.4998239310027438\n",
      "Epoch count: 8531, Loss: 0.4997566359087432\n",
      "Epoch count: 10826, Loss: 0.49978800346061536\n",
      "Epoch count: 13738, Loss: 0.4999561282126192\n",
      "Epoch count: 17433, Loss: 0.4998905768115754\n",
      "Epoch count: 22122, Loss: 0.49985242883438136\n",
      "Epoch count: 28072, Loss: 0.49985615628090013\n",
      "Epoch count: 35622, Loss: 0.5000563740396933\n",
      "Epoch count: 45203, Loss: 0.5000011153380478\n",
      "Epoch count: 57361, Loss: 0.49989761109207115\n"
     ]
    },
    {
     "data": {
      "application/vnd.jupyter.widget-view+json": {
       "model_id": "b718a7c11c044cbab19a1e15270488b9",
       "version_major": 2,
       "version_minor": 0
      },
      "text/plain": [
       "0it [00:00, ?it/s]"
      ]
     },
     "metadata": {},
     "output_type": "display_data"
    },
    {
     "name": "stdout",
     "output_type": "stream",
     "text": [
      "Epoch count: 72789, Loss: 0.5000492973980549\n",
      "Epoch count: 92367, Loss: 0.5000935248440254\n",
      "Epoch count: 117210, Loss: 0.500119760988668\n"
     ]
    },
    {
     "data": {
      "application/vnd.jupyter.widget-view+json": {
       "model_id": "b834be1154374450911c053d37df4422",
       "version_major": 2,
       "version_minor": 0
      },
      "text/plain": [
       "0it [00:00, ?it/s]"
      ]
     },
     "metadata": {},
     "output_type": "display_data"
    },
    {
     "name": "stdout",
     "output_type": "stream",
     "text": [
      "Epoch count: 148735, Loss: 0.4999710307816791\n"
     ]
    },
    {
     "data": {
      "application/vnd.jupyter.widget-view+json": {
       "model_id": "7cebbfa0088c421fae726f1a48d36107",
       "version_major": 2,
       "version_minor": 0
      },
      "text/plain": [
       "0it [00:00, ?it/s]"
      ]
     },
     "metadata": {},
     "output_type": "display_data"
    },
    {
     "name": "stdout",
     "output_type": "stream",
     "text": [
      "Epoch count: 188739, Loss: 0.49977697751501826\n",
      "Epoch count: 239502, Loss: 0.5000703978591167\n"
     ]
    },
    {
     "data": {
      "application/vnd.jupyter.widget-view+json": {
       "model_id": "095235dc384640c48315b3e8facc574e",
       "version_major": 2,
       "version_minor": 0
      },
      "text/plain": [
       "0it [00:00, ?it/s]"
      ]
     },
     "metadata": {},
     "output_type": "display_data"
    },
    {
     "data": {
      "application/vnd.jupyter.widget-view+json": {
       "model_id": "9ad1a0db7eba468c956033e5373f11d3",
       "version_major": 2,
       "version_minor": 0
      },
      "text/plain": [
       "0it [00:00, ?it/s]"
      ]
     },
     "metadata": {},
     "output_type": "display_data"
    },
    {
     "name": "stdout",
     "output_type": "stream",
     "text": [
      "Epoch count: 303919, Loss: 0.5000265269478978\n"
     ]
    },
    {
     "data": {
      "application/vnd.jupyter.widget-view+json": {
       "model_id": "ccd5fa3755a149ae9b382888298d978e",
       "version_major": 2,
       "version_minor": 0
      },
      "text/plain": [
       "0it [00:00, ?it/s]"
      ]
     },
     "metadata": {},
     "output_type": "display_data"
    },
    {
     "name": "stdout",
     "output_type": "stream",
     "text": [
      "Epoch count: 385662, Loss: 0.4995659227687845\n"
     ]
    },
    {
     "data": {
      "application/vnd.jupyter.widget-view+json": {
       "model_id": "84dfb8dd12b8498b83ec469e0470fc78",
       "version_major": 2,
       "version_minor": 0
      },
      "text/plain": [
       "0it [00:00, ?it/s]"
      ]
     },
     "metadata": {},
     "output_type": "display_data"
    },
    {
     "data": {
      "application/vnd.jupyter.widget-view+json": {
       "model_id": "cfb4657210d6405b89e2edac0ebd2432",
       "version_major": 2,
       "version_minor": 0
      },
      "text/plain": [
       "0it [00:00, ?it/s]"
      ]
     },
     "metadata": {},
     "output_type": "display_data"
    },
    {
     "name": "stdout",
     "output_type": "stream",
     "text": [
      "Epoch count: 489390, Loss: 0.5001198485812275\n"
     ]
    },
    {
     "data": {
      "application/vnd.jupyter.widget-view+json": {
       "model_id": "a86e5c92c26b4e40a5eac1159d51a743",
       "version_major": 2,
       "version_minor": 0
      },
      "text/plain": [
       "0it [00:00, ?it/s]"
      ]
     },
     "metadata": {},
     "output_type": "display_data"
    },
    {
     "data": {
      "application/vnd.jupyter.widget-view+json": {
       "model_id": "3c740fbf3cc742f69b25144710622566",
       "version_major": 2,
       "version_minor": 0
      },
      "text/plain": [
       "0it [00:00, ?it/s]"
      ]
     },
     "metadata": {},
     "output_type": "display_data"
    },
    {
     "name": "stdout",
     "output_type": "stream",
     "text": [
      "Epoch count: 621016, Loss: 0.4997451197037519\n"
     ]
    },
    {
     "data": {
      "application/vnd.jupyter.widget-view+json": {
       "model_id": "cf0f9e32d90f4f20b9cdcca190373e92",
       "version_major": 2,
       "version_minor": 0
      },
      "text/plain": [
       "0it [00:00, ?it/s]"
      ]
     },
     "metadata": {},
     "output_type": "display_data"
    },
    {
     "data": {
      "application/vnd.jupyter.widget-view+json": {
       "model_id": "1d2cfba7b2434d128716044205e85fda",
       "version_major": 2,
       "version_minor": 0
      },
      "text/plain": [
       "0it [00:00, ?it/s]"
      ]
     },
     "metadata": {},
     "output_type": "display_data"
    },
    {
     "data": {
      "application/vnd.jupyter.widget-view+json": {
       "model_id": "a16b05db7fd0413597e6df0998db4807",
       "version_major": 2,
       "version_minor": 0
      },
      "text/plain": [
       "0it [00:00, ?it/s]"
      ]
     },
     "metadata": {},
     "output_type": "display_data"
    },
    {
     "name": "stdout",
     "output_type": "stream",
     "text": [
      "Epoch count: 788046, Loss: 0.4997394156080373\n"
     ]
    },
    {
     "data": {
      "application/vnd.jupyter.widget-view+json": {
       "model_id": "c5efd6bc7dc8410a813cbdbbefde833a",
       "version_major": 2,
       "version_minor": 0
      },
      "text/plain": [
       "0it [00:00, ?it/s]"
      ]
     },
     "metadata": {},
     "output_type": "display_data"
    },
    {
     "data": {
      "application/vnd.jupyter.widget-view+json": {
       "model_id": "c46f721a114a40d889cf248a268634f4",
       "version_major": 2,
       "version_minor": 0
      },
      "text/plain": [
       "0it [00:00, ?it/s]"
      ]
     },
     "metadata": {},
     "output_type": "display_data"
    },
    {
     "data": {
      "application/vnd.jupyter.widget-view+json": {
       "model_id": "2185ae92b5204c0abc5cde5c026392ac",
       "version_major": 2,
       "version_minor": 0
      },
      "text/plain": [
       "0it [00:00, ?it/s]"
      ]
     },
     "metadata": {},
     "output_type": "display_data"
    },
    {
     "name": "stdout",
     "output_type": "stream",
     "text": [
      "Epoch count: 1000000, Loss: 0.49994921347415633\n"
     ]
    }
   ],
   "source": [
    "#simulate HomSGLD\n",
    "\n",
    "c_HomSGLD, weights_HomSGLD, params_HomSGLD, risk_HomSGLD,  =\\\n",
    "Hom_SGLD(x_train, y_train, x_test, y_test, N = 10, learning_rate = 1e-3)"
   ]
  },
  {
   "cell_type": "code",
   "execution_count": 23,
   "id": "1cb314cc",
   "metadata": {
    "scrolled": true
   },
   "outputs": [
    {
     "data": {
      "application/vnd.jupyter.widget-view+json": {
       "model_id": "444bc42d5e674d11a9461845dd1040c2",
       "version_major": 2,
       "version_minor": 0
      },
      "text/plain": [
       "0it [00:00, ?it/s]"
      ]
     },
     "metadata": {},
     "output_type": "display_data"
    },
    {
     "name": "stdout",
     "output_type": "stream",
     "text": [
      "Epoch count: 1, Loss: 8757.830456349577\n",
      "Epoch count: 10, Loss: 6684.139453891309\n",
      "Epoch count: 100, Loss: 4275.5656906485165\n",
      "Epoch count: 1000, Loss: 3020.7351299410598\n",
      "Epoch count: 1268, Loss: 3087.0500610996323\n",
      "Epoch count: 1610, Loss: 2940.3436257980147\n",
      "Epoch count: 2043, Loss: 2593.365086859118\n",
      "Epoch count: 2592, Loss: 2589.0802821055067\n",
      "Epoch count: 3290, Loss: 2249.9565578959796\n",
      "Epoch count: 4175, Loss: 2055.075911148001\n",
      "Epoch count: 5298, Loss: 1984.8187388315675\n",
      "Epoch count: 6723, Loss: 1802.5502279812983\n",
      "Epoch count: 8531, Loss: 1663.5393184691943\n",
      "Epoch count: 10826, Loss: 1599.0316373260252\n",
      "Epoch count: 13738, Loss: 1466.9462792653335\n",
      "Epoch count: 17433, Loss: 1297.4700299724118\n",
      "Epoch count: 22122, Loss: 1230.8885163492216\n",
      "Epoch count: 28072, Loss: 1129.7723489835025\n",
      "Epoch count: 35622, Loss: 980.2466536729983\n",
      "Epoch count: 45203, Loss: 911.1003615256889\n",
      "Epoch count: 57361, Loss: 808.8397873273291\n"
     ]
    },
    {
     "data": {
      "application/vnd.jupyter.widget-view+json": {
       "model_id": "5b86cb6047ab48c4ab1e5d72e49b1f8a",
       "version_major": 2,
       "version_minor": 0
      },
      "text/plain": [
       "0it [00:00, ?it/s]"
      ]
     },
     "metadata": {},
     "output_type": "display_data"
    },
    {
     "name": "stdout",
     "output_type": "stream",
     "text": [
      "Epoch count: 72789, Loss: 755.0597408111511\n",
      "Epoch count: 92367, Loss: 677.8522506544914\n",
      "Epoch count: 117210, Loss: 538.7486875070036\n"
     ]
    },
    {
     "data": {
      "application/vnd.jupyter.widget-view+json": {
       "model_id": "d889037734574fd0bc5d40a75b07bc27",
       "version_major": 2,
       "version_minor": 0
      },
      "text/plain": [
       "0it [00:00, ?it/s]"
      ]
     },
     "metadata": {},
     "output_type": "display_data"
    },
    {
     "name": "stdout",
     "output_type": "stream",
     "text": [
      "Epoch count: 148735, Loss: 478.5430350372171\n"
     ]
    },
    {
     "data": {
      "application/vnd.jupyter.widget-view+json": {
       "model_id": "1b393167a9ee477083bdf016ddef3889",
       "version_major": 2,
       "version_minor": 0
      },
      "text/plain": [
       "0it [00:00, ?it/s]"
      ]
     },
     "metadata": {},
     "output_type": "display_data"
    },
    {
     "name": "stdout",
     "output_type": "stream",
     "text": [
      "Epoch count: 188739, Loss: 441.34227515537486\n",
      "Epoch count: 239502, Loss: 373.83903187463176\n"
     ]
    },
    {
     "data": {
      "application/vnd.jupyter.widget-view+json": {
       "model_id": "a920769f554844cc80147a9ee47c1dfd",
       "version_major": 2,
       "version_minor": 0
      },
      "text/plain": [
       "0it [00:00, ?it/s]"
      ]
     },
     "metadata": {},
     "output_type": "display_data"
    },
    {
     "data": {
      "application/vnd.jupyter.widget-view+json": {
       "model_id": "9223206b7e4148368a5ae60916aff079",
       "version_major": 2,
       "version_minor": 0
      },
      "text/plain": [
       "0it [00:00, ?it/s]"
      ]
     },
     "metadata": {},
     "output_type": "display_data"
    },
    {
     "name": "stdout",
     "output_type": "stream",
     "text": [
      "Epoch count: 303919, Loss: 305.8216600898673\n"
     ]
    },
    {
     "data": {
      "application/vnd.jupyter.widget-view+json": {
       "model_id": "534755ce71e74bc48d92875439b8e25e",
       "version_major": 2,
       "version_minor": 0
      },
      "text/plain": [
       "0it [00:00, ?it/s]"
      ]
     },
     "metadata": {},
     "output_type": "display_data"
    },
    {
     "name": "stdout",
     "output_type": "stream",
     "text": [
      "Epoch count: 385662, Loss: 255.89082135179123\n"
     ]
    },
    {
     "data": {
      "application/vnd.jupyter.widget-view+json": {
       "model_id": "1decf977eae04fa3b578e118f9d1be38",
       "version_major": 2,
       "version_minor": 0
      },
      "text/plain": [
       "0it [00:00, ?it/s]"
      ]
     },
     "metadata": {},
     "output_type": "display_data"
    },
    {
     "data": {
      "application/vnd.jupyter.widget-view+json": {
       "model_id": "4f842c00e95b406598009d0675ec38bb",
       "version_major": 2,
       "version_minor": 0
      },
      "text/plain": [
       "0it [00:00, ?it/s]"
      ]
     },
     "metadata": {},
     "output_type": "display_data"
    },
    {
     "name": "stdout",
     "output_type": "stream",
     "text": [
      "Epoch count: 489390, Loss: 226.39982095834856\n"
     ]
    },
    {
     "data": {
      "application/vnd.jupyter.widget-view+json": {
       "model_id": "5deb084778eb400c8c9f1a446299d650",
       "version_major": 2,
       "version_minor": 0
      },
      "text/plain": [
       "0it [00:00, ?it/s]"
      ]
     },
     "metadata": {},
     "output_type": "display_data"
    },
    {
     "data": {
      "application/vnd.jupyter.widget-view+json": {
       "model_id": "dac256d2c5314564857064576a8b253e",
       "version_major": 2,
       "version_minor": 0
      },
      "text/plain": [
       "0it [00:00, ?it/s]"
      ]
     },
     "metadata": {},
     "output_type": "display_data"
    },
    {
     "name": "stdout",
     "output_type": "stream",
     "text": [
      "Epoch count: 621016, Loss: 183.82949715045487\n"
     ]
    },
    {
     "data": {
      "application/vnd.jupyter.widget-view+json": {
       "model_id": "f7f421a5d8a6480585208eed3da6071c",
       "version_major": 2,
       "version_minor": 0
      },
      "text/plain": [
       "0it [00:00, ?it/s]"
      ]
     },
     "metadata": {},
     "output_type": "display_data"
    },
    {
     "data": {
      "application/vnd.jupyter.widget-view+json": {
       "model_id": "b623ba6fb3ed48b8a3e5ba5abc6b65af",
       "version_major": 2,
       "version_minor": 0
      },
      "text/plain": [
       "0it [00:00, ?it/s]"
      ]
     },
     "metadata": {},
     "output_type": "display_data"
    },
    {
     "data": {
      "application/vnd.jupyter.widget-view+json": {
       "model_id": "503124adb1394cd69ad77e170d0ed961",
       "version_major": 2,
       "version_minor": 0
      },
      "text/plain": [
       "0it [00:00, ?it/s]"
      ]
     },
     "metadata": {},
     "output_type": "display_data"
    },
    {
     "name": "stdout",
     "output_type": "stream",
     "text": [
      "Epoch count: 788046, Loss: 184.2075613015136\n"
     ]
    },
    {
     "data": {
      "application/vnd.jupyter.widget-view+json": {
       "model_id": "e785e7482dc74442a81dcd8abcd0134d",
       "version_major": 2,
       "version_minor": 0
      },
      "text/plain": [
       "0it [00:00, ?it/s]"
      ]
     },
     "metadata": {},
     "output_type": "display_data"
    },
    {
     "data": {
      "application/vnd.jupyter.widget-view+json": {
       "model_id": "ed115fe14f894e6cb5dfc52cb678b1c5",
       "version_major": 2,
       "version_minor": 0
      },
      "text/plain": [
       "0it [00:00, ?it/s]"
      ]
     },
     "metadata": {},
     "output_type": "display_data"
    },
    {
     "data": {
      "application/vnd.jupyter.widget-view+json": {
       "model_id": "508bc9dd3bd54ffca28c0596fbd7b7a8",
       "version_major": 2,
       "version_minor": 0
      },
      "text/plain": [
       "0it [00:00, ?it/s]"
      ]
     },
     "metadata": {},
     "output_type": "display_data"
    },
    {
     "name": "stdout",
     "output_type": "stream",
     "text": [
      "Epoch count: 1000000, Loss: 136.3719552424685\n"
     ]
    }
   ],
   "source": [
    "c, w, params, risk_SGD = train(x_train, y_train, x_test, y_test, N = 10, learning_rate = 1e-3)"
   ]
  },
  {
   "cell_type": "code",
   "execution_count": 77,
   "id": "b1bbf6a5",
   "metadata": {
    "scrolled": true
   },
   "outputs": [
    {
     "data": {
      "application/vnd.jupyter.widget-view+json": {
       "model_id": "590905137bd1455480d14055b087e265",
       "version_major": 2,
       "version_minor": 0
      },
      "text/plain": [
       "0it [00:00, ?it/s]"
      ]
     },
     "metadata": {},
     "output_type": "display_data"
    },
    {
     "name": "stdout",
     "output_type": "stream",
     "text": [
      "Epoch count: 1, Loss: 4067.665608899683\n",
      "Epoch count: 10, Loss: 14039.975361923556\n",
      "Epoch count: 100, Loss: 7094.894713130203\n",
      "Epoch count: 1000, Loss: 2866.738682548947\n",
      "Epoch count: 1268, Loss: 3216.8462179042203\n",
      "Epoch count: 1610, Loss: 2568.74003239309\n",
      "Epoch count: 2043, Loss: 2125.552022320733\n",
      "Epoch count: 2592, Loss: 2159.1898565613355\n",
      "Epoch count: 3290, Loss: 1799.4017157882306\n",
      "Epoch count: 4175, Loss: 1837.4156805468608\n",
      "Epoch count: 5298, Loss: 1892.179113046577\n",
      "Epoch count: 6723, Loss: 1744.8206626232286\n",
      "Epoch count: 8531, Loss: 1589.628171159422\n",
      "Epoch count: 10826, Loss: 1419.398810894159\n",
      "Epoch count: 13738, Loss: 1382.26507922387\n",
      "Epoch count: 17433, Loss: 1214.563959542325\n",
      "Epoch count: 22122, Loss: 1046.9781339139174\n",
      "Epoch count: 28072, Loss: 838.2085753065879\n",
      "Epoch count: 35622, Loss: 747.6819015865433\n",
      "Epoch count: 45203, Loss: 617.794253179534\n",
      "Epoch count: 57361, Loss: 480.5079737100415\n"
     ]
    },
    {
     "data": {
      "application/vnd.jupyter.widget-view+json": {
       "model_id": "cda9579a9f924bffb110be856af8904b",
       "version_major": 2,
       "version_minor": 0
      },
      "text/plain": [
       "0it [00:00, ?it/s]"
      ]
     },
     "metadata": {},
     "output_type": "display_data"
    },
    {
     "name": "stdout",
     "output_type": "stream",
     "text": [
      "Epoch count: 72789, Loss: 362.80680302676024\n",
      "Epoch count: 92367, Loss: 256.07734100473476\n",
      "Epoch count: 117210, Loss: 168.8695015946189\n"
     ]
    },
    {
     "data": {
      "application/vnd.jupyter.widget-view+json": {
       "model_id": "8d29a5302d5f47e0ba72e3bdfe6d6a1e",
       "version_major": 2,
       "version_minor": 0
      },
      "text/plain": [
       "0it [00:00, ?it/s]"
      ]
     },
     "metadata": {},
     "output_type": "display_data"
    },
    {
     "name": "stdout",
     "output_type": "stream",
     "text": [
      "Epoch count: 148735, Loss: 106.17390160780447\n"
     ]
    },
    {
     "data": {
      "application/vnd.jupyter.widget-view+json": {
       "model_id": "c65474eb56ac409fbfe425f248d6c1ee",
       "version_major": 2,
       "version_minor": 0
      },
      "text/plain": [
       "0it [00:00, ?it/s]"
      ]
     },
     "metadata": {},
     "output_type": "display_data"
    },
    {
     "name": "stdout",
     "output_type": "stream",
     "text": [
      "Epoch count: 188739, Loss: 59.79858018600232\n",
      "Epoch count: 239502, Loss: 29.28650680349684\n"
     ]
    },
    {
     "data": {
      "application/vnd.jupyter.widget-view+json": {
       "model_id": "aaf7d39767e04e4cb4b0fe294af894ea",
       "version_major": 2,
       "version_minor": 0
      },
      "text/plain": [
       "0it [00:00, ?it/s]"
      ]
     },
     "metadata": {},
     "output_type": "display_data"
    },
    {
     "data": {
      "application/vnd.jupyter.widget-view+json": {
       "model_id": "a683299289c74a51898aa24341c29bba",
       "version_major": 2,
       "version_minor": 0
      },
      "text/plain": [
       "0it [00:00, ?it/s]"
      ]
     },
     "metadata": {},
     "output_type": "display_data"
    },
    {
     "name": "stdout",
     "output_type": "stream",
     "text": [
      "Epoch count: 303919, Loss: 12.271411946854716\n"
     ]
    },
    {
     "data": {
      "application/vnd.jupyter.widget-view+json": {
       "model_id": "57a32da8fe1d458eb3c86bd2ddd7e421",
       "version_major": 2,
       "version_minor": 0
      },
      "text/plain": [
       "0it [00:00, ?it/s]"
      ]
     },
     "metadata": {},
     "output_type": "display_data"
    },
    {
     "name": "stdout",
     "output_type": "stream",
     "text": [
      "Epoch count: 385662, Loss: 4.243757626890949\n"
     ]
    },
    {
     "data": {
      "application/vnd.jupyter.widget-view+json": {
       "model_id": "8a4cf29c8a594bd4a222065d16adc127",
       "version_major": 2,
       "version_minor": 0
      },
      "text/plain": [
       "0it [00:00, ?it/s]"
      ]
     },
     "metadata": {},
     "output_type": "display_data"
    },
    {
     "data": {
      "application/vnd.jupyter.widget-view+json": {
       "model_id": "34b88bb166204610b91374845e7e0068",
       "version_major": 2,
       "version_minor": 0
      },
      "text/plain": [
       "0it [00:00, ?it/s]"
      ]
     },
     "metadata": {},
     "output_type": "display_data"
    },
    {
     "name": "stdout",
     "output_type": "stream",
     "text": [
      "Epoch count: 489390, Loss: 1.1860217910615785\n"
     ]
    },
    {
     "data": {
      "application/vnd.jupyter.widget-view+json": {
       "model_id": "9b34916ae24d437abe90db27b7272f58",
       "version_major": 2,
       "version_minor": 0
      },
      "text/plain": [
       "0it [00:00, ?it/s]"
      ]
     },
     "metadata": {},
     "output_type": "display_data"
    },
    {
     "data": {
      "application/vnd.jupyter.widget-view+json": {
       "model_id": "746980c6d99145e48a94e345339e4dc6",
       "version_major": 2,
       "version_minor": 0
      },
      "text/plain": [
       "0it [00:00, ?it/s]"
      ]
     },
     "metadata": {},
     "output_type": "display_data"
    },
    {
     "name": "stdout",
     "output_type": "stream",
     "text": [
      "Epoch count: 621016, Loss: 0.32677316141324303\n"
     ]
    },
    {
     "data": {
      "application/vnd.jupyter.widget-view+json": {
       "model_id": "2fb806c9dcf44eb38381b39e5ed701ad",
       "version_major": 2,
       "version_minor": 0
      },
      "text/plain": [
       "0it [00:00, ?it/s]"
      ]
     },
     "metadata": {},
     "output_type": "display_data"
    },
    {
     "data": {
      "application/vnd.jupyter.widget-view+json": {
       "model_id": "9d764760d5474f748dc48cc6ed84e52d",
       "version_major": 2,
       "version_minor": 0
      },
      "text/plain": [
       "0it [00:00, ?it/s]"
      ]
     },
     "metadata": {},
     "output_type": "display_data"
    },
    {
     "data": {
      "application/vnd.jupyter.widget-view+json": {
       "model_id": "8d87e5dad30f4cb1add35f3f12c1c60a",
       "version_major": 2,
       "version_minor": 0
      },
      "text/plain": [
       "0it [00:00, ?it/s]"
      ]
     },
     "metadata": {},
     "output_type": "display_data"
    },
    {
     "name": "stdout",
     "output_type": "stream",
     "text": [
      "Epoch count: 788046, Loss: 0.1627105814619987\n"
     ]
    },
    {
     "data": {
      "application/vnd.jupyter.widget-view+json": {
       "model_id": "fec120fe48b94f26836eb1c8a706c388",
       "version_major": 2,
       "version_minor": 0
      },
      "text/plain": [
       "0it [00:00, ?it/s]"
      ]
     },
     "metadata": {},
     "output_type": "display_data"
    },
    {
     "data": {
      "application/vnd.jupyter.widget-view+json": {
       "model_id": "f8c74a356616442f8844e4b14dbf42c3",
       "version_major": 2,
       "version_minor": 0
      },
      "text/plain": [
       "0it [00:00, ?it/s]"
      ]
     },
     "metadata": {},
     "output_type": "display_data"
    },
    {
     "data": {
      "application/vnd.jupyter.widget-view+json": {
       "model_id": "536b48f3766e4a64b114091994421c82",
       "version_major": 2,
       "version_minor": 0
      },
      "text/plain": [
       "0it [00:00, ?it/s]"
      ]
     },
     "metadata": {},
     "output_type": "display_data"
    },
    {
     "name": "stdout",
     "output_type": "stream",
     "text": [
      "Epoch count: 1000000, Loss: 0.1439466201783618\n"
     ]
    }
   ],
   "source": [
    "c, w, params_NSGD, risk_NSGD = nesterov_train(x_train, y_train, x_test, y_test, N = 10, learning_rate = 1e-3)"
   ]
  },
  {
   "cell_type": "code",
   "execution_count": 80,
   "id": "366fd727",
   "metadata": {},
   "outputs": [
    {
     "data": {
      "image/png": "[encoded data removed]",
      "text/plain": [
       "<Figure size 640x480 with 1 Axes>"
      ]
     },
     "metadata": {},
     "output_type": "display_data"
    }
   ],
   "source": [
    "#plot SGD losses vs Nesterov accelerated SGD losses\n",
    "indices = [1, 10 , 100] + list((10**np.linspace(3, 6, 30)).astype(int))\n",
    "#indices = [1, 10 , 100] + list((10**np.linspace(3, 4.5, 20)).astype(int))\n",
    "indices_hom = [1, 10, 50, 100, 200, 300, 500, 700, 900] + list((10**np.linspace(3, 4.7, 20)).astype(int))\n",
    "fig, ax = plt.subplots()\n",
    "ax.plot(indices_SGD, risk_SGD, c = 'b')\n",
    "#ax.plot(indices, risk_NSGD, c = 'g')\n",
    "#ax.plot(indices, risk_HomSGLD, c = 'r')\n",
    "ax.plot(indices, risk_Mass, c = 'purple')\n",
    "ax.scatter(indices_SGD, risk_SGD, marker = 'x', c = 'b', label = 'loss SGD')\n",
    "#ax.scatter(indices, risk_NSGD, marker = 'x', c = 'g', label = 'loss NSGD')\n",
    "#ax.scatter(indices, risk_HomSGLD, marker = 'x', c = 'r', label = 'loss HomSGLD')\n",
    "ax.scatter(indices, risk_Mass, marker = 'x', c = 'purple', label = 'loss MaSS')\n",
    "\n",
    "\n",
    "ax.set_xscale('log')\n",
    "ax.set_xlabel('Iterations')\n",
    "ax.set_ylabel('Loss')\n",
    "ax.set_title('Losses in single digit classification')\n",
    "ax.legend()\n",
    "plt.show()"
   ]
  },
  {
   "cell_type": "code",
   "execution_count": 213,
   "id": "36d56b05",
   "metadata": {},
   "outputs": [
    {
     "data": {
      "image/png": "[encoded data removed]",
      "text/plain": [
       "<Figure size 640x480 with 1 Axes>"
      ]
     },
     "metadata": {},
     "output_type": "display_data"
    }
   ],
   "source": [
    "#plot SGD losses vs Nesterov accelerated SGD losses\n",
    "indices = [1, 10 , 100] + list((10**np.linspace(3, 4.5, 20)).astype(int))\n",
    "indices_hom = [1, 10, 50, 100, 200, 300, 500, 700, 900] + list((10**np.linspace(3, 4.7, 20)).astype(int))\n",
    "fig, ax = plt.subplots()\n",
    "ax.plot(indices[4:], risk_SGD[4:], c = 'b')\n",
    "ax.plot(indices[4:], risk_NSGD[4:], c = 'g')\n",
    "ax.plot(indices_hom[4:], risk_HomSGLD[4:], c = 'r')\n",
    "ax.plot(indices[4:], risk_Mass[4:], c = 'purple')\n",
    "ax.scatter(indices[4:], risk_SGD[4:], marker = 'x', c = 'b', label = 'loss SGD')\n",
    "ax.scatter(indices[4:], risk_NSGD[4:], marker = 'x', c = 'g', label = 'loss NSGD')\n",
    "ax.scatter(indices_hom[4:], risk_HomSGLD[4:], marker = 'x', c = 'r', label = 'loss HomSGLD')\n",
    "ax.scatter(indices[4:], risk_Mass[4:], marker = 'x', c = 'purple', label = 'loss MaSS')\n",
    "\n",
    "\n",
    "ax.set_xscale('log')\n",
    "ax.set_xlabel('Iterations')\n",
    "ax.set_ylabel('Loss')\n",
    "ax.set_title('Losses in single digit classification')\n",
    "ax.legend()\n",
    "plt.show()"
   ]
  },
  {
   "cell_type": "code",
   "execution_count": 43,
   "id": "9bc05eaf",
   "metadata": {},
   "outputs": [
    {
     "data": {
      "text/plain": [
       "<matplotlib.legend.Legend at 0x7fedf438e9d0>"
      ]
     },
     "execution_count": 43,
     "metadata": {},
     "output_type": "execute_result"
    },
    {
     "data": {
      "image/png": "[encoded data removed]",
      "text/plain": [
       "<Figure size 640x480 with 1 Axes>"
      ]
     },
     "metadata": {},
     "output_type": "display_data"
    }
   ],
   "source": [
    "plt.hist(params, label = 'N: 10000', bins = 70)\n",
    "plt.title('Illustration of LLN for single-layer neural network performing digit classification on MNIST data')\n",
    "plt.ylabel('Probability density')\n",
    "plt.xlabel('output layer weight distribution')\n",
    "plt.legend()"
   ]
  },
  {
   "cell_type": "markdown",
   "id": "26955d22",
   "metadata": {},
   "source": [
    "## General Observations"
   ]
  },
  {
   "cell_type": "markdown",
   "id": "13fd475f",
   "metadata": {},
   "source": [
    "- Nesterov acceleration beat plain SGD, but was beaten by MF-HomSGLD, which plateaued early but achieved a substantially smaller loss in the same amount of time\n",
    "- MF-HomSGLD (in the paper by Pavliotis, Kantas and Parpas entitled 'The sharp, the flat and the shallow: Can weakly interacting agents learn to escape bad minima?') matches the performance of plain SGD. Still, it gets stuck for more significant iterations and plateaus. However, in the MNIST one-digit classification, the algorithm attains a substantially smaller loss, about two orders of magnitude less than the other algorithms. However, it suffers from plateauing early again.\n",
    "- Finally, the single-digit classifier with the architecture satisfied the assumptions made in the paper. It was able to reproduce the distribution of parameters in the paper, as seen in the plot above, capturing the bimodality of the network parameter distribution in the paper."
   ]
  }
 ],
 "metadata": {
  "kernelspec": {
   "display_name": "Python 3 (ipykernel)",
   "language": "python",
   "name": "python3"
  },
  "language_info": {
   "codemirror_mode": {
    "name": "ipython",
    "version": 3
   },
   "file_extension": ".py",
   "mimetype": "text/x-python",
   "name": "python",
   "nbconvert_exporter": "python",
   "pygments_lexer": "ipython3",
   "version": "3.8.16"
  }
 },
 "nbformat": 4,
 "nbformat_minor": 5
}
