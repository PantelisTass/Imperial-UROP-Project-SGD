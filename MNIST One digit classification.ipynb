{
 "cells": [
  {
   "cell_type": "code",
   "execution_count": 270,
   "id": "4ddbca2f",
   "metadata": {},
   "outputs": [],
   "source": [
    "import numpy as np\n",
    "import pandas as pd\n",
    "import scipy\n",
    "import random\n",
    "from scipy.stats import multivariate_normal\n",
    "from scipy.sparse import linalg\n",
    "import matplotlib.pyplot as plt\n",
    "from matplotlib import cm\n",
    "from tqdm.notebook import tqdm, trange\n",
    "import time # to be used in loop iterations\n",
    "np.random.seed(1234)"
   ]
  },
  {
   "cell_type": "markdown",
   "id": "f6d06124",
   "metadata": {},
   "source": [
    "## Single-digit neural single layer network trained on the MNIST dataset"
   ]
  },
  {
   "cell_type": "markdown",
   "id": "95fc0c32",
   "metadata": {},
   "source": [
    "I implemented a neural single layer network with symmetric architecture trained on the MNIST dataset that performs single digit architecture and tried to study the asymptotic distribution of network parameters as claimed in the 2019 paper by Sirgiano and Spiliopoulos entitled 'Mean Field Analysis of Neural Networks: A Law of Large Numbers'."
   ]
  },
  {
   "cell_type": "code",
   "execution_count": 271,
   "id": "25671ecc",
   "metadata": {},
   "outputs": [],
   "source": [
    "def sigmoid(x):\n",
    "    if x < 0:\n",
    "        return np.exp(x)/(1+np.exp(x))\n",
    "    else:\n",
    "        return 1/(1+np.exp(-x))\n",
    "vsigmoid = np.vectorize(sigmoid)   "
   ]
  },
  {
   "cell_type": "code",
   "execution_count": 272,
   "id": "66092d48",
   "metadata": {},
   "outputs": [],
   "source": [
    "#standardising dataset\n",
    "def standardise_mlp(X):\n",
    "    \"\"\"\n",
    "    Args:\n",
    "\n",
    "    X: numpy array of shape (n_samples, n_features) representing the input data\n",
    "\n",
    "    Returns:\n",
    "\n",
    "    Xbar: numpy array of shape (n_samples, n_features) representing the standardized input data\n",
    "    \"\"\"\n",
    "    mu = np.mean(X, axis=0)\n",
    "    std = np.std(X, axis=0)\n",
    "    std_filled = std.copy()\n",
    "    std_filled[std==0] = 1.\n",
    "    Xstd = ((X-mu)/std_filled)\n",
    "    return Xstd"
   ]
  },
  {
   "cell_type": "code",
   "execution_count": 273,
   "id": "894c6cd5",
   "metadata": {},
   "outputs": [],
   "source": [
    "# Load training data \n",
    "\n",
    "#train data\n",
    "data = pd.read_csv('MNIST_train.csv')\n",
    "\n",
    "#training set ground truth labels\n",
    "y_train = np.squeeze(np.array(data[data.columns[0]]))\n",
    "\n",
    "train_data = data[data.columns[1:]].to_numpy()\n",
    "\n",
    "#standardise train data\n",
    "train_data_std = standardise_mlp(train_data)\n",
    "\n",
    "#test data\n",
    "test_data = pd.read_csv('MNIST_test.csv')\n",
    "\n",
    "#test set ground truth labels\n",
    "y_test = np.array(test_data[test_data.columns[0]])\n",
    "\n",
    "test_data = test_data[test_data.columns[1:]].to_numpy()\n",
    "\n",
    "#standardise test data\n",
    "test_data_std = standardise_mlp(test_data)\n",
    "\n",
    "\n",
    "x_train = train_data_std\n",
    "y_train = np.where(y_train == 0,  1, -1)\n",
    "x_test = test_data_std\n",
    "y_test = np.where(y_test == 0,  1, -1)"
   ]
  },
  {
   "cell_type": "code",
   "execution_count": 274,
   "id": "27eac28b",
   "metadata": {},
   "outputs": [],
   "source": [
    "def neural_net(x,w,c):\n",
    "    \"\"\"\n",
    "    Compute the output of a neural network with given weights and coefficients.\n",
    "\n",
    "    Parameters:\n",
    "    x (np.ndarray): Input data with shape (n, d).\n",
    "    w (np.ndarray): Weight matrix with shape (N, d).\n",
    "    c (np.ndarray): Coefficients of the neural network with shape (1, N).\n",
    "\n",
    "    Returns:\n",
    "    np.ndarray: The output of the neural network with shape (1, n).\n",
    "    \"\"\"\n",
    "    n = x.shape[0]\n",
    "    d = x.shape[1]\n",
    "    N = w.shape[0]\n",
    "    return (1/N*c@vsigmoid(w@x.T)).reshape(1,n)"
   ]
  },
  {
   "cell_type": "code",
   "execution_count": 281,
   "id": "45c6eedb",
   "metadata": {},
   "outputs": [],
   "source": [
    "def train(x_train, y_train, x_test, y_test, Epochs = 1e6, N = 100, learning_rate = 1e-2):\n",
    "    \"\"\"\n",
    "    Train a neural network with a specified number of units (N) using stochastic gradient descent.\n",
    "\n",
    "    Parameters:\n",
    "    x_train (np.ndarray): Training input data with shape (M, d).\n",
    "    y_train (np.ndarray): Training target data with shape (M, 1).\n",
    "    x_test (np.ndarray): Testing input data with shape (M_test, d).\n",
    "    y_test (np.ndarray): Testing target data with shape (M_test, 1).\n",
    "    N (int): The number of neural network units (default is 100).\n",
    "    learning_rate (float): The learning rate for stochastic gradient descent (default is 1e-2).\n",
    "\n",
    "    Returns:\n",
    "    tuple: A tuple containing the trained coefficients 'c' and weights 'w', flattened coefficients 'c_flat',\n",
    "           and a list of loss values during training.\n",
    "    \"\"\"\n",
    "    losses = []\n",
    "    #Initialise Params\n",
    "    M,d = x_train.shape\n",
    "    var_w = 6. / (d+N)\n",
    "    var_c = 6./ (10+N)\n",
    "    w =  np.random.multivariate_normal([0]*d, np.diag([np.sqrt(var_w)]*d), N).reshape(N,d)\n",
    "    c =  np.random.uniform(-1000, 1000, (1,N))\n",
    "    params = 0\n",
    "    #sgd - update weights (using KL loss)\n",
    "    epoch = 1\n",
    "    \n",
    "    while epoch < Epochs:\n",
    "        #shuffle training data\n",
    "        indices = np.arange(y_train.size)\n",
    "        np.random.shuffle(indices)\n",
    "        x_train = x_train[indices,:]\n",
    "        y_train = y_train[indices]\n",
    "        \n",
    "        for x,y in tqdm(zip(x_train,y_train)):\n",
    "            y = y.reshape(1,-1)\n",
    "            x = x.reshape(1,-1)\n",
    "            f = neural_net(x,w,c).reshape(1,-1)\n",
    "            s = vsigmoid(w@x.T)\n",
    "            dw = 1/N * ((f-y)@c).T*(s*(1-s))*x\n",
    "            dc = 1/N * (f-y).T*s.reshape(1,-1)\n",
    "            w -= learning_rate*dw\n",
    "            c -= learning_rate*dc\n",
    "\n",
    "            if  epoch in [1, 10 , 100] + list((10**np.linspace(3, 6, 30)).astype(int)): \n",
    "                f_test = neural_net(x_test,w,c).reshape(-1,1)\n",
    "                y_test = y_test.reshape(-1,1)\n",
    "                loss = 0.5*np.mean((f_test-y_test)**2)\n",
    "                print('Epoch count: {}, Loss: {}'.format(epoch, loss))\n",
    "                losses.append(loss)\n",
    "\n",
    "            epoch += 1 \n",
    "    params = np.linalg.norm(np.hstack((c.T, w)), axis = 1).reshape(N,1)\n",
    "    return c, w, params, losses"
   ]
  },
  {
   "cell_type": "code",
   "execution_count": 276,
   "id": "f16b9795",
   "metadata": {},
   "outputs": [],
   "source": [
    "def nesterov_train(x_train, y_train, x_test, y_test, N = 100, r = 3, learning_rate = 1e-2):\n",
    "    \"\"\"\n",
    "    Train a neural network with a specified number of units (N) using Nesterov's accelerated gradient descent.\n",
    "\n",
    "    Parameters:\n",
    "    x_train (np.ndarray): Training input data with shape (M, d).\n",
    "    y_train (np.ndarray): Training target data with shape (M, 1).\n",
    "    x_test (np.ndarray): Testing input data with shape (M_test, d).\n",
    "    y_test (np.ndarray): Testing target data with shape (M_test, 1).\n",
    "    N (int): The number of neural network units (default is 100).\n",
    "    r (int): The number of steps for Nesterov's acceleration (default is 3).\n",
    "    learning_rate (float): The learning rate for Nesterov's SGD (default is 1e-2).\n",
    "\n",
    "    Returns:\n",
    "    tuple: A tuple containing the trained coefficients 'c' and weights 'w', flattened coefficients 'c_flat',\n",
    "           and a list of loss values during training.\n",
    "    \"\"\"\n",
    "    losses = []\n",
    "    #Initialise Params\n",
    "    M,d = x_train.shape\n",
    "    var_w = 6. / (d+N)\n",
    "    var_c = 6./ (10+N)\n",
    "    w =  np.random.multivariate_normal([0]*d, np.diag([np.sqrt(var_w)]*d), N).reshape(N,d)\n",
    "    c =  np.random.uniform(-1000, 1000, (1,N))\n",
    "    w_change = w\n",
    "    c_change = c\n",
    "    \n",
    "    epoch = 1\n",
    "    while epoch < 1e6:\n",
    "        #shuffle training data\n",
    "        indices = np.arange(y_train.size)\n",
    "        np.random.shuffle(indices)\n",
    "        x_train = x_train[indices,:]\n",
    "        y_train = y_train[indices]\n",
    "    \n",
    "        for x,y in tqdm(zip(x_train,y_train)):\n",
    "            y = y.reshape(1,-1)\n",
    "            x = x.reshape(1,-1)\n",
    "            f = neural_net(x,w_change,c_change).reshape(1,-1)\n",
    "            s = vsigmoid(w_change@x.T)\n",
    "            dw = 1/N * ((f-y)@c_change).T*(s*(1-s))*x\n",
    "            dc = 1/N * (f-y).T*s.reshape(1,-1)\n",
    "            w1 = w\n",
    "            c1 = c\n",
    "\n",
    "            if  epoch in [1, 10 , 100] + list((10**np.linspace(3, 6, 30)).astype(int)): \n",
    "                f_test = neural_net(x_test,w,c).reshape(-1,1)\n",
    "                y_test = y_test.reshape(-1,1)\n",
    "                loss = 0.5*np.mean((f_test-y_test)**2)\n",
    "                print('Epoch count: {}, Loss: {}'.format(epoch, loss))\n",
    "                losses.append(loss)\n",
    "\n",
    "            w_new = w_change - learning_rate*dw\n",
    "            c_new = c_change - learning_rate*dc\n",
    "            w_change = w_new + 0.9*(w_new-w1) \n",
    "            c_change = c_new + 0.9*(c_new-c1) \n",
    "            w = w_new\n",
    "            c = c_new\n",
    "\n",
    "            epoch += 1\n",
    "        \n",
    "    return c, w, np.ndarray.flatten(c), losses"
   ]
  },
  {
   "cell_type": "code",
   "execution_count": 277,
   "id": "84db9349",
   "metadata": {},
   "outputs": [],
   "source": [
    "def Hom_SGLD(x_train, y_train, x_test, y_test, indices_hom, N = 100,  M = 20, λ = 10, learning_rate = 1e-3):\n",
    "    \"\"\"\n",
    "    Train a neural network with a specified number of units (N) using Hamiltonian SGLD (Hom-SGLD).\n",
    "\n",
    "    Parameters:\n",
    "    x_train (np.ndarray): Training input data with shape (M, d).\n",
    "    y_train (np.ndarray): Training target data with shape (M, 1).\n",
    "    x_test (np.ndarray): Testing input data with shape (M_test, d).\n",
    "    y_test (np.ndarray): Testing target data with shape (M_test, 1).\n",
    "    N (int): The number of neural network units (default is 100).\n",
    "    M (int): The number of Hamiltonian SGLD steps (default is 20).\n",
    "    λ (float): The regularization parameter (default is 10).\n",
    "    learning_rate (float): The learning rate for Hom-SGLD (default is 1e-3).\n",
    "\n",
    "    Returns:\n",
    "    tuple: A tuple containing the trained coefficients 'c' and weights 'w', flattened coefficients 'c_flat',\n",
    "           and an array of loss values during training.\n",
    "    \"\"\"\n",
    "\n",
    "    #initialise Params\n",
    "    d = x_train.shape[1]\n",
    "    var_w = 6. / (d+N)\n",
    "    var_c = 6./ (10+N)\n",
    "    w =  np.random.multivariate_normal([0]*d, np.diag([np.sqrt(var_w)]*d), N).reshape(N,d)\n",
    "    c =  np.random.uniform(-1000, 1000, (1,N))\n",
    "    \n",
    "    #initialise fast time scale variables Y as a numpy matrix with dimensions (num_epochs, N, M)\n",
    "    Y_w = np.zeros((M+1, N, d))\n",
    "    Y_c = np.zeros((M+1, N))\n",
    "    \n",
    "    losses = []\n",
    "    \n",
    "    epoch = 1\n",
    "    while epoch < 1e6:\n",
    "        #shuffle training data\n",
    "        indices = np.arange(y_train.size)\n",
    "        np.random.shuffle(indices)\n",
    "        x_train = x_train[indices,:]\n",
    "        y_train = y_train[indices]\n",
    "    \n",
    "        for x,y in tqdm(zip(x_train,y_train)):\n",
    "            y = y.reshape(1,-1)\n",
    "            x = x.reshape(1,-1)\n",
    "\n",
    "            #update Y\n",
    "            Y_w_1 = np.zeros((M+1, N, d))\n",
    "            Y_c_1 = np.zeros((M+1, N))\n",
    "            Y_w_1[0, :, :] = Y_w[-1, :, :] \n",
    "            Y_c_1[0, :] = Y_c[-1, :]\n",
    "\n",
    "            for m in range(1,M+1):\n",
    "                δ = 0.01/20\n",
    "                γ = 0.1\n",
    "                β = 10\n",
    "                f = neural_net(x, Y_w_1[m-1, :, :].reshape((N,d)),  Y_c_1[m-1, :].reshape((1,N)))\n",
    "                s = vsigmoid(Y_w_1[m-1, :, :].reshape((N,d))@x.T)\n",
    "                dw = 1/N * ((f-y)@Y_c_1[m-1,:].reshape(1,N)).T*(s*(1-s))*x\n",
    "                dc = 1/N * (f-y).T*s.reshape(1,-1)\n",
    "\n",
    "                Y_w_1[m, :,:] = Y_w_1[m-1, : ,:] - δ*(dw-(1/γ)*(w-Y_w_1[m-1, :, :]))\\\n",
    "                + np.sqrt(2*(δ/β))*np.random.normal(0,1,(N,d))\n",
    "                Y_c_1[m, :] = Y_c_1[m-1,:] - δ*(dc-(1/γ)*(c-Y_c_1[m-1, :]))\\\n",
    "                + np.sqrt(2*(δ/β))*np.random.normal(0,1,N)\n",
    "\n",
    "            Y_w[0, :, :] = Y_w_1[-1, :, :]\n",
    "            Y_c[0, :] = Y_c_1[-1, :]\n",
    "\n",
    "\n",
    "            cal_Y_w = np.mean(Y_w_1, axis = 0)\n",
    "            cal_Y_c = np.mean(Y_c_1, axis = 0)\n",
    "\n",
    "\n",
    "            #update model parameters\n",
    "            Δ = learning_rate\n",
    "            X = np.hstack((w, c.T))\n",
    "            mu = np.mean(X, axis = 1).reshape(1,N)\n",
    "            w = w - 1/γ*(w-cal_Y_w)*Δ - λ*(w - mu.T)*Δ\n",
    "            c = c - 1/γ*(c-cal_Y_c)*Δ - λ*(c - mu)*Δ\n",
    "\n",
    "            if  epoch in indices_hom: \n",
    "                f_test = neural_net(x_test,w,c).reshape(-1,1)\n",
    "                y_test = y_test.reshape(-1,1)\n",
    "                loss = 0.5*np.mean((f_test-y_test)**2)\n",
    "                print('Epoch count: {}, Loss: {}'.format(epoch, loss))\n",
    "                losses.append(loss)\n",
    "\n",
    "            epoch +=1\n",
    "                \n",
    "    return c, w, np.ndarray.flatten(c), np.array(losses)"
   ]
  },
  {
   "cell_type": "code",
   "execution_count": 278,
   "id": "b4085a58",
   "metadata": {},
   "outputs": [],
   "source": [
    "def Mass(x_train, y_train, x_test, y_test, Epochs = 1e6, N = 100,  M = 20, λ = 10, learning_rate = 1e-3):\n",
    "    \"\"\"\n",
    "    Train a neural network with a specified number of units (N) using Momentum-added Stochastic Solver (Mass).\n",
    "\n",
    "    Parameters:\n",
    "    x_train (np.ndarray): Training input data with shape (M, d).\n",
    "    y_train (np.ndarray): Training target data with shape (M, 1).\n",
    "    x_test (np.ndarray): Testing input data with shape (M_test, d).\n",
    "    y_test (np.ndarray): Testing target data with shape (M_test, 1).\n",
    "    N (int): The number of neural network units (default is 100).\n",
    "    M (int): The number of Mass steps (default is 20).\n",
    "    λ (float): The regularization parameter (default is 10).\n",
    "    learning_rate (float): The learning rate for Mass (default is 1e-3).\n",
    "\n",
    "    Returns:\n",
    "    tuple: A tuple containing the trained coefficients 'c' and weights 'w',\n",
    "           and an array of loss values during training.\n",
    "    \"\"\"\n",
    "\n",
    "    losses = []\n",
    "    #Initialise Params\n",
    "    M,d = x_train.shape\n",
    "    var_w = 6. / (d+N)\n",
    "    var_c = 6./ (10+N)\n",
    "    w =  np.random.multivariate_normal([0]*d, np.diag([np.sqrt(var_w)]*d), N).reshape(N,d)\n",
    "    c =  np.random.uniform(-1000, 1000, (1,N))\n",
    "    w_change = w\n",
    "    c_change = c\n",
    "    \n",
    "    epoch = 1\n",
    "    count = 1\n",
    "    \n",
    "    while epoch < Epochs:\n",
    "        #shuffle training data\n",
    "        indices = np.arange(y_train.size)\n",
    "        np.random.shuffle(indices)\n",
    "        x_train = x_train[indices,:]\n",
    "        y_train = y_train[indices]\n",
    "        \n",
    "        for x,y in tqdm(zip(x_train, y_train)):\n",
    "            y = y.reshape(1,-1)\n",
    "            x = x.reshape(1,-1)\n",
    "            f = neural_net(x,w_change,c_change).reshape(1,-1)\n",
    "            s = vsigmoid(w_change@x.T)\n",
    "            dw = 1/N * ((f-y)@c_change).T*(s*(1-s))*x\n",
    "            dc = 1/N * (f-y).T*s.reshape(1,-1)\n",
    "            w1 = w\n",
    "            c1 = c\n",
    "\n",
    "            m = 2\n",
    "            eta2 = learning_rate/m\n",
    "\n",
    "            w_new = w_change - learning_rate*dw\n",
    "            c_new = c_change - learning_rate*dc\n",
    "            w_change = w_new + (count-1)/(count+2)*(w_new-w1) + eta2*dw\n",
    "            c_change = c_new + (count-1)/(count+2)*(c_new-c1) + eta2*dc\n",
    "            w = w_new\n",
    "            c = c_new\n",
    "            \n",
    "            if (dc@(c_new-c).T)[0]+(dw*(w_new-w)).sum()>0:\n",
    "                count =1\n",
    "\n",
    "            if  epoch in [1, 10, 100] + list((10**np.linspace(3, 6, 30)).astype(int)): \n",
    "                f_test = neural_net(x_test,w,c).reshape(-1,1)\n",
    "                y_test = y_test.reshape(-1,1)\n",
    "                loss = 0.5*np.mean((f_test-y_test)**2)\n",
    "                print('Epoch count: {}, Loss: {}'.format(epoch, loss))\n",
    "                losses.append(loss)\n",
    "\n",
    "            epoch +=1\n",
    "            count+=1\n",
    "                \n",
    "    return c, w, np.array(losses)"
   ]
  },
  {
   "cell_type": "code",
   "execution_count": 279,
   "id": "5058551a",
   "metadata": {
    "scrolled": true
   },
   "outputs": [
    {
     "data": {
      "application/vnd.jupyter.widget-view+json": {
       "model_id": "a5be86c0e1f5409eb0320d2f8d31e9b2",
       "version_major": 2,
       "version_minor": 0
      },
      "text/plain": [
       "0it [00:00, ?it/s]"
      ]
     },
     "metadata": {},
     "output_type": "display_data"
    },
    {
     "name": "stdout",
     "output_type": "stream",
     "text": [
      "Epoch count: 1, Loss: 7348.41488300497\n",
      "Epoch count: 10, Loss: 10984.425617472152\n",
      "Epoch count: 100, Loss: 8552.789251843338\n",
      "Epoch count: 1000, Loss: 2829.188207375442\n",
      "Epoch count: 1268, Loss: 2773.2695751049646\n",
      "Epoch count: 1610, Loss: 1991.5102627062242\n",
      "Epoch count: 2043, Loss: 1252.7094851962065\n",
      "Epoch count: 2592, Loss: 858.1978984335182\n",
      "Epoch count: 3290, Loss: 422.02105118270083\n",
      "Epoch count: 4175, Loss: 116.4816661382183\n",
      "Epoch count: 5298, Loss: 37.00169839615311\n",
      "Epoch count: 6723, Loss: 43.260322193220105\n",
      "Epoch count: 8531, Loss: 12.17827306785274\n",
      "Epoch count: 10826, Loss: 11.825992992554713\n",
      "Epoch count: 13738, Loss: 3.694746862423015\n",
      "Epoch count: 17433, Loss: 2.7120028411569237\n",
      "Epoch count: 22122, Loss: 0.7015732583228752\n",
      "Epoch count: 28072, Loss: 0.6908879205721448\n",
      "Epoch count: 35622, Loss: 0.2837497964602033\n",
      "Epoch count: 45203, Loss: 0.21968823651214658\n",
      "Epoch count: 57361, Loss: 0.24167803622089581\n"
     ]
    },
    {
     "data": {
      "application/vnd.jupyter.widget-view+json": {
       "model_id": "a49f891dc2b54e8a9c2c2e1b83f0bdff",
       "version_major": 2,
       "version_minor": 0
      },
      "text/plain": [
       "0it [00:00, ?it/s]"
      ]
     },
     "metadata": {},
     "output_type": "display_data"
    },
    {
     "name": "stdout",
     "output_type": "stream",
     "text": [
      "Epoch count: 72789, Loss: 0.2654496574234852\n",
      "Epoch count: 92367, Loss: 0.24045683082178668\n",
      "Epoch count: 117210, Loss: 0.23209097474724863\n"
     ]
    },
    {
     "data": {
      "application/vnd.jupyter.widget-view+json": {
       "model_id": "9ea480fc5a0b4809b6a3ebb7c11fde4a",
       "version_major": 2,
       "version_minor": 0
      },
      "text/plain": [
       "0it [00:00, ?it/s]"
      ]
     },
     "metadata": {},
     "output_type": "display_data"
    },
    {
     "name": "stdout",
     "output_type": "stream",
     "text": [
      "Epoch count: 148735, Loss: 0.20186066196362307\n"
     ]
    },
    {
     "data": {
      "application/vnd.jupyter.widget-view+json": {
       "model_id": "28badd4875ca472d88f85ea4aecd4c91",
       "version_major": 2,
       "version_minor": 0
      },
      "text/plain": [
       "0it [00:00, ?it/s]"
      ]
     },
     "metadata": {},
     "output_type": "display_data"
    },
    {
     "name": "stdout",
     "output_type": "stream",
     "text": [
      "Epoch count: 188739, Loss: 0.2681225626265872\n",
      "Epoch count: 239502, Loss: 0.21196745443360113\n"
     ]
    },
    {
     "data": {
      "application/vnd.jupyter.widget-view+json": {
       "model_id": "e8493d887b204a2b876e49b89baab520",
       "version_major": 2,
       "version_minor": 0
      },
      "text/plain": [
       "0it [00:00, ?it/s]"
      ]
     },
     "metadata": {},
     "output_type": "display_data"
    },
    {
     "data": {
      "application/vnd.jupyter.widget-view+json": {
       "model_id": "37400d0c86ba4e2da0fa370ba93e71ac",
       "version_major": 2,
       "version_minor": 0
      },
      "text/plain": [
       "0it [00:00, ?it/s]"
      ]
     },
     "metadata": {},
     "output_type": "display_data"
    },
    {
     "name": "stdout",
     "output_type": "stream",
     "text": [
      "Epoch count: 303919, Loss: 0.1740520419053272\n"
     ]
    },
    {
     "data": {
      "application/vnd.jupyter.widget-view+json": {
       "model_id": "d8de143a30d543c28254e3c8d7ac56ec",
       "version_major": 2,
       "version_minor": 0
      },
      "text/plain": [
       "0it [00:00, ?it/s]"
      ]
     },
     "metadata": {},
     "output_type": "display_data"
    },
    {
     "name": "stdout",
     "output_type": "stream",
     "text": [
      "Epoch count: 385662, Loss: 0.22426214450695806\n"
     ]
    },
    {
     "data": {
      "application/vnd.jupyter.widget-view+json": {
       "model_id": "db729308516a4e41a9a7619ff88d2aee",
       "version_major": 2,
       "version_minor": 0
      },
      "text/plain": [
       "0it [00:00, ?it/s]"
      ]
     },
     "metadata": {},
     "output_type": "display_data"
    },
    {
     "data": {
      "application/vnd.jupyter.widget-view+json": {
       "model_id": "05828a19d84949e7a3e3218b461291c5",
       "version_major": 2,
       "version_minor": 0
      },
      "text/plain": [
       "0it [00:00, ?it/s]"
      ]
     },
     "metadata": {},
     "output_type": "display_data"
    },
    {
     "name": "stdout",
     "output_type": "stream",
     "text": [
      "Epoch count: 489390, Loss: 0.42713000586597305\n"
     ]
    },
    {
     "data": {
      "application/vnd.jupyter.widget-view+json": {
       "model_id": "9f4bdcad59e945aebad84e78c90bae9c",
       "version_major": 2,
       "version_minor": 0
      },
      "text/plain": [
       "0it [00:00, ?it/s]"
      ]
     },
     "metadata": {},
     "output_type": "display_data"
    },
    {
     "data": {
      "application/vnd.jupyter.widget-view+json": {
       "model_id": "9faf6628379c4dd8bb2e2a1def18e648",
       "version_major": 2,
       "version_minor": 0
      },
      "text/plain": [
       "0it [00:00, ?it/s]"
      ]
     },
     "metadata": {},
     "output_type": "display_data"
    },
    {
     "name": "stdout",
     "output_type": "stream",
     "text": [
      "Epoch count: 621016, Loss: 0.3780611376596812\n"
     ]
    },
    {
     "data": {
      "application/vnd.jupyter.widget-view+json": {
       "model_id": "86053b886e544ebd831ff16dfa51e416",
       "version_major": 2,
       "version_minor": 0
      },
      "text/plain": [
       "0it [00:00, ?it/s]"
      ]
     },
     "metadata": {},
     "output_type": "display_data"
    },
    {
     "data": {
      "application/vnd.jupyter.widget-view+json": {
       "model_id": "5f4c5973d4c6477585bc8b5a005d642a",
       "version_major": 2,
       "version_minor": 0
      },
      "text/plain": [
       "0it [00:00, ?it/s]"
      ]
     },
     "metadata": {},
     "output_type": "display_data"
    },
    {
     "data": {
      "application/vnd.jupyter.widget-view+json": {
       "model_id": "9cdc28c099124bca90180fac131e67ae",
       "version_major": 2,
       "version_minor": 0
      },
      "text/plain": [
       "0it [00:00, ?it/s]"
      ]
     },
     "metadata": {},
     "output_type": "display_data"
    },
    {
     "name": "stdout",
     "output_type": "stream",
     "text": [
      "Epoch count: 788046, Loss: 0.2764281003107065\n"
     ]
    },
    {
     "data": {
      "application/vnd.jupyter.widget-view+json": {
       "model_id": "090d923727854d3aa1a1dbce73c94c6d",
       "version_major": 2,
       "version_minor": 0
      },
      "text/plain": [
       "0it [00:00, ?it/s]"
      ]
     },
     "metadata": {},
     "output_type": "display_data"
    },
    {
     "data": {
      "application/vnd.jupyter.widget-view+json": {
       "model_id": "66687e1740a04d03b6cbe761715475d4",
       "version_major": 2,
       "version_minor": 0
      },
      "text/plain": [
       "0it [00:00, ?it/s]"
      ]
     },
     "metadata": {},
     "output_type": "display_data"
    },
    {
     "data": {
      "application/vnd.jupyter.widget-view+json": {
       "model_id": "a3c3a180bb034d019677abd8307b51de",
       "version_major": 2,
       "version_minor": 0
      },
      "text/plain": [
       "0it [00:00, ?it/s]"
      ]
     },
     "metadata": {},
     "output_type": "display_data"
    },
    {
     "name": "stdout",
     "output_type": "stream",
     "text": [
      "Epoch count: 1000000, Loss: 0.194708052682609\n"
     ]
    }
   ],
   "source": [
    "c, w, risk_Mass = Mass(x_train, y_train, x_test, y_test, N = 10, learning_rate = 1e-3)"
   ]
  },
  {
   "cell_type": "code",
   "execution_count": 284,
   "id": "d81631f3",
   "metadata": {
    "scrolled": true
   },
   "outputs": [
    {
     "data": {
      "application/vnd.jupyter.widget-view+json": {
       "model_id": "8a404c446e5d493995855711c549a668",
       "version_major": 2,
       "version_minor": 0
      },
      "text/plain": [
       "0it [00:00, ?it/s]"
      ]
     },
     "metadata": {},
     "output_type": "display_data"
    },
    {
     "name": "stdout",
     "output_type": "stream",
     "text": [
      "Epoch count: 1, Loss: 34916.59362905781\n",
      "Epoch count: 10, Loss: 45790.886970776344\n",
      "Epoch count: 50, Loss: 12629.823053647639\n",
      "Epoch count: 100, Loss: 1793.4021902508402\n",
      "Epoch count: 200, Loss: 30.17724864647387\n",
      "Epoch count: 300, Loss: 0.43181599469867804\n",
      "Epoch count: 1000, Loss: 0.49984637502298207\n",
      "Epoch count: 1333, Loss: 0.4999452635794874\n",
      "Epoch count: 1778, Loss: 0.4998454352015467\n",
      "Epoch count: 2371, Loss: 0.49994758365775926\n",
      "Epoch count: 3162, Loss: 0.49968574837735896\n",
      "Epoch count: 4216, Loss: 0.4997896596571994\n",
      "Epoch count: 5000, Loss: 0.4998896266152135\n",
      "Epoch count: 5623, Loss: 0.49997686163183663\n",
      "Epoch count: 7000, Loss: 0.49988030848398096\n",
      "Epoch count: 7498, Loss: 0.4999705636289337\n",
      "Epoch count: 9000, Loss: 0.49985726557497545\n",
      "Epoch count: 10000, Loss: 0.4995397079980417\n",
      "Epoch count: 13335, Loss: 0.4997614810539169\n",
      "Epoch count: 17782, Loss: 0.4999551301816765\n",
      "Epoch count: 23713, Loss: 0.4996930575315765\n",
      "Epoch count: 31622, Loss: 0.4997650860993387\n",
      "Epoch count: 42169, Loss: 0.4997510171633436\n",
      "Epoch count: 56234, Loss: 0.4999146151165133\n"
     ]
    },
    {
     "data": {
      "application/vnd.jupyter.widget-view+json": {
       "model_id": "fb0b311e52f34a8bac0214fa5c6a0a3d",
       "version_major": 2,
       "version_minor": 0
      },
      "text/plain": [
       "0it [00:00, ?it/s]"
      ]
     },
     "metadata": {},
     "output_type": "display_data"
    },
    {
     "name": "stdout",
     "output_type": "stream",
     "text": [
      "Epoch count: 74989, Loss: 0.5000708084319958\n",
      "Epoch count: 100000, Loss: 0.5002407168486035\n"
     ]
    },
    {
     "data": {
      "application/vnd.jupyter.widget-view+json": {
       "model_id": "74b8eaff26b54c11ad406340c3505946",
       "version_major": 2,
       "version_minor": 0
      },
      "text/plain": [
       "0it [00:00, ?it/s]"
      ]
     },
     "metadata": {},
     "output_type": "display_data"
    },
    {
     "name": "stdout",
     "output_type": "stream",
     "text": [
      "Epoch count: 133352, Loss: 0.5002373810673143\n",
      "Epoch count: 177827, Loss: 0.5001479937521169\n"
     ]
    },
    {
     "data": {
      "application/vnd.jupyter.widget-view+json": {
       "model_id": "75abc2deb2c149c89cf6ef6d529d6d70",
       "version_major": 2,
       "version_minor": 0
      },
      "text/plain": [
       "0it [00:00, ?it/s]"
      ]
     },
     "metadata": {},
     "output_type": "display_data"
    },
    {
     "name": "stdout",
     "output_type": "stream",
     "text": [
      "Epoch count: 237137, Loss: 0.4999738882062907\n"
     ]
    },
    {
     "data": {
      "application/vnd.jupyter.widget-view+json": {
       "model_id": "3070c248ad00470582a15b0c2fd4cd8f",
       "version_major": 2,
       "version_minor": 0
      },
      "text/plain": [
       "0it [00:00, ?it/s]"
      ]
     },
     "metadata": {},
     "output_type": "display_data"
    },
    {
     "data": {
      "application/vnd.jupyter.widget-view+json": {
       "model_id": "19ec206a629047638ddcd1950cc72a06",
       "version_major": 2,
       "version_minor": 0
      },
      "text/plain": [
       "0it [00:00, ?it/s]"
      ]
     },
     "metadata": {},
     "output_type": "display_data"
    },
    {
     "name": "stdout",
     "output_type": "stream",
     "text": [
      "Epoch count: 316227, Loss: 0.5001044633340841\n"
     ]
    },
    {
     "data": {
      "application/vnd.jupyter.widget-view+json": {
       "model_id": "a32cc3a2c12d453fadda498ef3101cd7",
       "version_major": 2,
       "version_minor": 0
      },
      "text/plain": [
       "0it [00:00, ?it/s]"
      ]
     },
     "metadata": {},
     "output_type": "display_data"
    },
    {
     "data": {
      "application/vnd.jupyter.widget-view+json": {
       "model_id": "dafb4f6b1a5a40a9996924dab246364d",
       "version_major": 2,
       "version_minor": 0
      },
      "text/plain": [
       "0it [00:00, ?it/s]"
      ]
     },
     "metadata": {},
     "output_type": "display_data"
    },
    {
     "name": "stdout",
     "output_type": "stream",
     "text": [
      "Epoch count: 421696, Loss: 0.49989462405418017\n"
     ]
    },
    {
     "data": {
      "application/vnd.jupyter.widget-view+json": {
       "model_id": "6c5a65d2be934013b20343fa9327fdec",
       "version_major": 2,
       "version_minor": 0
      },
      "text/plain": [
       "0it [00:00, ?it/s]"
      ]
     },
     "metadata": {},
     "output_type": "display_data"
    },
    {
     "data": {
      "application/vnd.jupyter.widget-view+json": {
       "model_id": "4988b436a39f4e96b64f01152ba0ad93",
       "version_major": 2,
       "version_minor": 0
      },
      "text/plain": [
       "0it [00:00, ?it/s]"
      ]
     },
     "metadata": {},
     "output_type": "display_data"
    },
    {
     "name": "stdout",
     "output_type": "stream",
     "text": [
      "Epoch count: 562341, Loss: 0.5000172769682468\n"
     ]
    },
    {
     "data": {
      "application/vnd.jupyter.widget-view+json": {
       "model_id": "467b63a6ceb64e7381b630cd020e1a0d",
       "version_major": 2,
       "version_minor": 0
      },
      "text/plain": [
       "0it [00:00, ?it/s]"
      ]
     },
     "metadata": {},
     "output_type": "display_data"
    },
    {
     "data": {
      "application/vnd.jupyter.widget-view+json": {
       "model_id": "464e374ef974448d89642346e8346ddc",
       "version_major": 2,
       "version_minor": 0
      },
      "text/plain": [
       "0it [00:00, ?it/s]"
      ]
     },
     "metadata": {},
     "output_type": "display_data"
    },
    {
     "data": {
      "application/vnd.jupyter.widget-view+json": {
       "model_id": "777aaf61ca7548b58fad797149c9d628",
       "version_major": 2,
       "version_minor": 0
      },
      "text/plain": [
       "0it [00:00, ?it/s]"
      ]
     },
     "metadata": {},
     "output_type": "display_data"
    },
    {
     "name": "stdout",
     "output_type": "stream",
     "text": [
      "Epoch count: 749894, Loss: 0.5003692811447474\n"
     ]
    },
    {
     "data": {
      "application/vnd.jupyter.widget-view+json": {
       "model_id": "53b87549d4f44424a195908593bab76b",
       "version_major": 2,
       "version_minor": 0
      },
      "text/plain": [
       "0it [00:00, ?it/s]"
      ]
     },
     "metadata": {},
     "output_type": "display_data"
    },
    {
     "data": {
      "application/vnd.jupyter.widget-view+json": {
       "model_id": "b8cca03a0b384f03a3dd891dbeb6d87b",
       "version_major": 2,
       "version_minor": 0
      },
      "text/plain": [
       "0it [00:00, ?it/s]"
      ]
     },
     "metadata": {},
     "output_type": "display_data"
    },
    {
     "data": {
      "application/vnd.jupyter.widget-view+json": {
       "model_id": "1acaf19aede44960ae28ace6ab978eb8",
       "version_major": 2,
       "version_minor": 0
      },
      "text/plain": [
       "0it [00:00, ?it/s]"
      ]
     },
     "metadata": {},
     "output_type": "display_data"
    },
    {
     "data": {
      "application/vnd.jupyter.widget-view+json": {
       "model_id": "f2590547169b4576b8f4fcb17e5d6900",
       "version_major": 2,
       "version_minor": 0
      },
      "text/plain": [
       "0it [00:00, ?it/s]"
      ]
     },
     "metadata": {},
     "output_type": "display_data"
    },
    {
     "name": "stdout",
     "output_type": "stream",
     "text": [
      "Epoch count: 1000000, Loss: 0.4999973975959813\n"
     ]
    }
   ],
   "source": [
    "#simulate HomSGLD\n",
    "indices_hom = [1, 10, 50, 100, 200, 300, 5000, 7000, 9000] + list((10**np.linspace(3, 6, 25)).astype(int))\n",
    "c_HomSGLD, weights_HomSGLD, params_HomSGLD, risk_HomSGLD,  =\\\n",
    "Hom_SGLD(x_train, y_train, x_test, y_test, indices_hom, N = 5, learning_rate = 1e-3)"
   ]
  },
  {
   "cell_type": "code",
   "execution_count": 282,
   "id": "1cb314cc",
   "metadata": {
    "scrolled": true
   },
   "outputs": [
    {
     "data": {
      "application/vnd.jupyter.widget-view+json": {
       "model_id": "a409436a0c004898a2d1b571941ae271",
       "version_major": 2,
       "version_minor": 0
      },
      "text/plain": [
       "0it [00:00, ?it/s]"
      ]
     },
     "metadata": {},
     "output_type": "display_data"
    },
    {
     "name": "stdout",
     "output_type": "stream",
     "text": [
      "Epoch count: 1, Loss: 8161.695403538998\n",
      "Epoch count: 10, Loss: 9072.761369792574\n",
      "Epoch count: 100, Loss: 3431.527511669397\n",
      "Epoch count: 1000, Loss: 2853.047666057203\n",
      "Epoch count: 1268, Loss: 2741.3268661775423\n",
      "Epoch count: 1610, Loss: 2985.6036521116202\n",
      "Epoch count: 2043, Loss: 2554.817863328279\n",
      "Epoch count: 2592, Loss: 2253.243970198849\n",
      "Epoch count: 3290, Loss: 2353.3708326666024\n",
      "Epoch count: 4175, Loss: 2445.2684992879326\n",
      "Epoch count: 5298, Loss: 2252.146337473457\n",
      "Epoch count: 6723, Loss: 1924.9461787300172\n",
      "Epoch count: 8531, Loss: 1872.6189554654277\n",
      "Epoch count: 10826, Loss: 1936.9007566218654\n",
      "Epoch count: 13738, Loss: 1766.5717529990834\n",
      "Epoch count: 17433, Loss: 1720.5776628791575\n",
      "Epoch count: 22122, Loss: 1792.8262150642397\n",
      "Epoch count: 28072, Loss: 1519.9293841604008\n",
      "Epoch count: 35622, Loss: 1399.0271035092146\n",
      "Epoch count: 45203, Loss: 1411.7539980886984\n",
      "Epoch count: 57361, Loss: 1321.672649567882\n"
     ]
    },
    {
     "data": {
      "application/vnd.jupyter.widget-view+json": {
       "model_id": "38317186fadd49b6820e7c666d4ff1e1",
       "version_major": 2,
       "version_minor": 0
      },
      "text/plain": [
       "0it [00:00, ?it/s]"
      ]
     },
     "metadata": {},
     "output_type": "display_data"
    },
    {
     "name": "stdout",
     "output_type": "stream",
     "text": [
      "Epoch count: 72789, Loss: 1276.4115699388904\n",
      "Epoch count: 92367, Loss: 1165.2564827318834\n",
      "Epoch count: 117210, Loss: 1029.5408660439841\n"
     ]
    },
    {
     "data": {
      "application/vnd.jupyter.widget-view+json": {
       "model_id": "9ce3accb8bbe40b787a325c9ffca5a8e",
       "version_major": 2,
       "version_minor": 0
      },
      "text/plain": [
       "0it [00:00, ?it/s]"
      ]
     },
     "metadata": {},
     "output_type": "display_data"
    },
    {
     "name": "stdout",
     "output_type": "stream",
     "text": [
      "Epoch count: 148735, Loss: 849.7056332330078\n"
     ]
    },
    {
     "data": {
      "application/vnd.jupyter.widget-view+json": {
       "model_id": "9921f8c83ee54884addfa03241d13afd",
       "version_major": 2,
       "version_minor": 0
      },
      "text/plain": [
       "0it [00:00, ?it/s]"
      ]
     },
     "metadata": {},
     "output_type": "display_data"
    },
    {
     "name": "stdout",
     "output_type": "stream",
     "text": [
      "Epoch count: 188739, Loss: 808.7474499340198\n",
      "Epoch count: 239502, Loss: 728.5239283465103\n"
     ]
    },
    {
     "data": {
      "application/vnd.jupyter.widget-view+json": {
       "model_id": "fd37e2b77dc8495f922a8a8832a85685",
       "version_major": 2,
       "version_minor": 0
      },
      "text/plain": [
       "0it [00:00, ?it/s]"
      ]
     },
     "metadata": {},
     "output_type": "display_data"
    },
    {
     "data": {
      "application/vnd.jupyter.widget-view+json": {
       "model_id": "2e1b1ea6f83748e2b6d874f89bcdbb3a",
       "version_major": 2,
       "version_minor": 0
      },
      "text/plain": [
       "0it [00:00, ?it/s]"
      ]
     },
     "metadata": {},
     "output_type": "display_data"
    },
    {
     "name": "stdout",
     "output_type": "stream",
     "text": [
      "Epoch count: 303919, Loss: 649.187852954885\n"
     ]
    },
    {
     "data": {
      "application/vnd.jupyter.widget-view+json": {
       "model_id": "05d5a57349d04a0284db5ff2f98744bc",
       "version_major": 2,
       "version_minor": 0
      },
      "text/plain": [
       "0it [00:00, ?it/s]"
      ]
     },
     "metadata": {},
     "output_type": "display_data"
    },
    {
     "name": "stdout",
     "output_type": "stream",
     "text": [
      "Epoch count: 385662, Loss: 563.8477550556864\n"
     ]
    },
    {
     "data": {
      "application/vnd.jupyter.widget-view+json": {
       "model_id": "9573604bddd24aaf8ab28c27916c1a9d",
       "version_major": 2,
       "version_minor": 0
      },
      "text/plain": [
       "0it [00:00, ?it/s]"
      ]
     },
     "metadata": {},
     "output_type": "display_data"
    },
    {
     "data": {
      "application/vnd.jupyter.widget-view+json": {
       "model_id": "308a4ea5dbd64b2a89519a48802cfd6b",
       "version_major": 2,
       "version_minor": 0
      },
      "text/plain": [
       "0it [00:00, ?it/s]"
      ]
     },
     "metadata": {},
     "output_type": "display_data"
    },
    {
     "name": "stdout",
     "output_type": "stream",
     "text": [
      "Epoch count: 489390, Loss: 464.44200103815626\n"
     ]
    },
    {
     "data": {
      "application/vnd.jupyter.widget-view+json": {
       "model_id": "6cdf9be60edb45b6b348fb64818fd6c6",
       "version_major": 2,
       "version_minor": 0
      },
      "text/plain": [
       "0it [00:00, ?it/s]"
      ]
     },
     "metadata": {},
     "output_type": "display_data"
    },
    {
     "data": {
      "application/vnd.jupyter.widget-view+json": {
       "model_id": "5621260c90984444a6778ea8b88f81a4",
       "version_major": 2,
       "version_minor": 0
      },
      "text/plain": [
       "0it [00:00, ?it/s]"
      ]
     },
     "metadata": {},
     "output_type": "display_data"
    },
    {
     "name": "stdout",
     "output_type": "stream",
     "text": [
      "Epoch count: 621016, Loss: 419.4269316947781\n"
     ]
    },
    {
     "data": {
      "application/vnd.jupyter.widget-view+json": {
       "model_id": "612a47f9e4634fea84629c500002fdb8",
       "version_major": 2,
       "version_minor": 0
      },
      "text/plain": [
       "0it [00:00, ?it/s]"
      ]
     },
     "metadata": {},
     "output_type": "display_data"
    },
    {
     "data": {
      "application/vnd.jupyter.widget-view+json": {
       "model_id": "a7fb633e4b1f426daea9cb405298a24b",
       "version_major": 2,
       "version_minor": 0
      },
      "text/plain": [
       "0it [00:00, ?it/s]"
      ]
     },
     "metadata": {},
     "output_type": "display_data"
    },
    {
     "data": {
      "application/vnd.jupyter.widget-view+json": {
       "model_id": "0f36e14e83b4451987897603230d7399",
       "version_major": 2,
       "version_minor": 0
      },
      "text/plain": [
       "0it [00:00, ?it/s]"
      ]
     },
     "metadata": {},
     "output_type": "display_data"
    },
    {
     "name": "stdout",
     "output_type": "stream",
     "text": [
      "Epoch count: 788046, Loss: 346.880738330097\n"
     ]
    },
    {
     "data": {
      "application/vnd.jupyter.widget-view+json": {
       "model_id": "f5e98ce4067c4f43a86f00120f11ca4e",
       "version_major": 2,
       "version_minor": 0
      },
      "text/plain": [
       "0it [00:00, ?it/s]"
      ]
     },
     "metadata": {},
     "output_type": "display_data"
    },
    {
     "data": {
      "application/vnd.jupyter.widget-view+json": {
       "model_id": "0d4f5b2583ca4a6a88a0e524795bf2e8",
       "version_major": 2,
       "version_minor": 0
      },
      "text/plain": [
       "0it [00:00, ?it/s]"
      ]
     },
     "metadata": {},
     "output_type": "display_data"
    },
    {
     "data": {
      "application/vnd.jupyter.widget-view+json": {
       "model_id": "9a3a8fb9c10f43a6bb5135c394c6d282",
       "version_major": 2,
       "version_minor": 0
      },
      "text/plain": [
       "0it [00:00, ?it/s]"
      ]
     },
     "metadata": {},
     "output_type": "display_data"
    },
    {
     "name": "stdout",
     "output_type": "stream",
     "text": [
      "Epoch count: 1000000, Loss: 245.4856897761267\n"
     ]
    }
   ],
   "source": [
    "c, w, params, risk_SGD = train(x_train, y_train, x_test, y_test, N = 10, learning_rate = 1e-3)"
   ]
  },
  {
   "cell_type": "code",
   "execution_count": 283,
   "id": "b1bbf6a5",
   "metadata": {
    "scrolled": true
   },
   "outputs": [
    {
     "data": {
      "application/vnd.jupyter.widget-view+json": {
       "model_id": "18f8164cfeda441fa3d10a82d253b2fb",
       "version_major": 2,
       "version_minor": 0
      },
      "text/plain": [
       "0it [00:00, ?it/s]"
      ]
     },
     "metadata": {},
     "output_type": "display_data"
    },
    {
     "name": "stdout",
     "output_type": "stream",
     "text": [
      "Epoch count: 1, Loss: 13795.262747278182\n",
      "Epoch count: 10, Loss: 24718.45355575304\n",
      "Epoch count: 100, Loss: 17667.08158119621\n",
      "Epoch count: 1000, Loss: 10959.501611724574\n",
      "Epoch count: 1268, Loss: 9141.91510990157\n",
      "Epoch count: 1610, Loss: 7698.311092006483\n",
      "Epoch count: 2043, Loss: 6164.466203021523\n",
      "Epoch count: 2592, Loss: 5107.795317163786\n",
      "Epoch count: 3290, Loss: 3517.924153643975\n",
      "Epoch count: 4175, Loss: 2724.3651613783486\n",
      "Epoch count: 5298, Loss: 1788.3340381987084\n",
      "Epoch count: 6723, Loss: 1135.0321432298367\n",
      "Epoch count: 8531, Loss: 833.3323141689743\n",
      "Epoch count: 10826, Loss: 627.6068398070179\n",
      "Epoch count: 13738, Loss: 542.993669338665\n",
      "Epoch count: 17433, Loss: 486.7423309469327\n",
      "Epoch count: 22122, Loss: 423.61816656587365\n",
      "Epoch count: 28072, Loss: 373.51738491743305\n",
      "Epoch count: 35622, Loss: 328.42312568897427\n",
      "Epoch count: 45203, Loss: 268.10157293749745\n",
      "Epoch count: 57361, Loss: 213.14364766331957\n"
     ]
    },
    {
     "data": {
      "application/vnd.jupyter.widget-view+json": {
       "model_id": "0f9b05a4bc824692bcb627e55d4655bd",
       "version_major": 2,
       "version_minor": 0
      },
      "text/plain": [
       "0it [00:00, ?it/s]"
      ]
     },
     "metadata": {},
     "output_type": "display_data"
    },
    {
     "name": "stdout",
     "output_type": "stream",
     "text": [
      "Epoch count: 72789, Loss: 167.13587775109582\n",
      "Epoch count: 92367, Loss: 131.49375751259635\n",
      "Epoch count: 117210, Loss: 91.08901844380863\n"
     ]
    },
    {
     "data": {
      "application/vnd.jupyter.widget-view+json": {
       "model_id": "2fe3cb6bdb9d49e7b65663bf2e660c1e",
       "version_major": 2,
       "version_minor": 0
      },
      "text/plain": [
       "0it [00:00, ?it/s]"
      ]
     },
     "metadata": {},
     "output_type": "display_data"
    },
    {
     "name": "stdout",
     "output_type": "stream",
     "text": [
      "Epoch count: 148735, Loss: 63.49621109886471\n"
     ]
    },
    {
     "data": {
      "application/vnd.jupyter.widget-view+json": {
       "model_id": "0011b4b0ce6d488b9802b48be523bb70",
       "version_major": 2,
       "version_minor": 0
      },
      "text/plain": [
       "0it [00:00, ?it/s]"
      ]
     },
     "metadata": {},
     "output_type": "display_data"
    },
    {
     "name": "stdout",
     "output_type": "stream",
     "text": [
      "Epoch count: 188739, Loss: 40.64123195817352\n",
      "Epoch count: 239502, Loss: 23.44772086080822\n"
     ]
    },
    {
     "data": {
      "application/vnd.jupyter.widget-view+json": {
       "model_id": "5b5081510c2c4f0ba89b5632f3d12f2c",
       "version_major": 2,
       "version_minor": 0
      },
      "text/plain": [
       "0it [00:00, ?it/s]"
      ]
     },
     "metadata": {},
     "output_type": "display_data"
    },
    {
     "data": {
      "application/vnd.jupyter.widget-view+json": {
       "model_id": "e7b7e4a4bcfe48eb90eb33a195b7ce68",
       "version_major": 2,
       "version_minor": 0
      },
      "text/plain": [
       "0it [00:00, ?it/s]"
      ]
     },
     "metadata": {},
     "output_type": "display_data"
    },
    {
     "name": "stdout",
     "output_type": "stream",
     "text": [
      "Epoch count: 303919, Loss: 12.537207195083168\n"
     ]
    },
    {
     "data": {
      "application/vnd.jupyter.widget-view+json": {
       "model_id": "117377c40c1d4386951334ec04d2fed5",
       "version_major": 2,
       "version_minor": 0
      },
      "text/plain": [
       "0it [00:00, ?it/s]"
      ]
     },
     "metadata": {},
     "output_type": "display_data"
    },
    {
     "name": "stdout",
     "output_type": "stream",
     "text": [
      "Epoch count: 385662, Loss: 6.0225404850207624\n"
     ]
    },
    {
     "data": {
      "application/vnd.jupyter.widget-view+json": {
       "model_id": "2689a7914b6a48dabc5b513fbd55b3c2",
       "version_major": 2,
       "version_minor": 0
      },
      "text/plain": [
       "0it [00:00, ?it/s]"
      ]
     },
     "metadata": {},
     "output_type": "display_data"
    },
    {
     "data": {
      "application/vnd.jupyter.widget-view+json": {
       "model_id": "83de44d77ccd456c82edc73618ce3f36",
       "version_major": 2,
       "version_minor": 0
      },
      "text/plain": [
       "0it [00:00, ?it/s]"
      ]
     },
     "metadata": {},
     "output_type": "display_data"
    },
    {
     "name": "stdout",
     "output_type": "stream",
     "text": [
      "Epoch count: 489390, Loss: 2.5482500868598668\n"
     ]
    },
    {
     "data": {
      "application/vnd.jupyter.widget-view+json": {
       "model_id": "81e75f30ac524f5db9b6950146499134",
       "version_major": 2,
       "version_minor": 0
      },
      "text/plain": [
       "0it [00:00, ?it/s]"
      ]
     },
     "metadata": {},
     "output_type": "display_data"
    },
    {
     "data": {
      "application/vnd.jupyter.widget-view+json": {
       "model_id": "1ead2d53fdc64df0927932bf37ab7b33",
       "version_major": 2,
       "version_minor": 0
      },
      "text/plain": [
       "0it [00:00, ?it/s]"
      ]
     },
     "metadata": {},
     "output_type": "display_data"
    },
    {
     "name": "stdout",
     "output_type": "stream",
     "text": [
      "Epoch count: 621016, Loss: 0.9459359208933085\n"
     ]
    },
    {
     "data": {
      "application/vnd.jupyter.widget-view+json": {
       "model_id": "9504894515e84ebc894750197783308f",
       "version_major": 2,
       "version_minor": 0
      },
      "text/plain": [
       "0it [00:00, ?it/s]"
      ]
     },
     "metadata": {},
     "output_type": "display_data"
    },
    {
     "data": {
      "application/vnd.jupyter.widget-view+json": {
       "model_id": "df23dc7212c1411b80d1f46d5794b9bc",
       "version_major": 2,
       "version_minor": 0
      },
      "text/plain": [
       "0it [00:00, ?it/s]"
      ]
     },
     "metadata": {},
     "output_type": "display_data"
    },
    {
     "data": {
      "application/vnd.jupyter.widget-view+json": {
       "model_id": "6e3962558715457aa7168896681519c8",
       "version_major": 2,
       "version_minor": 0
      },
      "text/plain": [
       "0it [00:00, ?it/s]"
      ]
     },
     "metadata": {},
     "output_type": "display_data"
    },
    {
     "name": "stdout",
     "output_type": "stream",
     "text": [
      "Epoch count: 788046, Loss: 0.3528186163570221\n"
     ]
    },
    {
     "data": {
      "application/vnd.jupyter.widget-view+json": {
       "model_id": "5f1b2e30f4f4460eb1ff50c691ec7c18",
       "version_major": 2,
       "version_minor": 0
      },
      "text/plain": [
       "0it [00:00, ?it/s]"
      ]
     },
     "metadata": {},
     "output_type": "display_data"
    },
    {
     "data": {
      "application/vnd.jupyter.widget-view+json": {
       "model_id": "de8ec93e699648f494020f8ab6b4769f",
       "version_major": 2,
       "version_minor": 0
      },
      "text/plain": [
       "0it [00:00, ?it/s]"
      ]
     },
     "metadata": {},
     "output_type": "display_data"
    },
    {
     "data": {
      "application/vnd.jupyter.widget-view+json": {
       "model_id": "bf5f12714cc4484db398177a76c342b9",
       "version_major": 2,
       "version_minor": 0
      },
      "text/plain": [
       "0it [00:00, ?it/s]"
      ]
     },
     "metadata": {},
     "output_type": "display_data"
    },
    {
     "name": "stdout",
     "output_type": "stream",
     "text": [
      "Epoch count: 1000000, Loss: 0.1868532238271064\n"
     ]
    }
   ],
   "source": [
    "c, w, params_NSGD, risk_NSGD = nesterov_train(x_train, y_train, x_test, y_test, N = 10, learning_rate = 1e-3)"
   ]
  },
  {
   "cell_type": "code",
   "execution_count": 288,
   "id": "36d56b05",
   "metadata": {},
   "outputs": [
    {
     "data": {
      "image/png": "[encoded data removed]",
      "text/plain": [
       "<Figure size 640x480 with 1 Axes>"
      ]
     },
     "metadata": {},
     "output_type": "display_data"
    }
   ],
   "source": [
    "#plot SGD losses vs Nesterov accelerated SGD losses\n",
    "indices = [1, 10, 100] + list((10**np.linspace(3, 6, 30)).astype(int))\n",
    "indices_hom = [1, 10, 50, 100, 200, 300, 500, 700, 900] + list((10**np.linspace(3, 6, 25)).astype(int))\n",
    "\n",
    "fig, ax = plt.subplots()\n",
    "ax.plot(indices, np.log10(risk_SGD), c = 'b')\n",
    "ax.plot(indices, np.log10(risk_NSGD), c = 'g')\n",
    "ax.plot(indices_hom, np.log10(risk_HomSGLD), c = 'r')\n",
    "ax.plot(indices, np.log10(risk_Mass), c = 'purple')\n",
    "ax.scatter(indices, np.log10(risk_SGD), marker = 'x', c = 'b', label = 'SGD')\n",
    "ax.scatter(indices, np.log10(risk_NSGD), marker = 'x', c = 'g', label = 'NSGD $\\gamma = 0.9$')\n",
    "ax.scatter(indices_hom, np.log10(risk_HomSGLD), marker = 'x', c = 'r', label = 'HomSGLD')\n",
    "ax.scatter(indices, np.log10(risk_Mass), marker = 'x', c = 'purple', label = 'MaSS')\n",
    "\n",
    "plt.savefig('/Users/pantelistassopoulos/Documents/texfiles/Summer-Research-2023/images/Spiliopoulos2019-SGD-algos-single-digit classification.png')\n",
    "\n",
    "ax.set_xscale('log')\n",
    "ax.set_xlabel('Iterations')\n",
    "ax.set_ylabel('log10(Loss)')\n",
    "ax.set_title('Losses in single digit classification')\n",
    "ax.legend()\n",
    "plt.savefig('/Users/pantelistassopoulos/Documents/texfiles/Summer-Research-2023/images/Spiliopoulos2019-SGD-algos-single-digit classification.png')\n",
    "plt.show()"
   ]
  },
  {
   "cell_type": "code",
   "execution_count": 218,
   "id": "8cb085b3",
   "metadata": {},
   "outputs": [],
   "source": [
    "def neural_net_params(x_train, y_train, x_test, y_test, Epochs = 1e6, N = 100, learning_rate = 1e-2):\n",
    "    \"\"\"\n",
    "    Train a neural network with a specified number of units (N) using stochastic gradient descent.\n",
    "\n",
    "    Parameters:\n",
    "    x_train (np.ndarray): Training input data with shape (M, d).\n",
    "    y_train (np.ndarray): Training target data with shape (M, 1).\n",
    "    x_test (np.ndarray): Testing input data with shape (M_test, d).\n",
    "    y_test (np.ndarray): Testing target data with shape (M_test, 1).\n",
    "    N (int): The number of neural network units (default is 100).\n",
    "    learning_rate (float): The learning rate for stochastic gradient descent (default is 1e-2).\n",
    "\n",
    "    Returns:\n",
    "    tuple: A tuple containing the trained coefficients 'c' and weights 'w', flattened coefficients 'c_flat',\n",
    "           and a list of loss values during training.\n",
    "    \"\"\"\n",
    "    losses = []\n",
    "    #Initialise Params\n",
    "    M,d = x_train.shape\n",
    "    var_w = 6. / (d+N)\n",
    "    var_c = 6./ (10+N)\n",
    "    w =  np.random.uniform(-1, 1, (N,d))#np.random.multivariate_normal([0]*d, np.diag([np.sqrt(var_w)]*d), N).reshape(N,d)\n",
    "    c =  np.random.uniform(-1000, 1000, (1,N))\n",
    "    params = 0\n",
    "    #sgd - update weights (using KL loss)\n",
    "    epoch = 1\n",
    "    Flag = 1\n",
    "    \n",
    "    while Flag == 1:\n",
    "        #shuffle training data\n",
    "        indices = np.arange(y_train.size)\n",
    "        np.random.shuffle(indices)\n",
    "        x_train = x_train[indices,:]\n",
    "        y_train = y_train[indices]\n",
    "        \n",
    "        for x,y in tqdm(zip(x_train,y_train)):\n",
    "            y = y.reshape(1,-1)\n",
    "            x = x.reshape(1,-1)\n",
    "            f = neural_net(x,w,c).reshape(1,-1)\n",
    "            s = vsigmoid(w@x.T)\n",
    "            dw = 1/N * ((f-y)@c).T*(s*(1-s))*x\n",
    "            dc = 1/N * (f-y).T*s.reshape(1,-1)\n",
    "            w -= learning_rate*dw\n",
    "            c -= learning_rate*dc\n",
    "            \n",
    "            if epoch > Epochs:\n",
    "                Flag = 0\n",
    "                break\n",
    "\n",
    "            epoch += 1 \n",
    "            \n",
    "    params = np.linalg.norm(np.hstack((c.T, w)), axis = 1).reshape(N,1)\n",
    "    return c.flatten(), w.flatten(), params.flatten()"
   ]
  },
  {
   "cell_type": "code",
   "execution_count": 229,
   "id": "2da2eab6",
   "metadata": {},
   "outputs": [
    {
     "data": {
      "text/plain": [
       "(array([5.77322062e-06, 8.65983092e-06, 2.59794928e-05, 6.63920371e-05,\n",
       "        6.63920371e-05, 1.06804581e-04, 1.27010854e-04, 2.42475266e-04,\n",
       "        4.30104936e-04, 6.58147150e-04, 8.48663431e-04, 9.64127843e-04,\n",
       "        1.12289141e-03, 1.26144870e-03, 1.20371650e-03, 1.24124243e-03,\n",
       "        1.16041734e-03, 1.11423158e-03, 9.64127843e-04, 9.03509026e-04,\n",
       "        7.33199018e-04, 4.84950532e-04, 2.42475266e-04, 1.38557295e-04,\n",
       "        1.27010854e-04, 6.92786474e-05, 5.19589855e-05, 3.75259340e-05,\n",
       "        2.02062722e-05, 5.77322062e-06]),\n",
       " array([-1044.61151111,  -975.32609373,  -906.04067635,  -836.75525897,\n",
       "         -767.46984158,  -698.1844242 ,  -628.89900682,  -559.61358944,\n",
       "         -490.32817206,  -421.04275467,  -351.75733729,  -282.47191991,\n",
       "         -213.18650253,  -143.90108515,   -74.61566776,    -5.33025038,\n",
       "           63.955167  ,   133.24058438,   202.52600176,   271.81141915,\n",
       "          341.09683653,   410.38225391,   479.66767129,   548.95308867,\n",
       "          618.23850606,   687.52392344,   756.80934082,   826.0947582 ,\n",
       "          895.38017558,   964.66559297,  1033.95101035]),\n",
       " <BarContainer object of 30 artists>)"
      ]
     },
     "execution_count": 229,
     "metadata": {},
     "output_type": "execute_result"
    },
    {
     "data": {
      "image/png": "[encoded data removed]",
      "text/plain": [
       "<Figure size 640x480 with 1 Axes>"
      ]
     },
     "metadata": {},
     "output_type": "display_data"
    }
   ],
   "source": [
    "plt.hist(A, label = 'N: $10^3$', bins = 30, alpha = 0.5, density = True)"
   ]
  },
  {
   "cell_type": "code",
   "execution_count": 240,
   "id": "8ad06824",
   "metadata": {},
   "outputs": [
    {
     "data": {
      "application/vnd.jupyter.widget-view+json": {
       "model_id": "4587d443a9384e88ae9ae7ab85bd2c36",
       "version_major": 2,
       "version_minor": 0
      },
      "text/plain": [
       "0it [00:00, ?it/s]"
      ]
     },
     "metadata": {},
     "output_type": "display_data"
    },
    {
     "data": {
      "application/vnd.jupyter.widget-view+json": {
       "model_id": "0cd25bf662b64d3ba456a6387f82152d",
       "version_major": 2,
       "version_minor": 0
      },
      "text/plain": [
       "0it [00:00, ?it/s]"
      ]
     },
     "metadata": {},
     "output_type": "display_data"
    }
   ],
   "source": [
    "#c_1, w_1, params_1 = neural_net_params(x_train, y_train, x_test, y_test, Epochs = 1e1, N = 10, learning_rate = 1e3)\n",
    "c_2, w_2, params_2 = neural_net_params(x_train, y_train, x_test, y_test, Epochs = 5e2, N = 500, learning_rate = 1e3)\n",
    "c_3, w_3, params_3 = neural_net_params(x_train, y_train, x_test, y_test, Epochs = 1e3, N = 1000, learning_rate = 1e3)"
   ]
  },
  {
   "cell_type": "code",
   "execution_count": 226,
   "id": "14d19f22",
   "metadata": {},
   "outputs": [
    {
     "data": {
      "application/vnd.jupyter.widget-view+json": {
       "model_id": "5682f99f588c44a181b6d607a3adfddc",
       "version_major": 2,
       "version_minor": 0
      },
      "text/plain": [
       "0it [00:00, ?it/s]"
      ]
     },
     "metadata": {},
     "output_type": "display_data"
    }
   ],
   "source": [
    "A, B, C = neural_net_params(x_train, y_train, x_test, y_test, Epochs = 5e3, N = 5000, learning_rate = 1e3)"
   ]
  },
  {
   "cell_type": "code",
   "execution_count": 244,
   "id": "7ed764e2",
   "metadata": {},
   "outputs": [
    {
     "data": {
      "application/vnd.jupyter.widget-view+json": {
       "model_id": "dbc889f797964e21857a5e61a7c530f7",
       "version_major": 2,
       "version_minor": 0
      },
      "text/plain": [
       "0it [00:00, ?it/s]"
      ]
     },
     "metadata": {},
     "output_type": "display_data"
    }
   ],
   "source": [
    "c_4, w_4, params_4 = neural_net_params(x_train, y_train, x_test, y_test, Epochs = 1e4, N = int(1*1e4), learning_rate = 1e3)"
   ]
  },
  {
   "cell_type": "code",
   "execution_count": 257,
   "id": "4ef47c7e",
   "metadata": {},
   "outputs": [
    {
     "data": {
      "application/vnd.jupyter.widget-view+json": {
       "model_id": "e9dc9d93f16f43b69c8dfe4e4d27dbbb",
       "version_major": 2,
       "version_minor": 0
      },
      "text/plain": [
       "0it [00:00, ?it/s]"
      ]
     },
     "metadata": {},
     "output_type": "display_data"
    },
    {
     "ename": "KeyboardInterrupt",
     "evalue": "",
     "output_type": "error",
     "traceback": [
      "\u001b[0;31m---------------------------------------------------------------------------\u001b[0m",
      "\u001b[0;31mKeyboardInterrupt\u001b[0m                         Traceback (most recent call last)",
      "Cell \u001b[0;32mIn[257], line 1\u001b[0m\n\u001b[0;32m----> 1\u001b[0m c_5, w_5, params_5 \u001b[38;5;241m=\u001b[39m \u001b[43mneural_net_params\u001b[49m\u001b[43m(\u001b[49m\u001b[43mx_train\u001b[49m\u001b[43m,\u001b[49m\u001b[43m \u001b[49m\u001b[43my_train\u001b[49m\u001b[43m,\u001b[49m\u001b[43m \u001b[49m\u001b[43mx_test\u001b[49m\u001b[43m,\u001b[49m\u001b[43m \u001b[49m\u001b[43my_test\u001b[49m\u001b[43m,\u001b[49m\u001b[43m \u001b[49m\u001b[43mEpochs\u001b[49m\u001b[43m \u001b[49m\u001b[38;5;241;43m=\u001b[39;49m\u001b[43m \u001b[49m\u001b[38;5;241;43m5e4\u001b[39;49m\u001b[43m,\u001b[49m\u001b[43m \u001b[49m\u001b[43mN\u001b[49m\u001b[43m \u001b[49m\u001b[38;5;241;43m=\u001b[39;49m\u001b[43m \u001b[49m\u001b[38;5;28;43mint\u001b[39;49m\u001b[43m(\u001b[49m\u001b[38;5;241;43m5\u001b[39;49m\u001b[38;5;241;43m*\u001b[39;49m\u001b[38;5;241;43m1e4\u001b[39;49m\u001b[43m)\u001b[49m\u001b[43m,\u001b[49m\u001b[43m \u001b[49m\u001b[43mlearning_rate\u001b[49m\u001b[43m \u001b[49m\u001b[38;5;241;43m=\u001b[39;49m\u001b[43m \u001b[49m\u001b[38;5;241;43m1e3\u001b[39;49m\u001b[43m)\u001b[49m\n",
      "Cell \u001b[0;32mIn[218], line 43\u001b[0m, in \u001b[0;36mneural_net_params\u001b[0;34m(x_train, y_train, x_test, y_test, Epochs, N, learning_rate)\u001b[0m\n\u001b[1;32m     41\u001b[0m dw \u001b[38;5;241m=\u001b[39m \u001b[38;5;241m1\u001b[39m\u001b[38;5;241m/\u001b[39mN \u001b[38;5;241m*\u001b[39m ((f\u001b[38;5;241m-\u001b[39my)\u001b[38;5;129m@c\u001b[39m)\u001b[38;5;241m.\u001b[39mT\u001b[38;5;241m*\u001b[39m(s\u001b[38;5;241m*\u001b[39m(\u001b[38;5;241m1\u001b[39m\u001b[38;5;241m-\u001b[39ms))\u001b[38;5;241m*\u001b[39mx\n\u001b[1;32m     42\u001b[0m dc \u001b[38;5;241m=\u001b[39m \u001b[38;5;241m1\u001b[39m\u001b[38;5;241m/\u001b[39mN \u001b[38;5;241m*\u001b[39m (f\u001b[38;5;241m-\u001b[39my)\u001b[38;5;241m.\u001b[39mT\u001b[38;5;241m*\u001b[39ms\u001b[38;5;241m.\u001b[39mreshape(\u001b[38;5;241m1\u001b[39m,\u001b[38;5;241m-\u001b[39m\u001b[38;5;241m1\u001b[39m)\n\u001b[0;32m---> 43\u001b[0m w \u001b[38;5;241m-\u001b[39m\u001b[38;5;241m=\u001b[39m \u001b[43mlearning_rate\u001b[49m\u001b[38;5;241;43m*\u001b[39;49m\u001b[43mdw\u001b[49m\n\u001b[1;32m     44\u001b[0m c \u001b[38;5;241m-\u001b[39m\u001b[38;5;241m=\u001b[39m learning_rate\u001b[38;5;241m*\u001b[39mdc\n\u001b[1;32m     46\u001b[0m \u001b[38;5;28;01mif\u001b[39;00m epoch \u001b[38;5;241m>\u001b[39m Epochs:\n",
      "\u001b[0;31mKeyboardInterrupt\u001b[0m: "
     ]
    }
   ],
   "source": [
    "c_5, w_5, params_5 = neural_net_params(x_train, y_train, x_test, y_test, Epochs = 5e4, N = int(5*1e4), learning_rate = 1e3)"
   ]
  },
  {
   "cell_type": "code",
   "execution_count": 260,
   "id": "2ccc76f0",
   "metadata": {},
   "outputs": [
    {
     "data": {
      "image/png": "[encoded data removed]",
      "text/plain": [
       "<Figure size 640x480 with 1 Axes>"
      ]
     },
     "metadata": {},
     "output_type": "display_data"
    }
   ],
   "source": [
    "plt.hist(c_2, label = 'N: $10^2$', bins = 60, density = True)\n",
    "plt.savefig(\"/Users/pantelistassopoulos/Documents/texfiles/Summer-Research-2023/images/MNIST-hist-N-100.png\")"
   ]
  },
  {
   "cell_type": "code",
   "execution_count": 262,
   "id": "1eecc194",
   "metadata": {
    "scrolled": true
   },
   "outputs": [
    {
     "data": {
      "image/png": "[encoded data removed]",
      "text/plain": [
       "<Figure size 640x480 with 1 Axes>"
      ]
     },
     "metadata": {},
     "output_type": "display_data"
    }
   ],
   "source": [
    "plt.hist(c_3, label = 'N: $10^3$', bins = 60, density = True)\n",
    "plt.savefig(\"/Users/pantelistassopoulos/Documents/texfiles/Summer-Research-2023/images/MNIST-hist-N-1000.png\")"
   ]
  },
  {
   "cell_type": "code",
   "execution_count": 263,
   "id": "300cf34a",
   "metadata": {},
   "outputs": [
    {
     "data": {
      "image/png": "[encoded data removed]",
      "text/plain": [
       "<Figure size 640x480 with 1 Axes>"
      ]
     },
     "metadata": {},
     "output_type": "display_data"
    }
   ],
   "source": [
    "plt.hist(A, label = 'N: $5\\cdot 10^3$', bins = 60,  density = True)\n",
    "plt.savefig(\"/Users/pantelistassopoulos/Documents/texfiles/Summer-Research-2023/images/MNIST-hist-N-5000.png\")"
   ]
  },
  {
   "cell_type": "code",
   "execution_count": 268,
   "id": "a241d3f3",
   "metadata": {},
   "outputs": [
    {
     "data": {
      "image/png": "[encoded data removed]",
      "text/plain": [
       "<Figure size 640x480 with 1 Axes>"
      ]
     },
     "metadata": {},
     "output_type": "display_data"
    }
   ],
   "source": [
    "plt.hist(c_4, label = 'N: $1\\cdot 10^4$', bins = 60, density = True)\n",
    "plt.savefig(\"/Users/pantelistassopoulos/Documents/texfiles/Summer-Research-2023/images/MNIST-hist-N-10000.png\")"
   ]
  },
  {
   "cell_type": "code",
   "execution_count": 259,
   "id": "4895a82f",
   "metadata": {},
   "outputs": [
    {
     "data": {
      "text/plain": [
       "<matplotlib.legend.Legend at 0x7fef5e4cefd0>"
      ]
     },
     "execution_count": 259,
     "metadata": {},
     "output_type": "execute_result"
    },
    {
     "data": {
      "image/png": "[encoded data removed]",
      "text/plain": [
       "<Figure size 640x480 with 1 Axes>"
      ]
     },
     "metadata": {},
     "output_type": "display_data"
    }
   ],
   "source": [
    "plt.hist(c_2, label = 'N: $10^2$', bins = 60, density = True)\n",
    "plt.savefig(\"/Users/pantelistassopoulos/Documents/texfiles/Summer-Research-2023/images/MNIST-hist-N-100.png\")\n",
    "\n",
    "plt.hist(c_3, label = 'N: $10^3$', bins = 60, alpha = 0.5, density = True)\n",
    "plt.savefig(\"/Users/pantelistassopoulos/Documents/texfiles/Summer-Research-2023/images/MNIST-hist-N-1000.png\")\n",
    "\n",
    "plt.hist(A, label = 'N: $5\\cdot 10^3$', bins = 60, alpha = 0.5, density = True)\n",
    "plt.savefig(\"/Users/pantelistassopoulos/Documents/texfiles/Summer-Research-2023/images/MNIST-hist-N-5000.png\")\n",
    "\n",
    "plt.hist(c_4, label = 'N: $1\\cdot 10^4$', bins = 60, alpha = 0.5, density = True)\n",
    "plt.savefig(\"/Users/pantelistassopoulos/Documents/texfiles/Summer-Research-2023/images/MNIST-hist-N-10000.png\")\n",
    "\n",
    "\n",
    "plt.title('Illustration of LLN for single-layer neural network performing digit classification on MNIST data')\n",
    "plt.ylabel('Probability density')\n",
    "plt.xlabel('output layer weight distribution')\n",
    "plt.legend()"
   ]
  },
  {
   "cell_type": "code",
   "execution_count": 43,
   "id": "9bc05eaf",
   "metadata": {},
   "outputs": [
    {
     "data": {
      "text/plain": [
       "<matplotlib.legend.Legend at 0x7fedf438e9d0>"
      ]
     },
     "execution_count": 43,
     "metadata": {},
     "output_type": "execute_result"
    },
    {
     "data": {
      "image/png": "[encoded data removed]",
      "text/plain": [
       "<Figure size 640x480 with 1 Axes>"
      ]
     },
     "metadata": {},
     "output_type": "display_data"
    }
   ],
   "source": [
    "plt.hist(params, label = 'N: $10^4$', bins = 70)\n",
    "plt.title('Illustration of LLN for single-layer neural network performing digit classification on MNIST data')\n",
    "plt.ylabel('Probability density')\n",
    "plt.xlabel('output layer weight distribution')\n",
    "plt.legend()"
   ]
  },
  {
   "cell_type": "markdown",
   "id": "26955d22",
   "metadata": {},
   "source": [
    "## General Observations"
   ]
  },
  {
   "cell_type": "markdown",
   "id": "13fd475f",
   "metadata": {},
   "source": [
    "- Nesterov acceleration beat plain SGD, but was beaten by MF-HomSGLD, which plateaued early but achieved a substantially smaller loss in the same amount of time\n",
    "- MF-HomSGLD (in the paper by Pavliotis, Kantas and Parpas entitled 'The sharp, the flat and the shallow: Can weakly interacting agents learn to escape bad minima?') matches the performance of plain SGD. Still, it gets stuck for more significant iterations and plateaus. However, in the MNIST one-digit classification, the algorithm attains a substantially smaller loss, about two orders of magnitude less than the other algorithms. However, it suffers from plateauing early again.\n",
    "- Finally, the single-digit classifier with the architecture satisfied the assumptions made in the paper. It was able to reproduce the distribution of parameters in the paper, as seen in the plot above, capturing the bimodality of the network parameter distribution in the paper."
   ]
  }
 ],
 "metadata": {
  "kernelspec": {
   "display_name": "Python 3 (ipykernel)",
   "language": "python",
   "name": "python3"
  },
  "language_info": {
   "codemirror_mode": {
    "name": "ipython",
    "version": 3
   },
   "file_extension": ".py",
   "mimetype": "text/x-python",
   "name": "python",
   "nbconvert_exporter": "python",
   "pygments_lexer": "ipython3",
   "version": "3.8.16"
  }
 },
 "nbformat": 4,
 "nbformat_minor": 5
}
