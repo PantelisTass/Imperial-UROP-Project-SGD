{
 "cells": [
  {
   "cell_type": "code",
   "execution_count": 12,
   "metadata": {},
   "outputs": [],
   "source": [
    "import numpy as np\n",
    "from tqdm.notebook import tqdm, trange\n",
    "from alive_progress import alive_bar\n",
    "import time # to be used in loop iterations\n",
    "np.random.seed(1234)"
   ]
  },
  {
   "cell_type": "code",
   "execution_count": 36,
   "metadata": {
    "scrolled": true
   },
   "outputs": [
    {
     "name": "stdout",
     "output_type": "stream",
     "text": [
      "|████████████████████████████████████████| 100/100 [100%] in 0.1s (788.80/s)    \n"
     ]
    }
   ],
   "source": [
    "import time\n",
    "with alive_bar(100, force_tty=True) as bar:\n",
    "    for i in range(100):\n",
    "        time.sleep(0.001)\n",
    "        bar()"
   ]
  },
  {
   "cell_type": "code",
   "execution_count": 30,
   "metadata": {},
   "outputs": [],
   "source": [
    "#Ground truth data distribution\n",
    "def random_sample(d, Delta, N):\n",
    "    y = np.random.randint(0,2,N)\n",
    "    np.where(y==0, -1, y)\n",
    "    x = np.zeros((N,d))\n",
    "    for i in range(N):\n",
    "        if y[i] == 1:\n",
    "            x[i,:] = np.random.multivariate_normal([0]*d, np.diag([(1+Delta)**2]*d))\n",
    "        if y[i] == -1:\n",
    "            x[i,:] = np.random.multivariate_normal([0]*d, np.diag([(1-Delta)**2]*d))\n",
    "    return x.reshape(N,d),y"
   ]
  },
  {
   "cell_type": "code",
   "execution_count": 13,
   "metadata": {},
   "outputs": [],
   "source": [
    "#activation function\n",
    "def sigma(t, t1, s1, t2, s2):\n",
    "    if t < t1:\n",
    "        return s1\n",
    "    elif t>t2:\n",
    "        return s2\n",
    "    else:\n",
    "        return (s2-s1)/(t2-t1)*(t-t1)+s1\n",
    "    \n",
    "def grad_sigma(t, t1, s1, t2, s2):\n",
    "    if t < t1:\n",
    "        return 0\n",
    "    elif t>t2:\n",
    "        return 0\n",
    "    else:\n",
    "        return (s2-s1)/(t2-t1)\n",
    "vgrad_sigma = np.vectorize(grad_sigma)\n",
    "vsigma = np.vectorize(sigma)"
   ]
  },
  {
   "cell_type": "code",
   "execution_count": 14,
   "metadata": {},
   "outputs": [],
   "source": [
    "#two layer neural net\n",
    "def neural_net(x, θ):\n",
    "    out = vsigma(θ@x, 0.5, -2.5, 1.5, 7.5)\n",
    "    return np.mean(out)"
   ]
  },
  {
   "cell_type": "code",
   "execution_count": 37,
   "metadata": {},
   "outputs": [],
   "source": [
    "def stochastic_gradient_descent(weights, d, Delta, N, ϵ = 1e-6, num_epochs = 1000):\n",
    "    \n",
    "    with alive_bar(num_epochs, force_tty=True) as bar:\n",
    "        for epoch in range(num_epochs): \n",
    "            # Update the weights\n",
    "            sample = random_sample(d,Delta,1)\n",
    "            X = sample[0].reshape(d,1)\n",
    "            y = sample[1]\n",
    "            vgrad = vgrad_sigma(weights@X, 0.5, -2.5, 1.5, 7.5)\n",
    "            gradient = vgrad_sigma(weights@X, 0.5, -2.5, 1.5, 7.5).reshape(N,1)*(X).reshape(1,d)\n",
    "            weights += 2*ϵ*(y-neural_net(X, weights))*gradient\n",
    "            bar()\n",
    "                \n",
    "    return weights\n"
   ]
  },
  {
   "cell_type": "code",
   "execution_count": null,
   "metadata": {},
   "outputs": [
    {
     "name": "stdout",
     "output_type": "stream",
     "text": [
      "|████▌                                   | ▂▄▆ 1124010/10000000 [11%] in 5:29 (~ ▆█▆ 526888/10000000 [5%] in 2:17 (~41 ▂▂▄ 704901/10000000 [7%] in 3:00 (~39 ▂▄▆ 771990/10000000 [8%] in 3:28 (~41 ▃▅▇ 975065/10000000 [10%] in 4:46 (~4 ▄▆█ 1006592/10000000 [10%] in 4:54 (~ ▆▄▂ 1091523/10000000 [11%] in 5:19 (~"
     ]
    }
   ],
   "source": [
    "#params\n",
    "d = 4\n",
    "N = 8\n",
    "Delta = 0.8\n",
    "\n",
    "# Initialize random weights\n",
    "\n",
    "weights = np.random.multivariate_normal([0]*d, np.diag([(Delta)**2/d]*d), N).reshape(N, d)\n",
    "\n",
    "weights = stochastic_gradient_descent(weights, d, Delta, N, ϵ = 1e-6, num_epochs = int(1e7))"
   ]
  },
  {
   "cell_type": "code",
   "execution_count": 7,
   "metadata": {},
   "outputs": [],
   "source": [
    "weights_norms = [np.linalg.norm(weights[i,:]) for i in range(weights.shape[0])]"
   ]
  },
  {
   "cell_type": "code",
   "execution_count": 8,
   "metadata": {},
   "outputs": [
    {
     "data": {
      "text/plain": [
       "(array([1.24927285, 1.56159106, 3.74781855, 7.49563709, 4.9970914 ,\n",
       "        5.93404603, 3.74781855, 1.24927285, 0.31231821, 0.93695464]),\n",
       " array([1.31668039, 1.34869902, 1.38071765, 1.41273627, 1.4447549 ,\n",
       "        1.47677352, 1.50879215, 1.54081078, 1.5728294 , 1.60484803,\n",
       "        1.63686665]),\n",
       " <BarContainer object of 10 artists>)"
      ]
     },
     "execution_count": 8,
     "metadata": {},
     "output_type": "execute_result"
    },
    {
     "data": {
      "image/png": "[encoded data removed]",
      "text/plain": [
       "<Figure size 640x480 with 1 Axes>"
      ]
     },
     "metadata": {},
     "output_type": "display_data"
    }
   ],
   "source": [
    "import matplotlib.pyplot as plt \n",
    "plt.hist(weights_norms, density = True)"
   ]
  },
  {
   "cell_type": "code",
   "execution_count": null,
   "metadata": {},
   "outputs": [],
   "source": [
    "sample = random_sample(40, 0.8, 1)\n",
    "x = sample[0][0]\n",
    "y = sample[1]\n",
    "neural_net(x, weights)"
   ]
  },
  {
   "cell_type": "code",
   "execution_count": null,
   "metadata": {},
   "outputs": [],
   "source": [
    "from scipy.stats import norm\n",
    "\n",
    "def q_plus(t, Delta):\n",
    "    x = np.linspace(-10, 10, 100)\n",
    "    f = 1 / (np.sqrt(2 * np.pi)) * vsigma((1 + Delta) * t * x, 0.5, -2.5, 1.5, 7.5) * np.exp(-x ** 2 / 2)\n",
    "    integral = np.trapz(f, x)\n",
    "    return integral\n",
    "\n",
    "def q_minus(t, Delta):\n",
    "    x = np.linspace(-10,10, 100)\n",
    "    f = 1 / (np.sqrt(2 * np.pi)) * vsigma((1 - Delta) * t * x, 0.5, -2.5, 1.5, 7.5) * np.exp(-x ** 2 / 2)\n",
    "    integral = np.trapz(f, x)\n",
    "    return integral\n",
    "\n",
    "vq_plus = np.vectorize(q_plus)\n",
    "vq_minus = np.vectorize(q_minus)\n",
    "\n",
    "def R_inf(r, vq_plus, vq_minus, Delta):\n",
    "    mean_vq_plus = np.mean(vq_plus)\n",
    "    mean_vq_minus = np.mean(vq_minus)\n",
    "    return 0.5 * (1 - mean_vq_plus) ** 2 + 0.5 * (1 + mean_vq_minus) ** 2\n",
    "\n",
    "def grad_R_inf(r, vq_plus, vq_minus, Delta):\n",
    "    J = len(r)\n",
    "    mean_vq_plus = np.mean(vq_plus)\n",
    "    mean_vq_minus = np.mean(vq_minus)\n",
    "    return -1 / J * vq_plus * (1 - mean_vq_plus) + 1 / J * vq_minus * (1 + mean_vq_minus)\n",
    "\n",
    "def update(r, dt, grad):\n",
    "    J = len(r)\n",
    "    return r - J * grad * dt"
   ]
  },
  {
   "cell_type": "code",
   "execution_count": null,
   "metadata": {},
   "outputs": [],
   "source": [
    "#simulate pde\n",
    "Interval = 10**np.linspace(-1e-5,1, int(1e4))\n",
    "J = 100\n",
    "pde_vals = np.zeros((100,J))\n",
    "Delta = 0.8\n",
    "d = 40\n",
    "separations = [Interval[k+1]-Interval[k] for k in range(len(Interval)-1)]"
   ]
  },
  {
   "cell_type": "code",
   "execution_count": null,
   "metadata": {
    "scrolled": true
   },
   "outputs": [],
   "source": [
    "#simulate 100 times and obtain a histogram\n",
    "for i in trange(1):\n",
    "    Z = np.random.multivariate_normal([0]*d, np.diag([(Delta)**2/d]*d), J).reshape(J, d)\n",
    "    r = np.linalg.norm(Z, axis = 1)\n",
    "    for dt in tqdm(separations):\n",
    "        plus = vq_plus(r, Delta)\n",
    "        minus = vq_minus(r, Delta)\n",
    "        r = update(r,dt, grad_R_inf(r, plus, minus, Delta))\n",
    "    pde_vals[i] = r\n",
    "    print(pde_vals)"
   ]
  },
  {
   "cell_type": "code",
   "execution_count": null,
   "metadata": {},
   "outputs": [],
   "source": [
    "import matplotlib.pyplot as plt\n",
    "plt.hist(np.ndarray.flatten(pde_vals), density = True)"
   ]
  },
  {
   "cell_type": "code",
   "execution_count": null,
   "metadata": {},
   "outputs": [],
   "source": [
    "np.ndarray.flatten(pde_vals)"
   ]
  }
 ],
 "metadata": {
  "kernelspec": {
   "display_name": "Python 3 (ipykernel)",
   "language": "python",
   "name": "python3"
  },
  "language_info": {
   "codemirror_mode": {
    "name": "ipython",
    "version": 3
   },
   "file_extension": ".py",
   "mimetype": "text/x-python",
   "name": "python",
   "nbconvert_exporter": "python",
   "pygments_lexer": "ipython3",
   "version": "3.8.16"
  }
 },
 "nbformat": 4,
 "nbformat_minor": 4
}
