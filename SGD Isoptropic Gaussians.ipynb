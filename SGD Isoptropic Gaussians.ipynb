{
 "cells": [
  {
   "cell_type": "code",
   "execution_count": 421,
   "metadata": {},
   "outputs": [],
   "source": [
    "import numpy as np\n",
    "from tqdm.notebook import tqdm, trange\n",
    "from alive_progress import alive_bar\n",
    "import time # to be used in loop iterations\n",
    "import caffeine\n",
    "from multiprocess import Pool\n",
    "import matplotlib.pyplot as plt\n",
    "from queue import Queue\n",
    "from threading import Thread\n",
    "np.random.seed(1234)"
   ]
  },
  {
   "cell_type": "code",
   "execution_count": 422,
   "metadata": {},
   "outputs": [],
   "source": [
    "#Ground truth data distribution\n",
    "def random_sample(d, Delta, N):\n",
    "    y = np.random.randint(0,2,N)\n",
    "    y = np.where(y==0, -1, y)\n",
    "    x = np.zeros((N,d))\n",
    "    for i in range(N):\n",
    "        if y[i] == 1:\n",
    "            x[i,:] = np.random.multivariate_normal([0]*d, np.diag([(1+Delta)**2]*d))\n",
    "        if y[i] == -1:\n",
    "            x[i,:] = np.random.multivariate_normal([0]*d, np.diag([(1-Delta)**2]*d))\n",
    "    return x.reshape(N,d),y"
   ]
  },
  {
   "cell_type": "code",
   "execution_count": 423,
   "metadata": {},
   "outputs": [],
   "source": [
    "#activation function\n",
    "def sigma(t, t1, s1, t2, s2):\n",
    "    if t < t1:\n",
    "        return s1\n",
    "    elif t>t2:\n",
    "        return s2\n",
    "    else:\n",
    "        return (s2-s1)/(t2-t1)*(t-t1)+s1\n",
    "    \n",
    "def grad_sigma(t, t1, s1, t2, s2):\n",
    "    if t < t1:\n",
    "        return 0\n",
    "    elif t>t2:\n",
    "        return 0\n",
    "    else:\n",
    "        return (s2-s1)/(t2-t1)\n",
    "vgrad_sigma = np.vectorize(grad_sigma)\n",
    "vsigma = np.vectorize(sigma)"
   ]
  },
  {
   "cell_type": "code",
   "execution_count": 424,
   "metadata": {},
   "outputs": [],
   "source": [
    "#two layer neural net\n",
    "def neural_net(x, θ):\n",
    "    out = vsigma(θ@x, 0.5, -2.5, 1.5, 7.5)\n",
    "    return np.mean(out)"
   ]
  },
  {
   "cell_type": "code",
   "execution_count": 425,
   "metadata": {},
   "outputs": [],
   "source": [
    "def stochastic_gradient_descent(weights, d, Delta, N, epsilon = 1e-6, num_epochs = 1000):\n",
    "    for epoch in trange(num_epochs): \n",
    "        # Update the weights\n",
    "        sample = random_sample(d,Delta,1)\n",
    "        X = sample[0].reshape(d,1)\n",
    "        y = sample[1]\n",
    "        vgrad = vgrad_sigma(weights@X, 0.5, -2.5, 1.5, 7.5)\n",
    "        gradient = vgrad.reshape(N,1)*(X).reshape(1,d)\n",
    "        weights += 2*epsilon*(y-neural_net(X, weights))*gradient\n",
    "                \n",
    "    return weights"
   ]
  },
  {
   "cell_type": "code",
   "execution_count": 427,
   "metadata": {
    "scrolled": true
   },
   "outputs": [
    {
     "data": {
      "application/vnd.jupyter.widget-view+json": {
       "model_id": "17e82ebf1845456a8012bf431a2f1cac",
       "version_major": 2,
       "version_minor": 0
      },
      "text/plain": [
       "  0%|          | 0/10000000 [00:00<?, ?it/s]"
      ]
     },
     "metadata": {},
     "output_type": "display_data"
    }
   ],
   "source": [
    "#params\n",
    "d = 40\n",
    "N = 800\n",
    "Delta = 0.8\n",
    "\n",
    "# Initialize random weights\n",
    "\n",
    "weights = np.random.multivariate_normal([0]*d, np.diag([(Delta)**2/d]*d), N).reshape(N, d)\n",
    "\n",
    "weights = stochastic_gradient_descent(weights, d, Delta, N, epsilon = 1e-6, num_epochs = int(1e7))"
   ]
  },
  {
   "cell_type": "code",
   "execution_count": 428,
   "metadata": {},
   "outputs": [],
   "source": [
    "weights_norms = np.linalg.norm(weights, axis = 1)"
   ]
  },
  {
   "cell_type": "code",
   "execution_count": 441,
   "metadata": {},
   "outputs": [
    {
     "data": {
      "text/plain": [
       "(array([0.7846416 , 0.        , 0.01376564, 0.        , 0.00688282,\n",
       "        0.00688282, 0.01376564, 0.02064846, 0.03441411, 0.04817975,\n",
       "        0.04129693, 0.02064846, 0.07571103, 0.07571103, 0.06882821,\n",
       "        0.09635949, 0.14453924, 0.15830488, 0.2615472 , 0.20648463,\n",
       "        0.34414105, 0.37855516, 0.43361773, 0.57127415, 0.57815697,\n",
       "        0.57815697, 0.32349259, 0.15142206, 0.05506257, 0.01376564]),\n",
       " array([0.06873378, 0.25034536, 0.43195694, 0.61356852, 0.7951801 ,\n",
       "        0.97679167, 1.15840325, 1.34001483, 1.52162641, 1.70323799,\n",
       "        1.88484957, 2.06646115, 2.24807273, 2.42968431, 2.61129589,\n",
       "        2.79290747, 2.97451905, 3.15613063, 3.33774221, 3.51935379,\n",
       "        3.70096537, 3.88257695, 4.06418853, 4.24580011, 4.42741169,\n",
       "        4.60902327, 4.79063485, 4.97224643, 5.153858  , 5.33546958,\n",
       "        5.51708116]),\n",
       " <BarContainer object of 30 artists>)"
      ]
     },
     "execution_count": 441,
     "metadata": {},
     "output_type": "execute_result"
    },
    {
     "data": {
      "image/png": "[encoded data removed]",
      "text/plain": [
       "<Figure size 640x480 with 1 Axes>"
      ]
     },
     "metadata": {},
     "output_type": "display_data"
    }
   ],
   "source": [
    "import matplotlib.pyplot as plt \n",
    "plt.hist(weights_norms, density = True,  bins = 30)"
   ]
  },
  {
   "cell_type": "code",
   "execution_count": 440,
   "metadata": {},
   "outputs": [
    {
     "name": "stdout",
     "output_type": "stream",
     "text": [
      "pred: 1.4029951168440733\n",
      "actual:[1]\n"
     ]
    }
   ],
   "source": [
    "sample = random_sample(40, 0.8, 1)\n",
    "x = sample[0][0]\n",
    "y = sample[1]\n",
    "print(\"pred: \"+ str(neural_net(x, weights)))\n",
    "print(\"actual:\" + str(y))"
   ]
  },
  {
   "cell_type": "code",
   "execution_count": 402,
   "metadata": {},
   "outputs": [],
   "source": [
    "from scipy.stats import norm\n",
    "\n",
    "def q_plus(t, Delta):\n",
    "    x = np.linspace(0.5/((1+Delta)*t), 1.5/((1+Delta)*t), 100)\n",
    "    f = 1 / (np.sqrt(2 * np.pi)) * vsigma((1 + Delta) * t * x, 0.5, -2.5, 1.5, 7.5) * np.exp(-x ** 2 / 2)\n",
    "    integral = np.trapz(f, x)\n",
    "    return integral -2.5*norm.cdf(0.5/((1+Delta)*t))+7.5*(1-norm.cdf(1.5/((1+Delta)*t)))\n",
    "    #return integral\n",
    "\n",
    "def q_minus(t, Delta):\n",
    "    x = np.linspace(0.5/((1-Delta)*t), 1.5/((1-Delta)*t), 100)\n",
    "    f = 1 / (np.sqrt(2 * np.pi)) * vsigma((1 - Delta) * t * x, 0.5, -2.5, 1.5, 7.5) * np.exp(-x ** 2 / 2)\n",
    "    integral = np.trapz(f, x)\n",
    "    return integral -2.5*norm.cdf(0.5/((1-Delta)*t))+7.5*(1-norm.cdf(1.5/((1-Delta)*t)))\n",
    "    #return integral\n",
    "\n",
    "vq_plus = np.vectorize(q_plus)\n",
    "vq_minus = np.vectorize(q_minus)\n",
    "\n",
    "def dq_plus(t, Delta):\n",
    "    x = np.linspace(0.5/((1+Delta)*t), 1.5/((1+Delta)*t), 100)\n",
    "    f = (1+Delta) / (np.sqrt(2 * np.pi)) * 10 * np.exp(-x ** 2 / 2)*x\n",
    "    integral = np.trapz(f, x)\n",
    "    return integral \n",
    "\n",
    "def dq_minus(t, Delta):\n",
    "    x = np.linspace(0.5/((1-Delta)*t), 1.5/((1-Delta)*t), 100)\n",
    "    f = (1-Delta) / (np.sqrt(2 * np.pi)) * 10 * np.exp(-x ** 2 / 2)*x\n",
    "    integral = np.trapz(f, x)\n",
    "    return integral\n",
    "    \n",
    "vdq_plus = np.vectorize(dq_plus)\n",
    "vdq_minus = np.vectorize(dq_minus)\n",
    "\n",
    "def q_func(pair):\n",
    "    t = pair[0]\n",
    "    flag = pair[1]\n",
    "    if flag == 0:\n",
    "        return vq_plus(t,0.8)\n",
    "    elif flag == 1:\n",
    "        return vq_minus(t,0.8)\n",
    "    elif flag == 2:\n",
    "        return vdq_plus(t,0.8)\n",
    "    elif flag == 3:\n",
    "        return vdq_minus(t,0.8)\n",
    "    \n",
    "def q_func_new(pair):\n",
    "    t = pair[0]\n",
    "    flag = pair[1]\n",
    "    if flag == 0:\n",
    "        return vq_plus_new(t)\n",
    "    elif flag == 1:\n",
    "        return vq_minus_new(t)\n",
    "    elif flag == 2:\n",
    "        return vdq_plus_new(t)\n",
    "    elif flag == 3:\n",
    "        return vdq_minus_new(t)\n",
    "\n",
    "def parallelise(t):\n",
    "    with Pool(4) as p:\n",
    "        results = np.array(p.map(q_func_new, [[t,0], [t,1], [t,2], [t,3]]))\n",
    "    return results\n",
    "vparallelise = np.vectorize(parallelise)"
   ]
  },
  {
   "cell_type": "code",
   "execution_count": 380,
   "metadata": {
    "scrolled": false
   },
   "outputs": [
    {
     "data": {
      "text/plain": [
       "[<matplotlib.lines.Line2D at 0x7fca22c55d60>]"
      ]
     },
     "execution_count": 380,
     "metadata": {},
     "output_type": "execute_result"
    },
    {
     "data": {
      "image/png": "[encoded data removed]",
      "text/plain": [
       "<Figure size 640x480 with 1 Axes>"
      ]
     },
     "metadata": {},
     "output_type": "display_data"
    }
   ],
   "source": [
    "epsilon = 1e-6\n",
    "Delta = 0.8\n",
    "Interval_q = 10**np.linspace(-10,np.log10(epsilon*1e7), int(1e5))\n",
    "q_plus_vals = vq_plus(Interval_q, Delta)\n",
    "plt.plot(Interval_q, q_plus_vals)"
   ]
  },
  {
   "cell_type": "code",
   "execution_count": 381,
   "metadata": {},
   "outputs": [
    {
     "data": {
      "text/plain": [
       "[<matplotlib.lines.Line2D at 0x7fca1d4cf940>]"
      ]
     },
     "execution_count": 381,
     "metadata": {},
     "output_type": "execute_result"
    },
    {
     "data": {
      "image/png": "[encoded data removed]",
      "text/plain": [
       "<Figure size 640x480 with 1 Axes>"
      ]
     },
     "metadata": {},
     "output_type": "display_data"
    }
   ],
   "source": [
    "Interval_q = 10**np.linspace(-10,np.log10(epsilon*1e7), int(1e5))\n",
    "q_minus_vals = vq_minus(Interval_q, Delta)\n",
    "plt.plot(Interval_q, q_minus_vals)"
   ]
  },
  {
   "cell_type": "code",
   "execution_count": 382,
   "metadata": {},
   "outputs": [],
   "source": [
    "Q_plus = dict(zip(Interval_q, q_plus_vals))\n",
    "Q_minus = dict(zip(Interval_q, q_minus_vals))"
   ]
  },
  {
   "cell_type": "code",
   "execution_count": 394,
   "metadata": {},
   "outputs": [
    {
     "data": {
      "text/plain": [
       "[<matplotlib.lines.Line2D at 0x7fca27740580>]"
      ]
     },
     "execution_count": 394,
     "metadata": {},
     "output_type": "execute_result"
    },
    {
     "data": {
      "image/png": "[encoded data removed]",
      "text/plain": [
       "<Figure size 640x480 with 1 Axes>"
      ]
     },
     "metadata": {},
     "output_type": "display_data"
    }
   ],
   "source": [
    "Interval_q = 10**np.linspace(-10,np.log10(epsilon*1e7), int(1e5))\n",
    "dq_plus_vals = vdq_plus(Interval_q, Delta)\n",
    "plt.plot(Interval_q, dq_plus_vals)"
   ]
  },
  {
   "cell_type": "code",
   "execution_count": 392,
   "metadata": {},
   "outputs": [
    {
     "data": {
      "text/plain": [
       "[<matplotlib.lines.Line2D at 0x7fca27764070>]"
      ]
     },
     "execution_count": 392,
     "metadata": {},
     "output_type": "execute_result"
    },
    {
     "data": {
      "image/png": "[encoded data removed]",
      "text/plain": [
       "<Figure size 640x480 with 1 Axes>"
      ]
     },
     "metadata": {},
     "output_type": "display_data"
    }
   ],
   "source": [
    "Interval_q = 10**np.linspace(-10,np.log10(epsilon*1e7), int(1e5))\n",
    "dq_minus_vals = vdq_minus(Interval_q, Delta)\n",
    "plt.plot(Interval_q, dq_minus_vals)"
   ]
  },
  {
   "cell_type": "code",
   "execution_count": 395,
   "metadata": {},
   "outputs": [],
   "source": [
    "dQ_plus = dict(zip(Interval_q, dq_plus_vals))\n",
    "dQ_minus = dict(zip(Interval_q, dq_minus_vals))"
   ]
  },
  {
   "cell_type": "code",
   "execution_count": 396,
   "metadata": {},
   "outputs": [],
   "source": [
    "def find_nearest(array, value):\n",
    "    array = np.asarray(array)\n",
    "    idx = (np.abs(array - value)).argmin()\n",
    "    return array[idx]\n",
    "vfind_nearest = np.vectorize(find_nearest)"
   ]
  },
  {
   "cell_type": "code",
   "execution_count": 238,
   "metadata": {},
   "outputs": [],
   "source": [
    "def q_plus_new(r):\n",
    "    r_approx = find_nearest(Interval_q, r)\n",
    "    return Q_plus[r_approx]\n",
    "\n",
    "def q_minus_new(r):\n",
    "    r_approx = find_nearest(Interval_q, r)\n",
    "    return Q_minus[r_approx]\n",
    "\n",
    "vq_plus_new = np.vectorize(q_plus_new)\n",
    "vq_minus_new = np.vectorize(q_minus_new)\n",
    "\n",
    "def dq_plus_new(r):\n",
    "    r_approx = find_nearest(Interval_q, r)\n",
    "    return dQ_plus[r_approx]\n",
    "\n",
    "def dq_minus_new(r):\n",
    "    r_approx = find_nearest(Interval_q, r)\n",
    "    return dQ_minus[r_approx]\n",
    "\n",
    "vdq_plus_new = np.vectorize(dq_plus_new)\n",
    "vdq_minus_new = np.vectorize(dq_minus_new)\n",
    "\n",
    "\n",
    "def R_inf(vq_plus, vq_minus, Delta):\n",
    "    mean_vq_plus = np.mean(vq_plus)\n",
    "    mean_vq_minus = np.mean(vq_minus)\n",
    "    return 0.5 * (1 - mean_vq_plus) ** 2 + 0.5 * (1 + mean_vq_minus) ** 2\n",
    "\n",
    "def grad_R_inf(r, vq_plus, vq_minus, dplus, dminus, Delta):\n",
    "    J = len(r)\n",
    "    mean_vq_plus = np.mean(vq_plus)\n",
    "    mean_vq_minus = np.mean(vq_minus)\n",
    "    return -1 / J * dplus * (1 - mean_vq_plus) + 1 / J * dminus * (1 + mean_vq_minus)\n",
    "\n",
    "def update(r, dt, grad):\n",
    "    J = len(r)\n",
    "    return r - J * grad * dt"
   ]
  },
  {
   "cell_type": "code",
   "execution_count": 412,
   "metadata": {},
   "outputs": [],
   "source": [
    "#simulate pde\n",
    "epsilon = 1e-6\n",
    "Interval = 10**np.linspace(-10,np.log10(epsilon*1e7), int(1e3))\n",
    "J = 400\n",
    "Iters = 5\n",
    "pde_vals = np.zeros((Iters,J))\n",
    "Delta = 0.8\n",
    "d = 40\n",
    "separations = [Interval[k+1]-Interval[k] for k in range(len(Interval)-1)]"
   ]
  },
  {
   "cell_type": "code",
   "execution_count": 413,
   "metadata": {
    "scrolled": true
   },
   "outputs": [
    {
     "data": {
      "application/vnd.jupyter.widget-view+json": {
       "model_id": "ddd1d38f1e5049e8a51a9cbeff7c9791",
       "version_major": 2,
       "version_minor": 0
      },
      "text/plain": [
       "  0%|          | 0/5 [00:00<?, ?it/s]"
      ]
     },
     "metadata": {},
     "output_type": "display_data"
    },
    {
     "data": {
      "application/vnd.jupyter.widget-view+json": {
       "model_id": "f9faff5e67c14cf1a0bbac2a6343b5ec",
       "version_major": 2,
       "version_minor": 0
      },
      "text/plain": [
       "  0%|          | 0/999 [00:00<?, ?it/s]"
      ]
     },
     "metadata": {},
     "output_type": "display_data"
    },
    {
     "data": {
      "application/vnd.jupyter.widget-view+json": {
       "model_id": "0d0817a712c04692afc9fc69de39d8dc",
       "version_major": 2,
       "version_minor": 0
      },
      "text/plain": [
       "  0%|          | 0/999 [00:00<?, ?it/s]"
      ]
     },
     "metadata": {},
     "output_type": "display_data"
    },
    {
     "data": {
      "application/vnd.jupyter.widget-view+json": {
       "model_id": "26727a57c6bb42dd89c6189b1e945968",
       "version_major": 2,
       "version_minor": 0
      },
      "text/plain": [
       "  0%|          | 0/999 [00:00<?, ?it/s]"
      ]
     },
     "metadata": {},
     "output_type": "display_data"
    },
    {
     "data": {
      "application/vnd.jupyter.widget-view+json": {
       "model_id": "0e09eaacf35044659b7010c925e93d50",
       "version_major": 2,
       "version_minor": 0
      },
      "text/plain": [
       "  0%|          | 0/999 [00:00<?, ?it/s]"
      ]
     },
     "metadata": {},
     "output_type": "display_data"
    },
    {
     "data": {
      "application/vnd.jupyter.widget-view+json": {
       "model_id": "cdadd821b2e145cd89d276669d58664c",
       "version_major": 2,
       "version_minor": 0
      },
      "text/plain": [
       "  0%|          | 0/999 [00:00<?, ?it/s]"
      ]
     },
     "metadata": {},
     "output_type": "display_data"
    }
   ],
   "source": [
    "#simulate 100 times and obtain a histogram\n",
    "processes_count = 4\n",
    "for i in trange(Iters):\n",
    "    Z = np.random.multivariate_normal([0]*d, np.diag([(Delta)**2/d]*d), J).reshape(J, d)\n",
    "    r = np.linalg.norm(Z, axis = 1)\n",
    "    for dt in tqdm(separations):\n",
    "        ''''\n",
    "        plus = vq_plus(r, Delta)\n",
    "        minus = vq_minus(r, Delta)\n",
    "        dplus = vdq_plus(r, Delta)\n",
    "        dminus = vdq_minus(r, Delta)\n",
    "        '''\n",
    "        output = parallelise(r).reshape(4,J)\n",
    "        plus = output[0]\n",
    "        minus = output[1]\n",
    "        dplus = output[2]\n",
    "        dminus = output[3]\n",
    "        \n",
    "        grad = grad_R_inf(r, plus, minus, dplus, dminus, Delta)\n",
    "        r = update(r,dt, grad)\n",
    "    pde_vals[i] = r"
   ]
  },
  {
   "cell_type": "code",
   "execution_count": 442,
   "metadata": {},
   "outputs": [
    {
     "data": {
      "text/plain": [
       "(array([0.71595808, 0.00540346, 0.00270173, 0.00270173, 0.00540346,\n",
       "        0.00540346, 0.02161383, 0.01350864, 0.01350864, 0.02161383,\n",
       "        0.03512247, 0.05403457, 0.0378242 , 0.06213976, 0.07835013,\n",
       "        0.08645532, 0.12427952, 0.189121  , 0.18101582, 0.25396249,\n",
       "        0.31610225, 0.35932991, 0.46469732, 0.61599413, 0.54574918,\n",
       "        0.49171461, 0.37554028, 0.24315558, 0.06213976, 0.0189121 ]),\n",
       " array([-0.08483525,  0.10023145,  0.28529815,  0.47036485,  0.65543155,\n",
       "         0.84049825,  1.02556495,  1.21063165,  1.39569835,  1.58076505,\n",
       "         1.76583175,  1.95089845,  2.13596515,  2.32103185,  2.50609855,\n",
       "         2.69116525,  2.87623195,  3.06129865,  3.24636535,  3.43143205,\n",
       "         3.61649875,  3.80156545,  3.98663215,  4.17169885,  4.35676555,\n",
       "         4.54183225,  4.72689895,  4.91196565,  5.09703235,  5.28209905,\n",
       "         5.46716576]),\n",
       " <BarContainer object of 30 artists>)"
      ]
     },
     "execution_count": 442,
     "metadata": {},
     "output_type": "execute_result"
    },
    {
     "data": {
      "image/png": "[encoded data removed]",
      "text/plain": [
       "<Figure size 640x480 with 1 Axes>"
      ]
     },
     "metadata": {},
     "output_type": "display_data"
    }
   ],
   "source": [
    "import matplotlib.pyplot as plt\n",
    "y = np.ndarray.flatten(pde_vals)\n",
    "plt.hist(y, density = True, bins = 30)"
   ]
  },
  {
   "cell_type": "code",
   "execution_count": 449,
   "metadata": {},
   "outputs": [
    {
     "name": "stdout",
     "output_type": "stream",
     "text": [
      "Elapsed time: 0.19214320182800293\n"
     ]
    }
   ],
   "source": [
    "Z = np.random.multivariate_normal([0]*d, np.diag([(Delta)**2/d]*d), J).reshape(J, d)\n",
    "r = np.linalg.norm(Z, axis = 1)\n",
    "start = time.time()\n",
    "plus = vq_plus_new(r)\n",
    "minus = vq_minus_new(r)\n",
    "dplus = vdq_plus_new(r)\n",
    "dminus = vdq_minus_new(r)\n",
    "print('Elapsed time: {}'.format(time.time()-start))"
   ]
  },
  {
   "cell_type": "code",
   "execution_count": 450,
   "metadata": {},
   "outputs": [
    {
     "name": "stdout",
     "output_type": "stream",
     "text": [
      "Elapsed time: 0.23653006553649902\n"
     ]
    }
   ],
   "source": [
    "Z = np.random.multivariate_normal([0]*d, np.diag([(Delta)**2/d]*d), J).reshape(J, d)\n",
    "r = np.linalg.norm(Z, axis = 1)\n",
    "start = time.time()\n",
    "output = parallelise(r).reshape(4,J)\n",
    "plus = output[0]\n",
    "minus = output[1]\n",
    "dplus = output[2]\n",
    "dminus = output[3]\n",
    "print('Elapsed time: {}'.format(time.time()-start))"
   ]
  }
 ],
 "metadata": {
  "kernelspec": {
   "display_name": "Python 3 (ipykernel)",
   "language": "python",
   "name": "python3"
  },
  "language_info": {
   "codemirror_mode": {
    "name": "ipython",
    "version": 3
   },
   "file_extension": ".py",
   "mimetype": "text/x-python",
   "name": "python",
   "nbconvert_exporter": "python",
   "pygments_lexer": "ipython3",
   "version": "3.8.16"
  }
 },
 "nbformat": 4,
 "nbformat_minor": 4
}
