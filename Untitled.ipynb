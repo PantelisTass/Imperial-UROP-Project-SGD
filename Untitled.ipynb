{
 "cells": [
  {
   "cell_type": "code",
   "execution_count": 123,
   "id": "9ccd698b",
   "metadata": {},
   "outputs": [],
   "source": [
    "import numpy as np\n",
    "from tqdm.notebook import tqdm, trange\n",
    "from alive_progress import alive_bar\n",
    "import time # to be used in loop iterations\n",
    "import caffeine\n",
    "from multiprocess import Pool\n",
    "import matplotlib.pyplot as plt\n",
    "from queue import Queue\n",
    "from threading import Thread\n",
    "np.random.seed(1234)"
   ]
  },
  {
   "cell_type": "code",
   "execution_count": 136,
   "id": "d3352a33",
   "metadata": {},
   "outputs": [],
   "source": [
    "#Ground truth data distribution\n",
    "def random_sample_old(d, Delta, N):\n",
    "    y = np.random.randint(0,2,N)\n",
    "    y = np.where(y==0, -1, y)\n",
    "    x = np.zeros((N,d))\n",
    "    for i in range(N):\n",
    "        if y[i] == 1:\n",
    "            x[i,:] = np.random.multivariate_normal([0]*d, np.diag([(1+Delta)**2]*d))\n",
    "        if y[i] == -1:\n",
    "            x[i,:] = np.random.multivariate_normal([0]*d, np.diag([(1-Delta)**2]*d))\n",
    "    return x.reshape(N,d),y"
   ]
  },
  {
   "cell_type": "code",
   "execution_count": 151,
   "id": "ae035620",
   "metadata": {},
   "outputs": [],
   "source": [
    "#Ground truth data distribution\n",
    "def random_sample(d, Delta, N):\n",
    "    y = np.ones(N)\n",
    "    x = np.zeros((N,d))\n",
    "    successes = np.random.binomial(N, 0.5)\n",
    "    y[successes:] *= -1\n",
    "    x[:successes, :] = np.random.multivariate_normal([0]*d, np.diag([(1+Delta)**2]*d), successes)\n",
    "    x[successes:, :] = np.random.multivariate_normal([0]*d, np.diag([(1-Delta)**2]*d), N-successes)\n",
    "    \n",
    "    return x.reshape(N,d),y"
   ]
  },
  {
   "cell_type": "code",
   "execution_count": 152,
   "id": "7664549f",
   "metadata": {},
   "outputs": [
    {
     "data": {
      "text/plain": [
       "(array([508.,   4.,   0.,   0.,   0.,   0.,   0.,  60., 336.,  92.]),\n",
       " array([ 7.66789245,  9.90458583, 12.1412792 , 14.37797258, 16.61466596,\n",
       "        18.85135933, 21.08805271, 23.32474608, 25.56143946, 27.79813284,\n",
       "        30.03482621]),\n",
       " <BarContainer object of 10 artists>)"
      ]
     },
     "execution_count": 152,
     "metadata": {},
     "output_type": "execute_result"
    },
    {
     "data": {
      "image/png": "[encoded data removed]",
      "text/plain": [
       "<Figure size 640x480 with 1 Axes>"
      ]
     },
     "metadata": {},
     "output_type": "display_data"
    }
   ],
   "source": [
    "d = 320\n",
    "Delta = 0.5\n",
    "N = int(1e3)\n",
    "x_old, y_old = random_sample_old(d, Delta, N)\n",
    "x,y = random_sample(d, Delta, N)\n",
    "r_old = np.linalg.norm(x_old, axis = 1)\n",
    "r = np.linalg.norm(x, axis = 1)\n",
    "#plt.scatter(r,y,c = 'r', marker = 'x')\n",
    "#plt.scatter(r_old,y_old, c = 'b' , marker = '+')\n",
    "plt.hist(r_old)\n",
    "plt.hist(r)"
   ]
  },
  {
   "cell_type": "code",
   "execution_count": 125,
   "id": "17db61cf",
   "metadata": {},
   "outputs": [],
   "source": [
    "#non-monotone activation function\n",
    "def sigma_nm(t):\n",
    "    if t < 0:\n",
    "        return -2.5\n",
    "    elif t>1.5:\n",
    "        return 7.5\n",
    "    elif 0<=t<0.5:\n",
    "        return -3*(t)-2.5\n",
    "    elif 0.5<=t<=1.5:\n",
    "        return (11.5)*(t-0.5)-4\n",
    "        \n",
    "def grad_sigma_nm(t):\n",
    "    if t < 0:\n",
    "        return 0\n",
    "    elif t>1.5:\n",
    "        return 0\n",
    "    elif 0<=t<0.5:\n",
    "        return -3\n",
    "    elif 0.5<=t<=1.5:\n",
    "        return 11.5\n",
    "vgrad_sigma_nm = np.vectorize(grad_sigma_nm)\n",
    "vsigma_nm = np.vectorize(sigma_nm)"
   ]
  },
  {
   "cell_type": "code",
   "execution_count": 126,
   "id": "e969524c",
   "metadata": {},
   "outputs": [],
   "source": [
    "#two layer neural net with non-monotone activation\n",
    "def neural_net_nm(x, θ):\n",
    "    n = x.shape[0]\n",
    "    out = vsigma_nm(θ@x.T)\n",
    "    return np.mean(out, axis = 0).reshape(n,1)"
   ]
  },
  {
   "cell_type": "code",
   "execution_count": 127,
   "id": "55e1d95a",
   "metadata": {},
   "outputs": [],
   "source": [
    "def stochastic_gradient_descent(d, Delta, N, kappa, epsilon = 1e-5, num_epochs = 1000):\n",
    "    \n",
    "    weights = np.random.multivariate_normal([0]*d, np.diag([(kappa)**2/d]*d), N).reshape(N, d)\n",
    "    indices = [1,2,5]+[int(a) for a in 10**(np.linspace(1.1, np.log10(num_epochs), 20))]\n",
    "    risk = []\n",
    "    mean_dist = []\n",
    "    \n",
    "    for epoch in trange(1, num_epochs+1): \n",
    "        # Update the weights\n",
    "        sample = random_sample(d,Delta,1)\n",
    "        x = sample[0].reshape(1,d)\n",
    "        y = sample[1]\n",
    "        grad = vgrad_sigma_nm(weights@x.T).reshape(N,1)*x\n",
    "        step = epsilon*(epsilon*epoch)**(-0.25)\n",
    "        weights += 2*step*(y-neural_net_nm(x, weights))*grad\n",
    "        if epoch in indices:\n",
    "        #population risk\n",
    "            M = int(1e4)\n",
    "            x_sample, y_sample = random_sample(d, Delta, M)\n",
    "            mse = np.mean((y_sample-neural_net_nm(x_sample,weights))**2)\n",
    "            risk.append(mse)\n",
    "            dist = np.mean(np.linalg.norm(weights, axis = 1))\n",
    "            mean_dist.append(dist)\n",
    "            print('Epoch: {}, risk: {}'.format(epoch, mse))\n",
    "                \n",
    "    return weights, np.array(risk), mean_dist, indices"
   ]
  },
  {
   "cell_type": "code",
   "execution_count": null,
   "id": "f266bc3c",
   "metadata": {
    "scrolled": true
   },
   "outputs": [
    {
     "data": {
      "application/vnd.jupyter.widget-view+json": {
       "model_id": "ccd34961155b4e68bafdd03ddecc9974",
       "version_major": 2,
       "version_minor": 0
      },
      "text/plain": [
       "  0%|          | 0/100000 [00:00<?, ?it/s]"
      ]
     },
     "metadata": {},
     "output_type": "display_data"
    },
    {
     "name": "stdout",
     "output_type": "stream",
     "text": [
      "Epoch: 1, risk: 7.111412563160329\n",
      "Epoch: 2, risk: 7.066302069363399\n",
      "Epoch: 5, risk: 7.039833533591089\n",
      "Epoch: 12, risk: 7.031976110686619\n",
      "Epoch: 20, risk: 6.980827433957934\n",
      "Epoch: 32, risk: 6.896945321106267\n",
      "Epoch: 51, risk: 6.824028939993617\n",
      "Epoch: 83, risk: 6.714840068356629\n",
      "Epoch: 133, risk: 6.5913952614505105\n",
      "Epoch: 214, risk: 6.3217993925926415\n",
      "Epoch: 344, risk: 6.084787843379904\n",
      "Epoch: 552, risk: 5.753413397533686\n",
      "Epoch: 885, risk: 5.384980522962335\n",
      "Epoch: 1421, risk: 4.972503392768115\n",
      "Epoch: 2279, risk: 4.54545123316819\n",
      "Epoch: 3657, risk: 4.11499534497253\n",
      "Epoch: 5867, risk: 3.6937428511250476\n",
      "Epoch: 9412, risk: 3.3027644004124586\n",
      "Epoch: 15098, risk: 2.9887017490277348\n"
     ]
    }
   ],
   "source": [
    "#SGD run\n",
    "d = 16\n",
    "N = 80\n",
    "Delta = 0.5\n",
    "\n",
    "weights_4,risk_4, mean_dist_sgd_4, indices = stochastic_gradient_descent(d, Delta, N, 0.4, epsilon = (1e-5), num_epochs = int(1e5))"
   ]
  },
  {
   "cell_type": "code",
   "execution_count": null,
   "id": "12297ddd",
   "metadata": {},
   "outputs": [],
   "source": [
    "indices = [1,2,5]+[int(a) for a in 10**(np.linspace(1.1, 5, 20))]\n",
    "fig, ax = plt.subplots()\n",
    "ax.scatter(indices, risk_4, marker = 'x', c = 'r')\n",
    "ax.set_xscale('log')\n",
    "ax.set_xlabel('Iterations')\n",
    "ax.set_ylabel('Risk')\n",
    "ax.set_title('PDE vs SGD Risk')\n",
    "plt.show()"
   ]
  },
  {
   "cell_type": "code",
   "execution_count": 154,
   "id": "3702bd01",
   "metadata": {},
   "outputs": [
    {
     "data": {
      "application/vnd.jupyter.widget-view+json": {
       "model_id": "0238c4be6cb04feb8227b0c1c24c6879",
       "version_major": 2,
       "version_minor": 0
      },
      "text/plain": [
       "  0%|          | 0/100 [00:00<?, ?it/s]"
      ]
     },
     "metadata": {},
     "output_type": "display_data"
    },
    {
     "data": {
      "text/plain": [
       "(array([ 2.,  5.,  7., 14., 18., 20.,  8., 14.,  6.,  6.]),\n",
       " array([6.95867552, 7.01822059, 7.07776566, 7.13731072, 7.19685579,\n",
       "        7.25640086, 7.31594592, 7.37549099, 7.43503606, 7.49458112,\n",
       "        7.55412619]),\n",
       " <BarContainer object of 10 artists>)"
      ]
     },
     "execution_count": 154,
     "metadata": {},
     "output_type": "execute_result"
    },
    {
     "data": {
      "image/png": "[encoded data removed]",
      "text/plain": [
       "<Figure size 640x480 with 1 Axes>"
      ]
     },
     "metadata": {},
     "output_type": "display_data"
    }
   ],
   "source": [
    "vals_SGD = []\n",
    "d = 320\n",
    "N = 800\n",
    "kappa = 0.4\n",
    "Delta = 0.5\n",
    "J = 400\n",
    "for i in trange(100): \n",
    "    weights = np.random.multivariate_normal([0]*d, np.diag([(kappa)**2/d]*d), N).reshape(N, d)\n",
    "    M = int(1e3)\n",
    "    x_sample, y_sample = random_sample(d, Delta, M)\n",
    "    mse = np.mean((y_sample-neural_net_nm(x_sample,weights))**2)\n",
    "    vals_SGD.append(mse)\n",
    "plt.hist(vals_SGD)"
   ]
  },
  {
   "cell_type": "code",
   "execution_count": null,
   "id": "802b87be",
   "metadata": {},
   "outputs": [],
   "source": []
  }
 ],
 "metadata": {
  "kernelspec": {
   "display_name": "Python 3 (ipykernel)",
   "language": "python",
   "name": "python3"
  },
  "language_info": {
   "codemirror_mode": {
    "name": "ipython",
    "version": 3
   },
   "file_extension": ".py",
   "mimetype": "text/x-python",
   "name": "python",
   "nbconvert_exporter": "python",
   "pygments_lexer": "ipython3",
   "version": "3.8.16"
  }
 },
 "nbformat": 4,
 "nbformat_minor": 5
}
